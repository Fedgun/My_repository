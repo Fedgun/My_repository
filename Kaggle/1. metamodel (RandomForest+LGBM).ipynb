{
 "cells": [
  {
   "cell_type": "code",
   "execution_count": 34,
   "id": "2f31cc9f",
   "metadata": {},
   "outputs": [],
   "source": [
    "import pandas as pd\n",
    "import numpy as np\n",
    "from sklearn.model_selection import train_test_split\n",
    "from sklearn.metrics import root_mean_squared_log_error, make_scorer, mean_squared_log_error\n",
    "from sklearn.model_selection import cross_val_score, cross_val_predict\n",
    "import lightgbm as lgb\n",
    "import optuna\n",
    "from sklearn import ensemble\n",
    "from sklearn.ensemble import StackingRegressor\n",
    "from sklearn import linear_model\n",
    "import matplotlib.pyplot as plt\n",
    "from sklearn.model_selection import KFold\n",
    "from xgboost import XGBRegressor\n"
   ]
  },
  {
   "cell_type": "code",
   "execution_count": 35,
   "id": "cf405caa",
   "metadata": {},
   "outputs": [],
   "source": [
    "train_df = pd.read_csv('data/train.csv')\n",
    "test_df = pd.read_csv('data/test.csv')"
   ]
  },
  {
   "cell_type": "code",
   "execution_count": 36,
   "id": "dc57b0df",
   "metadata": {},
   "outputs": [
    {
     "data": {
      "text/html": [
       "<div>\n",
       "<style scoped>\n",
       "    .dataframe tbody tr th:only-of-type {\n",
       "        vertical-align: middle;\n",
       "    }\n",
       "\n",
       "    .dataframe tbody tr th {\n",
       "        vertical-align: top;\n",
       "    }\n",
       "\n",
       "    .dataframe thead th {\n",
       "        text-align: right;\n",
       "    }\n",
       "</style>\n",
       "<table border=\"1\" class=\"dataframe\">\n",
       "  <thead>\n",
       "    <tr style=\"text-align: right;\">\n",
       "      <th></th>\n",
       "      <th>id</th>\n",
       "      <th>Sex</th>\n",
       "      <th>Age</th>\n",
       "      <th>Height</th>\n",
       "      <th>Weight</th>\n",
       "      <th>Duration</th>\n",
       "      <th>Heart_Rate</th>\n",
       "      <th>Body_Temp</th>\n",
       "      <th>Calories</th>\n",
       "    </tr>\n",
       "  </thead>\n",
       "  <tbody>\n",
       "    <tr>\n",
       "      <th>0</th>\n",
       "      <td>0</td>\n",
       "      <td>male</td>\n",
       "      <td>36</td>\n",
       "      <td>189.0</td>\n",
       "      <td>82.0</td>\n",
       "      <td>26.0</td>\n",
       "      <td>101.0</td>\n",
       "      <td>41.0</td>\n",
       "      <td>150.0</td>\n",
       "    </tr>\n",
       "    <tr>\n",
       "      <th>1</th>\n",
       "      <td>1</td>\n",
       "      <td>female</td>\n",
       "      <td>64</td>\n",
       "      <td>163.0</td>\n",
       "      <td>60.0</td>\n",
       "      <td>8.0</td>\n",
       "      <td>85.0</td>\n",
       "      <td>39.7</td>\n",
       "      <td>34.0</td>\n",
       "    </tr>\n",
       "    <tr>\n",
       "      <th>2</th>\n",
       "      <td>2</td>\n",
       "      <td>female</td>\n",
       "      <td>51</td>\n",
       "      <td>161.0</td>\n",
       "      <td>64.0</td>\n",
       "      <td>7.0</td>\n",
       "      <td>84.0</td>\n",
       "      <td>39.8</td>\n",
       "      <td>29.0</td>\n",
       "    </tr>\n",
       "    <tr>\n",
       "      <th>3</th>\n",
       "      <td>3</td>\n",
       "      <td>male</td>\n",
       "      <td>20</td>\n",
       "      <td>192.0</td>\n",
       "      <td>90.0</td>\n",
       "      <td>25.0</td>\n",
       "      <td>105.0</td>\n",
       "      <td>40.7</td>\n",
       "      <td>140.0</td>\n",
       "    </tr>\n",
       "    <tr>\n",
       "      <th>4</th>\n",
       "      <td>4</td>\n",
       "      <td>female</td>\n",
       "      <td>38</td>\n",
       "      <td>166.0</td>\n",
       "      <td>61.0</td>\n",
       "      <td>25.0</td>\n",
       "      <td>102.0</td>\n",
       "      <td>40.6</td>\n",
       "      <td>146.0</td>\n",
       "    </tr>\n",
       "  </tbody>\n",
       "</table>\n",
       "</div>"
      ],
      "text/plain": [
       "   id     Sex  Age  Height  Weight  Duration  Heart_Rate  Body_Temp  Calories\n",
       "0   0    male   36   189.0    82.0      26.0       101.0       41.0     150.0\n",
       "1   1  female   64   163.0    60.0       8.0        85.0       39.7      34.0\n",
       "2   2  female   51   161.0    64.0       7.0        84.0       39.8      29.0\n",
       "3   3    male   20   192.0    90.0      25.0       105.0       40.7     140.0\n",
       "4   4  female   38   166.0    61.0      25.0       102.0       40.6     146.0"
      ]
     },
     "execution_count": 36,
     "metadata": {},
     "output_type": "execute_result"
    }
   ],
   "source": [
    "train_df.head()"
   ]
  },
  {
   "cell_type": "code",
   "execution_count": 37,
   "id": "6c2d2cf5",
   "metadata": {},
   "outputs": [
    {
     "data": {
      "text/plain": [
       "id            0\n",
       "Sex           0\n",
       "Age           0\n",
       "Height        0\n",
       "Weight        0\n",
       "Duration      0\n",
       "Heart_Rate    0\n",
       "Body_Temp     0\n",
       "Calories      0\n",
       "dtype: int64"
      ]
     },
     "execution_count": 37,
     "metadata": {},
     "output_type": "execute_result"
    }
   ],
   "source": [
    "train_df.isna().sum() "
   ]
  },
  {
   "cell_type": "code",
   "execution_count": 38,
   "id": "15396a86",
   "metadata": {},
   "outputs": [],
   "source": [
    "# binary encoding\n",
    "\n",
    "train_df['Sex'] = train_df['Sex'].apply(lambda x: 1 if x == 'male' else 0)\n",
    "test_df['Sex'] = test_df['Sex'].apply(lambda x: 1 if x == 'male' else 0)"
   ]
  },
  {
   "cell_type": "code",
   "execution_count": 39,
   "id": "b97ad276",
   "metadata": {},
   "outputs": [],
   "source": [
    "def new_features(df):\n",
    "    \n",
    "    # Body mass index\n",
    "    df['BMR'] = np.where(\n",
    "        df['Sex'] == 1,\n",
    "        (66.1 + 13.8 * df['Weight'] + 5 * df['Height'] - 6.8 * df['Age'])/100,\n",
    "        (655 + 9.5 * df['Weight'] + 1.9 * df['Height']/100- 4.7 * df['Age'])/100\n",
    "    )\n",
    "    \n",
    "    # Training intensity\n",
    "    df['HR_per_kg'] = df['Heart_Rate']/df['Weight']\n",
    "    df['Temp_per_kg'] = df['Body_Temp']/df['Weight']\n",
    "    df['Pulse'] = df['Heart_Rate']*0.8\n",
    "    df['lower_limit_pulse'] = (220 - df['Age'])*0.6\n",
    "    df['upper_limit_ pulse'] = (220 - df['Age'])*0.8\n",
    "    df['Duration_HR'] = df['Heart_Rate']*df['Duration']\n",
    "    df['log_Duration_HR'] = np.log(df['Heart_Rate']*df['Duration'])\n",
    "    df['Duration_Age'] = df['Duration']*df['Age']\n",
    "    df['log_Duration_Age'] = np.log(df['Duration']*df['Age'])\n",
    "    df['Age_HR'] = df['Age']*df['Heart_Rate']\n",
    "    df['log_Age_HR'] = np.log(df['Age']*df['Heart_Rate'])\n",
    "    df['Duration/Weight'] = df['Weight']*df['Duration']\n",
    "    df['log_Duration/Weight'] = np.log(df['Weight']*df['Duration'])\n",
    "    \n",
    "    # Age Groups\n",
    "    df['Age_Group'] = df['Age'].apply(lambda x: 0 if x <= 35 else 1 if x <= 55 else 2)\n",
    "    \n",
    "    \n",
    "    \n",
    "    return df"
   ]
  },
  {
   "cell_type": "code",
   "execution_count": 40,
   "id": "7f98286f",
   "metadata": {},
   "outputs": [],
   "source": [
    "# Launch func\n",
    "\n",
    "train_df = new_features(train_df)\n",
    "test_df = new_features(test_df)"
   ]
  },
  {
   "cell_type": "code",
   "execution_count": 41,
   "id": "f422372b",
   "metadata": {},
   "outputs": [],
   "source": [
    "# df split\n",
    "\n",
    "X_train = train_df.drop(['Calories', 'id'], axis=1)\n",
    "y_train = train_df['Calories']\n",
    "\n",
    "X_test = test_df.drop(['id'], axis=1)"
   ]
  },
  {
   "cell_type": "code",
   "execution_count": 45,
   "id": "06b919d8",
   "metadata": {},
   "outputs": [],
   "source": [
    "def objective(trial):\n",
    "    params = {\n",
    "        'n_estimators': trial.suggest_int('n_estimators', 100, 500),\n",
    "        'max_depth': trial.suggest_int('max_depth', 3, 16),\n",
    "        'learning_rate': trial.suggest_float('learning_rate', 0.01, 0.3, log=True),\n",
    "        'subsample': trial.suggest_float('subsample', 0.5, 1.0),\n",
    "        'colsample_bytree': trial.suggest_float('colsample_bytree', 0.5, 1.0),\n",
    "        'gamma': trial.suggest_float('gamma', 0, 5),  # минимальный прирост для деления\n",
    "        'reg_alpha': trial.suggest_float('reg_alpha', 0, 5),  # L1-регуляризация\n",
    "        'reg_lambda': trial.suggest_float('reg_lambda', 0, 5),  # L2-регуляризация\n",
    "        'min_child_weight': trial.suggest_int('min_child_weight', 1, 10),  # минимальное количество веса в узле\n",
    "        'objective': 'reg:squaredlogerror',  # специально для RMSLE\n",
    "        'random_state': 42,\n",
    "        'verbosity': 0,\n",
    "        'n_jobs': -1\n",
    "    }\n",
    "\n",
    "    model = XGBRegressor(**params)\n",
    "    model.fit(X_train, y_train)\n",
    "\n",
    "    y_pred = model.predict(X_train)\n",
    "    y_pred = np.maximum(0, y_pred)  # устраняем отрицательные значения\n",
    "\n",
    "    try:\n",
    "        rmsle = root_mean_squared_log_error(y_train, y_pred)\n",
    "    except ValueError:\n",
    "        return float('inf')\n",
    "\n",
    "    return rmsle"
   ]
  },
  {
   "cell_type": "code",
   "execution_count": 46,
   "id": "70183625",
   "metadata": {},
   "outputs": [
    {
     "name": "stderr",
     "output_type": "stream",
     "text": [
      "[I 2025-05-26 00:52:21,898] A new study created in memory with name: no-name-7b4034f2-07f6-4abe-96a1-912c21f3c435\n",
      "[I 2025-05-26 00:52:26,417] Trial 0 finished with value: 0.1086381576690694 and parameters: {'n_estimators': 149, 'max_depth': 6, 'learning_rate': 0.0799254065061866, 'subsample': 0.5611940113361904, 'colsample_bytree': 0.7241383957499357, 'gamma': 4.517452286374891, 'reg_alpha': 2.859943328638158, 'reg_lambda': 3.059685265696362, 'min_child_weight': 7}. Best is trial 0 with value: 0.1086381576690694.\n",
      "[I 2025-05-26 00:52:33,276] Trial 1 finished with value: 2.271968484598473 and parameters: {'n_estimators': 279, 'max_depth': 16, 'learning_rate': 0.24800790711541704, 'subsample': 0.823187336098596, 'colsample_bytree': 0.8675065124905266, 'gamma': 0.9945442244760716, 'reg_alpha': 0.20330281664859562, 'reg_lambda': 2.8818586023036947, 'min_child_weight': 7}. Best is trial 0 with value: 0.1086381576690694.\n",
      "[I 2025-05-26 00:52:37,094] Trial 2 finished with value: 0.12526179417704555 and parameters: {'n_estimators': 136, 'max_depth': 10, 'learning_rate': 0.17680851821002053, 'subsample': 0.549526261337548, 'colsample_bytree': 0.8602599536447288, 'gamma': 2.4660599737456694, 'reg_alpha': 1.629494489516814, 'reg_lambda': 0.4761274140394872, 'min_child_weight': 10}. Best is trial 0 with value: 0.1086381576690694.\n",
      "[I 2025-05-26 00:52:44,391] Trial 3 finished with value: 0.14752492459712835 and parameters: {'n_estimators': 228, 'max_depth': 11, 'learning_rate': 0.011030919321076317, 'subsample': 0.7256647994590146, 'colsample_bytree': 0.6056345901954396, 'gamma': 0.1348842418654156, 'reg_alpha': 4.650089263188255, 'reg_lambda': 2.882533506288147, 'min_child_weight': 10}. Best is trial 0 with value: 0.1086381576690694.\n",
      "[I 2025-05-26 00:52:55,029] Trial 4 finished with value: 0.11229386501619028 and parameters: {'n_estimators': 349, 'max_depth': 15, 'learning_rate': 0.01726000075060959, 'subsample': 0.6966902596693354, 'colsample_bytree': 0.7664568773949365, 'gamma': 2.1820607955462616, 'reg_alpha': 0.25909391280114213, 'reg_lambda': 4.551882627223675, 'min_child_weight': 9}. Best is trial 0 with value: 0.1086381576690694.\n",
      "[I 2025-05-26 00:53:00,166] Trial 5 finished with value: 2.1468022742408444 and parameters: {'n_estimators': 169, 'max_depth': 6, 'learning_rate': 0.21989039472644473, 'subsample': 0.7548921954326555, 'colsample_bytree': 0.7535998432173212, 'gamma': 0.16625556481599912, 'reg_alpha': 0.6771314776798537, 'reg_lambda': 1.358817536631206, 'min_child_weight': 5}. Best is trial 0 with value: 0.1086381576690694.\n",
      "[I 2025-05-26 00:53:11,594] Trial 6 finished with value: 0.08758317977095155 and parameters: {'n_estimators': 417, 'max_depth': 14, 'learning_rate': 0.0877777489068198, 'subsample': 0.7098977317533457, 'colsample_bytree': 0.8121384786808934, 'gamma': 0.3521451610057791, 'reg_alpha': 0.2746564223222009, 'reg_lambda': 1.4451923340078376, 'min_child_weight': 7}. Best is trial 6 with value: 0.08758317977095155.\n",
      "[I 2025-05-26 00:53:15,024] Trial 7 finished with value: 0.10465696080049411 and parameters: {'n_estimators': 151, 'max_depth': 8, 'learning_rate': 0.29458403630139207, 'subsample': 0.5196903424075434, 'colsample_bytree': 0.8780457800522008, 'gamma': 4.684084670500467, 'reg_alpha': 2.7536243958346907, 'reg_lambda': 1.2558884050175168, 'min_child_weight': 7}. Best is trial 6 with value: 0.08758317977095155.\n",
      "[I 2025-05-26 00:53:29,790] Trial 8 finished with value: 0.09048286714107402 and parameters: {'n_estimators': 456, 'max_depth': 9, 'learning_rate': 0.012359286581861157, 'subsample': 0.80168913250985, 'colsample_bytree': 0.6373689001450275, 'gamma': 4.104010209654869, 'reg_alpha': 0.7228340048722454, 'reg_lambda': 3.480409933104541, 'min_child_weight': 1}. Best is trial 6 with value: 0.08758317977095155.\n",
      "[I 2025-05-26 00:53:33,139] Trial 9 finished with value: 2.417853256919191 and parameters: {'n_estimators': 135, 'max_depth': 10, 'learning_rate': 0.26173316118063894, 'subsample': 0.8717030195504135, 'colsample_bytree': 0.7214881636544855, 'gamma': 2.01739577472587, 'reg_alpha': 1.71288580214068, 'reg_lambda': 0.9940626476647252, 'min_child_weight': 10}. Best is trial 6 with value: 0.08758317977095155.\n",
      "[I 2025-05-26 00:53:46,145] Trial 10 finished with value: 0.07825112781124598 and parameters: {'n_estimators': 487, 'max_depth': 13, 'learning_rate': 0.040125936436695715, 'subsample': 0.9975058453701848, 'colsample_bytree': 0.9990939353642065, 'gamma': 3.4542526931365116, 'reg_alpha': 4.289608200663624, 'reg_lambda': 1.9631562578376107, 'min_child_weight': 3}. Best is trial 10 with value: 0.07825112781124598.\n",
      "[I 2025-05-26 00:53:59,108] Trial 11 finished with value: 0.0785993573465689 and parameters: {'n_estimators': 500, 'max_depth': 13, 'learning_rate': 0.040982135337930034, 'subsample': 0.9910488469437614, 'colsample_bytree': 0.9619679162149102, 'gamma': 3.476182118272008, 'reg_alpha': 4.429181290919285, 'reg_lambda': 2.045550263742524, 'min_child_weight': 3}. Best is trial 10 with value: 0.07825112781124598.\n",
      "[I 2025-05-26 00:54:11,762] Trial 12 finished with value: 0.07672927902306258 and parameters: {'n_estimators': 499, 'max_depth': 13, 'learning_rate': 0.03141314109270883, 'subsample': 0.9873718451740553, 'colsample_bytree': 0.997336082595699, 'gamma': 3.5790698836982116, 'reg_alpha': 4.818952097412181, 'reg_lambda': 2.1951529054620647, 'min_child_weight': 2}. Best is trial 12 with value: 0.07672927902306258.\n",
      "[I 2025-05-26 00:54:23,108] Trial 13 finished with value: 0.07653402163867513 and parameters: {'n_estimators': 378, 'max_depth': 12, 'learning_rate': 0.027719989061834944, 'subsample': 0.9915943189348824, 'colsample_bytree': 0.9919058677634016, 'gamma': 3.347506888659149, 'reg_alpha': 3.8360303486092104, 'reg_lambda': 2.1230976358464986, 'min_child_weight': 2}. Best is trial 13 with value: 0.07653402163867513.\n",
      "[I 2025-05-26 00:54:32,384] Trial 14 finished with value: 0.10819180508904813 and parameters: {'n_estimators': 392, 'max_depth': 3, 'learning_rate': 0.023385463016524385, 'subsample': 0.9160828538789622, 'colsample_bytree': 0.5149188801533515, 'gamma': 3.3690314088992164, 'reg_alpha': 3.615865617942285, 'reg_lambda': 4.067564743169398, 'min_child_weight': 1}. Best is trial 13 with value: 0.07653402163867513.\n",
      "[I 2025-05-26 00:54:43,652] Trial 15 finished with value: 0.0809317384723107 and parameters: {'n_estimators': 341, 'max_depth': 12, 'learning_rate': 0.02684474996033454, 'subsample': 0.932488091748152, 'colsample_bytree': 0.9394548283382205, 'gamma': 2.9585220311616425, 'reg_alpha': 3.7552814463728854, 'reg_lambda': 2.3140081762205384, 'min_child_weight': 3}. Best is trial 13 with value: 0.07653402163867513.\n",
      "[I 2025-05-26 00:54:53,171] Trial 16 finished with value: 0.8369741582277255 and parameters: {'n_estimators': 421, 'max_depth': 16, 'learning_rate': 0.05821482030108541, 'subsample': 0.922688434738988, 'colsample_bytree': 0.9289344124968506, 'gamma': 4.031672138191752, 'reg_alpha': 3.7378260340021328, 'reg_lambda': 0.39416526796182505, 'min_child_weight': 4}. Best is trial 13 with value: 0.07653402163867513.\n",
      "[I 2025-05-26 00:55:02,750] Trial 17 finished with value: 0.08249969159483118 and parameters: {'n_estimators': 282, 'max_depth': 12, 'learning_rate': 0.030319275940838157, 'subsample': 0.848037130649259, 'colsample_bytree': 0.9788754536390862, 'gamma': 1.5491580683398896, 'reg_alpha': 4.816721450364993, 'reg_lambda': 3.4849170369553506, 'min_child_weight': 2}. Best is trial 13 with value: 0.07653402163867513.\n",
      "[I 2025-05-26 00:55:13,806] Trial 18 finished with value: 0.09899648597565064 and parameters: {'n_estimators': 369, 'max_depth': 14, 'learning_rate': 0.018898373456730243, 'subsample': 0.6060591021720887, 'colsample_bytree': 0.9044616433060757, 'gamma': 2.8936742143261314, 'reg_alpha': 3.302445476235085, 'reg_lambda': 1.752463424643485, 'min_child_weight': 5}. Best is trial 13 with value: 0.07653402163867513.\n",
      "[I 2025-05-26 00:55:23,679] Trial 19 finished with value: 0.07618691875887537 and parameters: {'n_estimators': 462, 'max_depth': 8, 'learning_rate': 0.0968586365112448, 'subsample': 0.96166941141416, 'colsample_bytree': 0.8419204641832039, 'gamma': 3.9606521249912334, 'reg_alpha': 4.154212683209835, 'reg_lambda': 2.539049208494977, 'min_child_weight': 2}. Best is trial 19 with value: 0.07618691875887537.\n",
      "[I 2025-05-26 00:55:32,886] Trial 20 finished with value: 0.7725237687744856 and parameters: {'n_estimators': 442, 'max_depth': 7, 'learning_rate': 0.1301700137162823, 'subsample': 0.6511785335831837, 'colsample_bytree': 0.8272776446601473, 'gamma': 4.974249231879988, 'reg_alpha': 2.3437279757711655, 'reg_lambda': 2.5748978896682497, 'min_child_weight': 4}. Best is trial 19 with value: 0.07618691875887537.\n",
      "[I 2025-05-26 00:55:42,391] Trial 21 finished with value: 0.7511105385685194 and parameters: {'n_estimators': 466, 'max_depth': 4, 'learning_rate': 0.058722760007518277, 'subsample': 0.9650041107346916, 'colsample_bytree': 0.9932015999392816, 'gamma': 3.889678290797783, 'reg_alpha': 4.990539871477573, 'reg_lambda': 2.3437218459388403, 'min_child_weight': 2}. Best is trial 19 with value: 0.07618691875887537.\n",
      "[I 2025-05-26 00:55:51,529] Trial 22 finished with value: 0.34274693608987006 and parameters: {'n_estimators': 396, 'max_depth': 11, 'learning_rate': 0.10228183146877944, 'subsample': 0.8879732483333418, 'colsample_bytree': 0.8040391217696538, 'gamma': 2.8816718788921776, 'reg_alpha': 4.070193344600462, 'reg_lambda': 3.349457973542452, 'min_child_weight': 2}. Best is trial 19 with value: 0.07618691875887537.\n",
      "[I 2025-05-26 00:55:59,915] Trial 23 finished with value: 0.07468214730451826 and parameters: {'n_estimators': 314, 'max_depth': 9, 'learning_rate': 0.04577644228222788, 'subsample': 0.9550747693229438, 'colsample_bytree': 0.911763309978304, 'gamma': 3.7556417442975936, 'reg_alpha': 4.138355090222633, 'reg_lambda': 2.5511075986279423, 'min_child_weight': 1}. Best is trial 23 with value: 0.07468214730451826.\n",
      "[I 2025-05-26 00:56:08,429] Trial 24 finished with value: 0.07796913149472628 and parameters: {'n_estimators': 309, 'max_depth': 8, 'learning_rate': 0.04449963625364056, 'subsample': 0.9471741111632881, 'colsample_bytree': 0.9086124825525649, 'gamma': 4.444415524660806, 'reg_alpha': 3.2180699131543236, 'reg_lambda': 4.047629917885206, 'min_child_weight': 1}. Best is trial 23 with value: 0.07468214730451826.\n",
      "[I 2025-05-26 00:56:17,332] Trial 25 finished with value: 0.27011669781010506 and parameters: {'n_estimators': 321, 'max_depth': 9, 'learning_rate': 0.07382191235578175, 'subsample': 0.889134124657128, 'colsample_bytree': 0.942402137956267, 'gamma': 3.0929174159117876, 'reg_alpha': 4.115176831905229, 'reg_lambda': 2.559754452214677, 'min_child_weight': 1}. Best is trial 23 with value: 0.07468214730451826.\n",
      "[I 2025-05-26 00:56:23,144] Trial 26 finished with value: 0.2741075618468504 and parameters: {'n_estimators': 250, 'max_depth': 5, 'learning_rate': 0.1208899259458624, 'subsample': 0.798499587625878, 'colsample_bytree': 0.8454267999749614, 'gamma': 3.8893022005916023, 'reg_alpha': 3.4269558007130403, 'reg_lambda': 1.6980583774175897, 'min_child_weight': 4}. Best is trial 23 with value: 0.07468214730451826.\n",
      "[I 2025-05-26 00:56:28,839] Trial 27 finished with value: 0.7936855000159737 and parameters: {'n_estimators': 198, 'max_depth': 8, 'learning_rate': 0.051596822573476926, 'subsample': 0.9582100648164881, 'colsample_bytree': 0.8961328708126262, 'gamma': 4.198176577861249, 'reg_alpha': 4.013212531208521, 'reg_lambda': 0.9168395321942695, 'min_child_weight': 3}. Best is trial 23 with value: 0.07468214730451826.\n",
      "[I 2025-05-26 00:56:39,677] Trial 28 finished with value: 0.07753087050296359 and parameters: {'n_estimators': 372, 'max_depth': 7, 'learning_rate': 0.03317232939322941, 'subsample': 0.9087935480177046, 'colsample_bytree': 0.7786412684107898, 'gamma': 2.5862126297733568, 'reg_alpha': 2.134202089969399, 'reg_lambda': 3.8748972959873793, 'min_child_weight': 2}. Best is trial 23 with value: 0.07468214730451826.\n",
      "[I 2025-05-26 00:56:49,864] Trial 29 finished with value: 0.09103382560173257 and parameters: {'n_estimators': 420, 'max_depth': 11, 'learning_rate': 0.07250027242503485, 'subsample': 0.8405165050546429, 'colsample_bytree': 0.716553942555851, 'gamma': 4.515219409246535, 'reg_alpha': 2.9820739349267043, 'reg_lambda': 3.0378512099161648, 'min_child_weight': 6}. Best is trial 23 with value: 0.07468214730451826.\n",
      "[I 2025-05-26 00:56:53,452] Trial 30 finished with value: 0.16364691977688195 and parameters: {'n_estimators': 103, 'max_depth': 7, 'learning_rate': 0.01974416948690886, 'subsample': 0.9613869323208152, 'colsample_bytree': 0.9537303745273924, 'gamma': 3.7918732821038024, 'reg_alpha': 4.471679098624511, 'reg_lambda': 2.772339693227767, 'min_child_weight': 1}. Best is trial 23 with value: 0.07468214730451826.\n",
      "[I 2025-05-26 00:57:05,874] Trial 31 finished with value: 0.07648570355245154 and parameters: {'n_estimators': 476, 'max_depth': 12, 'learning_rate': 0.032520919227096844, 'subsample': 0.9900031614444962, 'colsample_bytree': 0.9696310141425013, 'gamma': 3.5599332416848726, 'reg_alpha': 4.699871277011125, 'reg_lambda': 2.1503661340419584, 'min_child_weight': 2}. Best is trial 23 with value: 0.07468214730451826.\n",
      "[I 2025-05-26 00:57:23,207] Trial 32 finished with value: 0.07875912858151495 and parameters: {'n_estimators': 469, 'max_depth': 10, 'learning_rate': 0.01567362735073439, 'subsample': 0.9689336757154975, 'colsample_bytree': 0.9198930468012642, 'gamma': 3.209567860748014, 'reg_alpha': 3.9829018005408066, 'reg_lambda': 1.8009952494679975, 'min_child_weight': 2}. Best is trial 23 with value: 0.07468214730451826.\n",
      "[I 2025-05-26 00:57:36,139] Trial 33 finished with value: 0.08181812334446864 and parameters: {'n_estimators': 441, 'max_depth': 12, 'learning_rate': 0.022406301942509615, 'subsample': 0.9975793330850712, 'colsample_bytree': 0.8759152122707866, 'gamma': 4.3023739129323015, 'reg_alpha': 4.475986665704873, 'reg_lambda': 2.6324920725262664, 'min_child_weight': 3}. Best is trial 23 with value: 0.07468214730451826.\n",
      "[I 2025-05-26 00:57:42,382] Trial 34 finished with value: 1.611033531675081 and parameters: {'n_estimators': 271, 'max_depth': 9, 'learning_rate': 0.15764974759962322, 'subsample': 0.9275572078581297, 'colsample_bytree': 0.9638051950837522, 'gamma': 3.78012635161565, 'reg_alpha': 4.605411610637645, 'reg_lambda': 3.2381565505369787, 'min_child_weight': 1}. Best is trial 23 with value: 0.07468214730451826.\n",
      "[I 2025-05-26 00:57:51,943] Trial 35 finished with value: 0.08296152119825762 and parameters: {'n_estimators': 332, 'max_depth': 11, 'learning_rate': 0.04808153381816501, 'subsample': 0.8679803943148104, 'colsample_bytree': 0.8485515114081827, 'gamma': 2.4485980346546086, 'reg_alpha': 3.76229488741321, 'reg_lambda': 2.8755985753870226, 'min_child_weight': 4}. Best is trial 23 with value: 0.07468214730451826.\n",
      "[I 2025-05-26 00:58:01,408] Trial 36 finished with value: 0.09437066092942022 and parameters: {'n_estimators': 364, 'max_depth': 10, 'learning_rate': 0.037168086978996914, 'subsample': 0.946414040634545, 'colsample_bytree': 0.8819905295484893, 'gamma': 4.839309609502992, 'reg_alpha': 4.223144367300466, 'reg_lambda': 2.2250802610485816, 'min_child_weight': 8}. Best is trial 23 with value: 0.07468214730451826.\n",
      "[I 2025-05-26 00:58:15,754] Trial 37 finished with value: 0.08915990488168163 and parameters: {'n_estimators': 403, 'max_depth': 15, 'learning_rate': 0.014593201353584108, 'subsample': 0.748805606787571, 'colsample_bytree': 0.9283685685308781, 'gamma': 3.6486672283622124, 'reg_alpha': 4.990402504408517, 'reg_lambda': 1.983691459109446, 'min_child_weight': 2}. Best is trial 23 with value: 0.07468214730451826.\n",
      "[I 2025-05-26 00:58:27,103] Trial 38 finished with value: 0.0823808824937972 and parameters: {'n_estimators': 445, 'max_depth': 6, 'learning_rate': 0.06245800892942846, 'subsample': 0.9057230372117435, 'colsample_bytree': 0.6816982144657293, 'gamma': 2.6795920530260586, 'reg_alpha': 2.9970411549179965, 'reg_lambda': 1.5666608591595885, 'min_child_weight': 5}. Best is trial 23 with value: 0.07468214730451826.\n",
      "[I 2025-05-26 00:58:34,306] Trial 39 finished with value: 0.07860107488384448 and parameters: {'n_estimators': 291, 'max_depth': 14, 'learning_rate': 0.09773011679866651, 'subsample': 0.8178334201918058, 'colsample_bytree': 0.7863865502753647, 'gamma': 3.315613825784128, 'reg_alpha': 4.682095909838846, 'reg_lambda': 1.031482063240719, 'min_child_weight': 3}. Best is trial 23 with value: 0.07468214730451826.\n",
      "[I 2025-05-26 00:58:41,382] Trial 40 finished with value: 0.09740182929092123 and parameters: {'n_estimators': 223, 'max_depth': 8, 'learning_rate': 0.027671905700175588, 'subsample': 0.9745038726717514, 'colsample_bytree': 0.9695084915146651, 'gamma': 2.1055130231886525, 'reg_alpha': 3.4894080056688654, 'reg_lambda': 4.9811022395853755, 'min_child_weight': 6}. Best is trial 23 with value: 0.07468214730451826.\n",
      "[I 2025-05-26 00:58:54,372] Trial 41 finished with value: 0.07645811876845893 and parameters: {'n_estimators': 482, 'max_depth': 13, 'learning_rate': 0.0348268812995342, 'subsample': 0.9781560524315951, 'colsample_bytree': 0.9942142591583497, 'gamma': 3.6827852284260856, 'reg_alpha': 4.728019907087367, 'reg_lambda': 2.1744446957519266, 'min_child_weight': 2}. Best is trial 23 with value: 0.07468214730451826.\n",
      "[I 2025-05-26 00:59:07,615] Trial 42 finished with value: 0.07478610181829011 and parameters: {'n_estimators': 476, 'max_depth': 15, 'learning_rate': 0.03760488132497877, 'subsample': 0.9472558131399159, 'colsample_bytree': 0.9717254074066672, 'gamma': 4.14363777611352, 'reg_alpha': 4.3302615111728135, 'reg_lambda': 2.353210068434718, 'min_child_weight': 1}. Best is trial 23 with value: 0.07468214730451826.\n",
      "[I 2025-05-26 00:59:20,322] Trial 43 finished with value: 0.07625771176675393 and parameters: {'n_estimators': 480, 'max_depth': 15, 'learning_rate': 0.0352648990654806, 'subsample': 0.944926222417076, 'colsample_bytree': 0.9517202644676129, 'gamma': 4.203825381433211, 'reg_alpha': 4.367473726819764, 'reg_lambda': 3.0524431977155593, 'min_child_weight': 1}. Best is trial 23 with value: 0.07468214730451826.\n",
      "[I 2025-05-26 00:59:31,469] Trial 44 finished with value: 0.6269543425588009 and parameters: {'n_estimators': 484, 'max_depth': 15, 'learning_rate': 0.0676385902099794, 'subsample': 0.8850328062405567, 'colsample_bytree': 0.8912504862780362, 'gamma': 4.74487275666941, 'reg_alpha': 4.313984298607213, 'reg_lambda': 3.0861330119047787, 'min_child_weight': 1}. Best is trial 23 with value: 0.07468214730451826.\n",
      "[I 2025-05-26 00:59:43,678] Trial 45 finished with value: 0.0725814635758483 and parameters: {'n_estimators': 453, 'max_depth': 16, 'learning_rate': 0.03836061781229073, 'subsample': 0.9464266118634337, 'colsample_bytree': 0.9438064950301522, 'gamma': 4.339404833944376, 'reg_alpha': 1.0324115848941917, 'reg_lambda': 2.7831098098578195, 'min_child_weight': 1}. Best is trial 45 with value: 0.0725814635758483.\n",
      "[I 2025-05-26 00:59:55,944] Trial 46 finished with value: 0.07308935569968344 and parameters: {'n_estimators': 447, 'max_depth': 16, 'learning_rate': 0.04295391893019259, 'subsample': 0.9395868765621188, 'colsample_bytree': 0.8682628187266288, 'gamma': 4.303207257786853, 'reg_alpha': 1.0822284710471768, 'reg_lambda': 3.655108415401169, 'min_child_weight': 1}. Best is trial 45 with value: 0.0725814635758483.\n",
      "[I 2025-05-26 01:00:07,438] Trial 47 finished with value: 0.07451467711876107 and parameters: {'n_estimators': 431, 'max_depth': 16, 'learning_rate': 0.0451197099538731, 'subsample': 0.8622305564727274, 'colsample_bytree': 0.8640270411066296, 'gamma': 4.608110205305627, 'reg_alpha': 0.9527264008479367, 'reg_lambda': 3.692262077017704, 'min_child_weight': 1}. Best is trial 45 with value: 0.0725814635758483.\n",
      "[I 2025-05-26 01:00:18,864] Trial 48 finished with value: 0.07575750613598899 and parameters: {'n_estimators': 432, 'max_depth': 16, 'learning_rate': 0.04683340055465288, 'subsample': 0.7793634517478631, 'colsample_bytree': 0.8189405059842672, 'gamma': 4.635642656919934, 'reg_alpha': 0.9496589810275438, 'reg_lambda': 3.7152130106595074, 'min_child_weight': 1}. Best is trial 45 with value: 0.0725814635758483.\n",
      "[I 2025-05-26 01:00:30,379] Trial 49 finished with value: 0.0763801261269756 and parameters: {'n_estimators': 409, 'max_depth': 16, 'learning_rate': 0.044023736671599444, 'subsample': 0.8461884059591026, 'colsample_bytree': 0.8696312248678718, 'gamma': 4.383134521036578, 'reg_alpha': 1.1234464095914058, 'reg_lambda': 4.366251861335561, 'min_child_weight': 1}. Best is trial 45 with value: 0.0725814635758483.\n"
     ]
    },
    {
     "name": "stdout",
     "output_type": "stream",
     "text": [
      "Лучшие параметры: {'n_estimators': 453, 'max_depth': 16, 'learning_rate': 0.03836061781229073, 'subsample': 0.9464266118634337, 'colsample_bytree': 0.9438064950301522, 'gamma': 4.339404833944376, 'reg_alpha': 1.0324115848941917, 'reg_lambda': 2.7831098098578195, 'min_child_weight': 1}\n",
      "Лучшее значение RMSLE: 0.0725814635758483\n"
     ]
    }
   ],
   "source": [
    "study = optuna.create_study(direction=\"minimize\")\n",
    "study.optimize(objective, n_trials=50, timeout=600)  # 50 попыток или 10 минут\n",
    "\n",
    "print(\"Лучшие параметры:\", study.best_params)\n",
    "print(\"Лучшее значение RMSLE:\", study.best_value)"
   ]
  },
  {
   "cell_type": "code",
   "execution_count": 51,
   "id": "557a7716",
   "metadata": {},
   "outputs": [],
   "source": [
    "xgb_params = {'n_estimators': 453,\n",
    " 'max_depth': 16,\n",
    " 'learning_rate': 0.03836061781229073,\n",
    " 'subsample': 0.9464266118634337,\n",
    " 'colsample_bytree': 0.9438064950301522,\n",
    " 'gamma': 4.339404833944376,\n",
    " 'reg_alpha': 1.0324115848941917,\n",
    " 'reg_lambda': 2.7831098098578195,\n",
    " 'min_child_weight': 1\n",
    " }"
   ]
  },
  {
   "cell_type": "code",
   "execution_count": null,
   "id": "443688cf",
   "metadata": {},
   "outputs": [
    {
     "name": "stdout",
     "output_type": "stream",
     "text": [
      "RMSLE_train: 0.06091\n"
     ]
    }
   ],
   "source": [
    "xgb_model = XGBRegressor(**xgb_params)\n",
    "xgb_model.fit(X_train, y_train)\n",
    "\n",
    "# Prediction\n",
    "y_pred_xgb = cross_val_predict(xgb_model, X_train, y_train, cv=5)\n",
    "\n",
    "print(f'RMSLE_train: {round(root_mean_squared_log_error(y_pred_xgb , y_train),5)}')"
   ]
  },
  {
   "cell_type": "code",
   "execution_count": 53,
   "id": "6cf2a7b1",
   "metadata": {},
   "outputs": [
    {
     "name": "stdout",
     "output_type": "stream",
     "text": [
      "             feature  importance\n",
      "14   log_Duration_HR    0.551270\n",
      "13       Duration_HR    0.412768\n",
      "0                Sex    0.015281\n",
      "17            Age_HR    0.008164\n",
      "4           Duration    0.004495\n",
      "18        log_Age_HR    0.003188\n",
      "5         Heart_Rate    0.001398\n",
      "10             Pulse    0.001307\n",
      "7                BMR    0.000462\n",
      "15      Duration_Age    0.000382\n",
      "3             Weight    0.000356\n",
      "9        Temp_per_kg    0.000188\n",
      "19   Duration/Weight    0.000174\n",
      "16  log_Duration_Age    0.000103\n",
      "8          HR_per_kg    0.000101\n"
     ]
    },
    {
     "data": {
      "image/png": "[encoded data removed]",
      "text/plain": [
       "<Figure size 1000x600 with 1 Axes>"
      ]
     },
     "metadata": {},
     "output_type": "display_data"
    }
   ],
   "source": [
    "# Получаем важности\n",
    "importance_df = pd.DataFrame({\n",
    "    \"feature\": X_train.columns,\n",
    "    \"importance\": xgb_model.feature_importances_\n",
    "}).sort_values(by=\"importance\", ascending=False)\n",
    "\n",
    "# Печатаем топ-N\n",
    "print(importance_df.head(15))\n",
    "\n",
    "# Визуализация\n",
    "plt.figure(figsize=(10, 6))\n",
    "plt.barh(importance_df[\"feature\"].head(15)[::-1], importance_df[\"importance\"].head(15)[::-1])\n",
    "plt.title(\"Feature Importance (XGBoost)\")\n",
    "plt.xlabel(\"Importance\")\n",
    "plt.tight_layout()\n",
    "plt.show()"
   ]
  },
  {
   "cell_type": "code",
   "execution_count": 55,
   "id": "7270f9b7",
   "metadata": {},
   "outputs": [],
   "source": [
    "top_features = list(importance_df['feature'].values)[:20]"
   ]
  },
  {
   "cell_type": "code",
   "execution_count": 56,
   "id": "9cde9044",
   "metadata": {},
   "outputs": [],
   "source": [
    "X_train_top = X_train[top_features]\n",
    "X_test_top = X_test[top_features]"
   ]
  },
  {
   "cell_type": "code",
   "execution_count": 57,
   "id": "ea492c86",
   "metadata": {},
   "outputs": [
    {
     "name": "stdout",
     "output_type": "stream",
     "text": [
      "RMSLE_train: 0.06096\n"
     ]
    }
   ],
   "source": [
    "xgb_model = XGBRegressor(**xgb_params)\n",
    "xgb_model.fit(X_train, y_train)\n",
    "\n",
    "# Prediction\n",
    "y_pred_xgb = cross_val_predict(xgb_model, X_train_top, y_train, cv=5)\n",
    "\n",
    "print(f'RMSLE_train: {round(root_mean_squared_log_error(y_pred_xgb , y_train),5)}')"
   ]
  },
  {
   "cell_type": "code",
   "execution_count": 69,
   "id": "16c998e7",
   "metadata": {},
   "outputs": [],
   "source": [
    "tree_params = {'n_estimators': 174, 'max_depth': 17, 'min_samples_split': 10, 'min_samples_leaf': 2, 'max_features': 'log2','n_jobs': -1}"
   ]
  },
  {
   "cell_type": "code",
   "execution_count": 70,
   "id": "c0990542",
   "metadata": {},
   "outputs": [
    {
     "name": "stdout",
     "output_type": "stream",
     "text": [
      "RMSLE_train: 0.06109\n"
     ]
    }
   ],
   "source": [
    "model_tree = ensemble.RandomForestRegressor(**tree_params)\n",
    "\n",
    "model_tree.fit(X_train_top, y_train)\n",
    "\n",
    "# Prediction\n",
    "y_pred_tree= cross_val_predict(model_tree, X_train_top, y_train, cv=5)\n",
    "\n",
    "# Prediction\n",
    "print(f'RMSLE_train: {round(root_mean_squared_log_error(y_pred_tree, y_train),5)}')"
   ]
  },
  {
   "cell_type": "code",
   "execution_count": 71,
   "id": "6e985a30",
   "metadata": {},
   "outputs": [
    {
     "name": "stdout",
     "output_type": "stream",
     "text": [
      "RMSLE_CV: 0.06046 ± 0.00091\n"
     ]
    }
   ],
   "source": [
    "# Метрика RMSLE\n",
    "def rmsle(y_true, y_pred):\n",
    "    return mean_squared_log_error(y_true, y_pred) ** 0.5\n",
    "\n",
    "rmsle_scorer = make_scorer(rmsle, greater_is_better=False)\n",
    "\n",
    "# --------------------------\n",
    "# Базовые модели\n",
    "base_models = [\n",
    "    ('rf', ensemble.RandomForestRegressor(**tree_params)),\n",
    "    ('lgbm', XGBRegressor(**xgb_params))\n",
    "]\n",
    "\n",
    "# Мета-модель\n",
    "meta_model = linear_model.LinearRegression()\n",
    "\n",
    "# Стекинг-модель\n",
    "stacked_model = StackingRegressor(\n",
    "    estimators=base_models,\n",
    "    final_estimator=meta_model,\n",
    "    cv=5,\n",
    "    n_jobs=-1\n",
    ")\n",
    "\n",
    "# --------------------------\n",
    "# Кросс-валидация на тренировочной выборке\n",
    "scores = cross_val_score(\n",
    "    stacked_model, \n",
    "    X_train_top, \n",
    "    y_train, \n",
    "    cv=5, \n",
    "    scoring=rmsle_scorer,\n",
    "    n_jobs=-1\n",
    ")\n",
    "\n",
    "print(f'RMSLE_CV: {round(-scores.mean(), 5)} ± {round(scores.std(), 5)}')\n"
   ]
  }
 ],
 "metadata": {
  "kernelspec": {
   "display_name": "Python 3",
   "language": "python",
   "name": "python3"
  },
  "language_info": {
   "codemirror_mode": {
    "name": "ipython",
    "version": 3
   },
   "file_extension": ".py",
   "mimetype": "text/x-python",
   "name": "python",
   "nbconvert_exporter": "python",
   "pygments_lexer": "ipython3",
   "version": "3.12.8"
  }
 },
 "nbformat": 4,
 "nbformat_minor": 5
}
