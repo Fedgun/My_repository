{
 "cells": [
  {
   "cell_type": "code",
   "execution_count": 44,
   "id": "2f31cc9f",
   "metadata": {},
   "outputs": [],
   "source": [
    "import pandas as pd\n",
    "import numpy as np\n",
    "from sklearn.model_selection import train_test_split, cross_val_predict, KFold\n",
    "from sklearn.metrics import root_mean_squared_log_error, mean_squared_log_error\n",
    "import lightgbm as lgb\n",
    "import optuna\n",
    "import matplotlib.pyplot as plt\n"
   ]
  },
  {
   "cell_type": "code",
   "execution_count": 29,
   "id": "cf405caa",
   "metadata": {},
   "outputs": [],
   "source": [
    "train_df = pd.read_csv('data/train.csv')\n",
    "test_df = pd.read_csv('data/test.csv')"
   ]
  },
  {
   "cell_type": "code",
   "execution_count": 30,
   "id": "dc57b0df",
   "metadata": {},
   "outputs": [
    {
     "data": {
      "text/html": [
       "<div>\n",
       "<style scoped>\n",
       "    .dataframe tbody tr th:only-of-type {\n",
       "        vertical-align: middle;\n",
       "    }\n",
       "\n",
       "    .dataframe tbody tr th {\n",
       "        vertical-align: top;\n",
       "    }\n",
       "\n",
       "    .dataframe thead th {\n",
       "        text-align: right;\n",
       "    }\n",
       "</style>\n",
       "<table border=\"1\" class=\"dataframe\">\n",
       "  <thead>\n",
       "    <tr style=\"text-align: right;\">\n",
       "      <th></th>\n",
       "      <th>id</th>\n",
       "      <th>Sex</th>\n",
       "      <th>Age</th>\n",
       "      <th>Height</th>\n",
       "      <th>Weight</th>\n",
       "      <th>Duration</th>\n",
       "      <th>Heart_Rate</th>\n",
       "      <th>Body_Temp</th>\n",
       "      <th>Calories</th>\n",
       "    </tr>\n",
       "  </thead>\n",
       "  <tbody>\n",
       "    <tr>\n",
       "      <th>0</th>\n",
       "      <td>0</td>\n",
       "      <td>male</td>\n",
       "      <td>36</td>\n",
       "      <td>189.0</td>\n",
       "      <td>82.0</td>\n",
       "      <td>26.0</td>\n",
       "      <td>101.0</td>\n",
       "      <td>41.0</td>\n",
       "      <td>150.0</td>\n",
       "    </tr>\n",
       "    <tr>\n",
       "      <th>1</th>\n",
       "      <td>1</td>\n",
       "      <td>female</td>\n",
       "      <td>64</td>\n",
       "      <td>163.0</td>\n",
       "      <td>60.0</td>\n",
       "      <td>8.0</td>\n",
       "      <td>85.0</td>\n",
       "      <td>39.7</td>\n",
       "      <td>34.0</td>\n",
       "    </tr>\n",
       "    <tr>\n",
       "      <th>2</th>\n",
       "      <td>2</td>\n",
       "      <td>female</td>\n",
       "      <td>51</td>\n",
       "      <td>161.0</td>\n",
       "      <td>64.0</td>\n",
       "      <td>7.0</td>\n",
       "      <td>84.0</td>\n",
       "      <td>39.8</td>\n",
       "      <td>29.0</td>\n",
       "    </tr>\n",
       "    <tr>\n",
       "      <th>3</th>\n",
       "      <td>3</td>\n",
       "      <td>male</td>\n",
       "      <td>20</td>\n",
       "      <td>192.0</td>\n",
       "      <td>90.0</td>\n",
       "      <td>25.0</td>\n",
       "      <td>105.0</td>\n",
       "      <td>40.7</td>\n",
       "      <td>140.0</td>\n",
       "    </tr>\n",
       "    <tr>\n",
       "      <th>4</th>\n",
       "      <td>4</td>\n",
       "      <td>female</td>\n",
       "      <td>38</td>\n",
       "      <td>166.0</td>\n",
       "      <td>61.0</td>\n",
       "      <td>25.0</td>\n",
       "      <td>102.0</td>\n",
       "      <td>40.6</td>\n",
       "      <td>146.0</td>\n",
       "    </tr>\n",
       "  </tbody>\n",
       "</table>\n",
       "</div>"
      ],
      "text/plain": [
       "   id     Sex  Age  Height  Weight  Duration  Heart_Rate  Body_Temp  Calories\n",
       "0   0    male   36   189.0    82.0      26.0       101.0       41.0     150.0\n",
       "1   1  female   64   163.0    60.0       8.0        85.0       39.7      34.0\n",
       "2   2  female   51   161.0    64.0       7.0        84.0       39.8      29.0\n",
       "3   3    male   20   192.0    90.0      25.0       105.0       40.7     140.0\n",
       "4   4  female   38   166.0    61.0      25.0       102.0       40.6     146.0"
      ]
     },
     "execution_count": 30,
     "metadata": {},
     "output_type": "execute_result"
    }
   ],
   "source": [
    "train_df.head()"
   ]
  },
  {
   "cell_type": "code",
   "execution_count": 31,
   "id": "6c2d2cf5",
   "metadata": {},
   "outputs": [
    {
     "data": {
      "text/plain": [
       "id            0\n",
       "Sex           0\n",
       "Age           0\n",
       "Height        0\n",
       "Weight        0\n",
       "Duration      0\n",
       "Heart_Rate    0\n",
       "Body_Temp     0\n",
       "Calories      0\n",
       "dtype: int64"
      ]
     },
     "execution_count": 31,
     "metadata": {},
     "output_type": "execute_result"
    }
   ],
   "source": [
    "train_df.isna().sum() "
   ]
  },
  {
   "cell_type": "code",
   "execution_count": 32,
   "id": "15396a86",
   "metadata": {},
   "outputs": [],
   "source": [
    "# binary encoding\n",
    "\n",
    "train_df['Sex'] = train_df['Sex'].apply(lambda x: 1 if x == 'male' else 0)\n",
    "test_df['Sex'] = test_df['Sex'].apply(lambda x: 1 if x == 'male' else 0)"
   ]
  },
  {
   "cell_type": "code",
   "execution_count": 33,
   "id": "b97ad276",
   "metadata": {},
   "outputs": [],
   "source": [
    "def new_features(df):\n",
    "    \n",
    "    # Body mass index\n",
    "    df['BMR'] = np.where(\n",
    "        df['Sex'] == 1,\n",
    "        (66.1 + 13.8 * df['Weight'] + 5 * df['Height'] - 6.8 * df['Age'])/100,\n",
    "        (655 + 9.5 * df['Weight'] + 1.9 * df['Height']/100- 4.7 * df['Age'])/100\n",
    "    )\n",
    "    \n",
    "    # Training intensity\n",
    "    df['HR_per_kg'] = df['Heart_Rate']/df['Weight']\n",
    "    df['Temp_per_kg'] = df['Body_Temp']/df['Weight']\n",
    "    df['Pulse'] = df['Heart_Rate']*0.8\n",
    "    df['lower_limit_pulse'] = (220 - df['Age'])*0.6\n",
    "    df['upper_limit_ pulse'] = (220 - df['Age'])*0.8\n",
    "    df['Duration_HR'] = df['Heart_Rate']*df['Duration']\n",
    "    df['log_Duration_HR'] = np.log(df['Heart_Rate']*df['Duration'])\n",
    "    df['Duration_Age'] = df['Duration']*df['Age']\n",
    "    df['log_Duration_Age'] = np.log(df['Duration']*df['Age'])\n",
    "    df['Age_HR'] = df['Age']*df['Heart_Rate']\n",
    "    df['log_Age_HR'] = np.log(df['Age']*df['Heart_Rate'])\n",
    "    df['Duration/Weight'] = df['Weight']*df['Duration']\n",
    "    df['log_Duration/Weight'] = np.log(df['Weight']*df['Duration'])\n",
    "    \n",
    "    # Age Groups\n",
    "    df['Age_Group'] = df['Age'].apply(lambda x: 0 if x <= 35 else 1 if x <= 55 else 2)\n",
    "    \n",
    "    \n",
    "    \n",
    "    return df"
   ]
  },
  {
   "cell_type": "code",
   "execution_count": 34,
   "id": "7f98286f",
   "metadata": {},
   "outputs": [],
   "source": [
    "# Launch func\n",
    "\n",
    "train_df = new_features(train_df)\n",
    "test_df = new_features(test_df)"
   ]
  },
  {
   "cell_type": "code",
   "execution_count": 35,
   "id": "f422372b",
   "metadata": {},
   "outputs": [],
   "source": [
    "# df split\n",
    "\n",
    "X_train = train_df.drop(['Calories'], axis=1)\n",
    "y_train = train_df['Calories']\n",
    "\n",
    "X_test = test_df"
   ]
  },
  {
   "cell_type": "code",
   "execution_count": 45,
   "id": "badff288",
   "metadata": {},
   "outputs": [
    {
     "name": "stderr",
     "output_type": "stream",
     "text": [
      "[I 2025-05-26 13:57:52,129] A new study created in memory with name: no-name-9834d4b9-9bae-433c-8114-661d833113b1\n",
      "[I 2025-05-26 13:58:12,014] Trial 0 finished with value: inf and parameters: {'n_estimators': 549, 'learning_rate': 0.07855507818554147, 'max_depth': 3, 'num_leaves': 118, 'min_child_samples': 19, 'subsample': 0.5725680123197938, 'colsample_bytree': 0.7935505457504827}. Best is trial 0 with value: inf.\n",
      "[I 2025-05-26 13:58:26,851] Trial 1 finished with value: 0.0652161069313639 and parameters: {'n_estimators': 385, 'learning_rate': 0.2809535908745643, 'max_depth': 6, 'num_leaves': 18, 'min_child_samples': 26, 'subsample': 0.9134735440724546, 'colsample_bytree': 0.6730000482205947}. Best is trial 1 with value: 0.0652161069313639.\n",
      "[I 2025-05-26 13:59:05,633] Trial 2 finished with value: 0.06334586210726617 and parameters: {'n_estimators': 848, 'learning_rate': 0.04600668266829757, 'max_depth': 14, 'num_leaves': 23, 'min_child_samples': 6, 'subsample': 0.6898525121698311, 'colsample_bytree': 0.5513693912934378}. Best is trial 2 with value: 0.06334586210726617.\n",
      "[I 2025-05-26 13:59:21,570] Trial 3 finished with value: 0.16469998739620645 and parameters: {'n_estimators': 377, 'learning_rate': 0.010398624236165372, 'max_depth': 3, 'num_leaves': 84, 'min_child_samples': 26, 'subsample': 0.6216513914548624, 'colsample_bytree': 0.8968782542187075}. Best is trial 2 with value: 0.06334586210726617.\n",
      "[I 2025-05-26 13:59:51,706] Trial 4 finished with value: 0.0843139394452032 and parameters: {'n_estimators': 873, 'learning_rate': 0.011556361861517104, 'max_depth': 3, 'num_leaves': 99, 'min_child_samples': 86, 'subsample': 0.5725317253100743, 'colsample_bytree': 0.5791942889787005}. Best is trial 2 with value: 0.06334586210726617.\n",
      "[I 2025-05-26 14:00:31,806] Trial 5 finished with value: inf and parameters: {'n_estimators': 898, 'learning_rate': 0.02104747771064688, 'max_depth': 4, 'num_leaves': 104, 'min_child_samples': 39, 'subsample': 0.9458099554202046, 'colsample_bytree': 0.9550359910424127}. Best is trial 2 with value: 0.06334586210726617.\n",
      "[I 2025-05-26 14:00:38,925] Trial 6 finished with value: 0.06450207807564055 and parameters: {'n_estimators': 70, 'learning_rate': 0.18405472717868507, 'max_depth': 12, 'num_leaves': 87, 'min_child_samples': 92, 'subsample': 0.7110795992742256, 'colsample_bytree': 0.5679998724983564}. Best is trial 2 with value: 0.06334586210726617.\n",
      "[I 2025-05-26 14:02:18,587] Trial 7 finished with value: 0.06137107679210665 and parameters: {'n_estimators': 907, 'learning_rate': 0.017726476921823598, 'max_depth': 13, 'num_leaves': 127, 'min_child_samples': 48, 'subsample': 0.5906717935349188, 'colsample_bytree': 0.8127804061526707}. Best is trial 7 with value: 0.06137107679210665.\n",
      "[I 2025-05-26 14:03:25,347] Trial 8 finished with value: 0.06393398346574744 and parameters: {'n_estimators': 820, 'learning_rate': 0.014740373405318247, 'max_depth': 10, 'num_leaves': 40, 'min_child_samples': 55, 'subsample': 0.9171311910124942, 'colsample_bytree': 0.9167290032112896}. Best is trial 7 with value: 0.06137107679210665.\n",
      "[I 2025-05-26 14:04:39,135] Trial 9 finished with value: 0.06275684632992339 and parameters: {'n_estimators': 709, 'learning_rate': 0.012440802674406122, 'max_depth': 8, 'num_leaves': 94, 'min_child_samples': 22, 'subsample': 0.8105864388368549, 'colsample_bytree': 0.7871532454669854}. Best is trial 7 with value: 0.06137107679210665.\n",
      "[I 2025-05-26 14:05:33,896] Trial 10 finished with value: 0.06131701581219587 and parameters: {'n_estimators': 628, 'learning_rate': 0.03618535918455252, 'max_depth': 18, 'num_leaves': 134, 'min_child_samples': 70, 'subsample': 0.5010245744345742, 'colsample_bytree': 0.6939837189660237}. Best is trial 10 with value: 0.06131701581219587.\n",
      "[I 2025-05-26 14:06:34,165] Trial 11 finished with value: 0.06132199774485849 and parameters: {'n_estimators': 632, 'learning_rate': 0.03329962803067566, 'max_depth': 18, 'num_leaves': 143, 'min_child_samples': 65, 'subsample': 0.5409089446957397, 'colsample_bytree': 0.682748308348425}. Best is trial 10 with value: 0.06131701581219587.\n",
      "[I 2025-05-26 14:07:31,180] Trial 12 finished with value: 0.06130579137074977 and parameters: {'n_estimators': 610, 'learning_rate': 0.035189783647145735, 'max_depth': 18, 'num_leaves': 148, 'min_child_samples': 71, 'subsample': 0.500265963544523, 'colsample_bytree': 0.6791886027165827}. Best is trial 12 with value: 0.06130579137074977.\n",
      "[I 2025-05-26 14:08:07,128] Trial 13 finished with value: 0.061462148200144895 and parameters: {'n_estimators': 418, 'learning_rate': 0.07049421709939983, 'max_depth': 18, 'num_leaves': 148, 'min_child_samples': 73, 'subsample': 0.5006597023242625, 'colsample_bytree': 0.6755012537078199}. Best is trial 12 with value: 0.06130579137074977.\n",
      "[I 2025-05-26 14:08:32,254] Trial 14 finished with value: 0.06492967688229598 and parameters: {'n_estimators': 245, 'learning_rate': 0.031174941891734618, 'max_depth': 16, 'num_leaves': 55, 'min_child_samples': 77, 'subsample': 0.7973323316691394, 'colsample_bytree': 0.7180122766292644}. Best is trial 12 with value: 0.06130579137074977.\n",
      "[I 2025-05-26 14:09:18,361] Trial 15 finished with value: 0.061520176760644106 and parameters: {'n_estimators': 707, 'learning_rate': 0.11773972781826543, 'max_depth': 16, 'num_leaves': 128, 'min_child_samples': 100, 'subsample': 0.501357384808094, 'colsample_bytree': 0.6147960939937855}. Best is trial 12 with value: 0.06130579137074977.\n",
      "[I 2025-05-26 14:09:59,303] Trial 16 finished with value: 0.06219613047012704 and parameters: {'n_estimators': 564, 'learning_rate': 0.027933166716945228, 'max_depth': 16, 'num_leaves': 69, 'min_child_samples': 64, 'subsample': 0.6566975572357987, 'colsample_bytree': 0.6230931156617376}. Best is trial 12 with value: 0.06130579137074977.\n",
      "[I 2025-05-26 14:10:49,702] Trial 17 finished with value: 0.06128638353877039 and parameters: {'n_estimators': 723, 'learning_rate': 0.049832293571151605, 'max_depth': 15, 'num_leaves': 113, 'min_child_samples': 78, 'subsample': 0.7766339131378416, 'colsample_bytree': 0.51810233296039}. Best is trial 17 with value: 0.06128638353877039.\n",
      "[I 2025-05-26 14:11:51,349] Trial 18 finished with value: 0.06118114617051898 and parameters: {'n_estimators': 995, 'learning_rate': 0.06045983165378674, 'max_depth': 15, 'num_leaves': 115, 'min_child_samples': 81, 'subsample': 0.843603455775227, 'colsample_bytree': 0.5342856807504266}. Best is trial 18 with value: 0.06118114617051898.\n",
      "[I 2025-05-26 14:12:45,634] Trial 19 finished with value: 0.0614922331225745 and parameters: {'n_estimators': 996, 'learning_rate': 0.10086076053463763, 'max_depth': 10, 'num_leaves': 112, 'min_child_samples': 84, 'subsample': 0.8445565261218981, 'colsample_bytree': 0.5072842753464282}. Best is trial 18 with value: 0.06118114617051898.\n",
      "[I 2025-05-26 14:13:34,849] Trial 20 finished with value: 0.0612917457567627 and parameters: {'n_estimators': 986, 'learning_rate': 0.05803640823503135, 'max_depth': 14, 'num_leaves': 71, 'min_child_samples': 100, 'subsample': 0.7623111621420774, 'colsample_bytree': 0.508470477774876}. Best is trial 18 with value: 0.06118114617051898.\n",
      "[I 2025-05-26 14:14:24,811] Trial 21 finished with value: 0.061348153528511036 and parameters: {'n_estimators': 1000, 'learning_rate': 0.052082447442701435, 'max_depth': 14, 'num_leaves': 65, 'min_child_samples': 98, 'subsample': 0.7505937460464516, 'colsample_bytree': 0.5122715588117424}. Best is trial 18 with value: 0.06118114617051898.\n",
      "[I 2025-05-26 14:15:08,240] Trial 22 finished with value: 0.061474842434697946 and parameters: {'n_estimators': 765, 'learning_rate': 0.07547155459264046, 'max_depth': 12, 'num_leaves': 73, 'min_child_samples': 83, 'subsample': 0.8669671183659267, 'colsample_bytree': 0.506886964092103}. Best is trial 18 with value: 0.06118114617051898.\n",
      "[I 2025-05-26 14:15:55,133] Trial 23 finished with value: 0.06180474139461399 and parameters: {'n_estimators': 968, 'learning_rate': 0.13569183402877946, 'max_depth': 14, 'num_leaves': 53, 'min_child_samples': 91, 'subsample': 0.9975055942846731, 'colsample_bytree': 0.6115467961230048}. Best is trial 18 with value: 0.06118114617051898.\n",
      "[I 2025-05-26 14:16:48,286] Trial 24 finished with value: 0.061257177913388985 and parameters: {'n_estimators': 771, 'learning_rate': 0.05443935729383887, 'max_depth': 15, 'num_leaves': 106, 'min_child_samples': 79, 'subsample': 0.7584247388657258, 'colsample_bytree': 0.5460521729707681}. Best is trial 18 with value: 0.06118114617051898.\n",
      "[I 2025-05-26 14:17:40,918] Trial 25 finished with value: 0.061338375653009355 and parameters: {'n_estimators': 780, 'learning_rate': 0.049248049113277174, 'max_depth': 16, 'num_leaves': 112, 'min_child_samples': 56, 'subsample': 0.801023104082977, 'colsample_bytree': 0.5523581436396897}. Best is trial 18 with value: 0.06118114617051898.\n",
      "[I 2025-05-26 14:18:45,824] Trial 26 finished with value: 0.061391871792600854 and parameters: {'n_estimators': 715, 'learning_rate': 0.023652482102337346, 'max_depth': 12, 'num_leaves': 118, 'min_child_samples': 79, 'subsample': 0.7200853261775492, 'colsample_bytree': 0.5930062238028374}. Best is trial 18 with value: 0.06118114617051898.\n",
      "[I 2025-05-26 14:19:33,435] Trial 27 finished with value: 0.06143490054378393 and parameters: {'n_estimators': 777, 'learning_rate': 0.08853901215296475, 'max_depth': 15, 'num_leaves': 103, 'min_child_samples': 60, 'subsample': 0.8623975232740142, 'colsample_bytree': 0.6398483377286652}. Best is trial 18 with value: 0.06118114617051898.\n",
      "[I 2025-05-26 14:20:02,033] Trial 28 finished with value: 0.06156445029982227 and parameters: {'n_estimators': 456, 'learning_rate': 0.0613514500219108, 'max_depth': 8, 'num_leaves': 135, 'min_child_samples': 89, 'subsample': 0.7706389648602777, 'colsample_bytree': 0.5443271081407282}. Best is trial 18 with value: 0.06118114617051898.\n",
      "[I 2025-05-26 14:20:46,795] Trial 29 finished with value: 0.06136642294611981 and parameters: {'n_estimators': 510, 'learning_rate': 0.04267234140194378, 'max_depth': 11, 'num_leaves': 120, 'min_child_samples': 45, 'subsample': 0.8352540359691626, 'colsample_bytree': 0.7603495919850719}. Best is trial 18 with value: 0.06118114617051898.\n",
      "[I 2025-05-26 14:21:38,254] Trial 30 finished with value: 0.06179875298720102 and parameters: {'n_estimators': 927, 'learning_rate': 0.15054899625128526, 'max_depth': 17, 'num_leaves': 90, 'min_child_samples': 79, 'subsample': 0.885801076801722, 'colsample_bytree': 0.8403636209857179}. Best is trial 18 with value: 0.06118114617051898.\n",
      "[I 2025-05-26 14:22:30,222] Trial 31 finished with value: 0.061264978874495196 and parameters: {'n_estimators': 941, 'learning_rate': 0.06214990196325372, 'max_depth': 15, 'num_leaves': 77, 'min_child_samples': 96, 'subsample': 0.7651306712619097, 'colsample_bytree': 0.5272729093314807}. Best is trial 18 with value: 0.06118114617051898.\n",
      "[I 2025-05-26 14:23:16,601] Trial 32 finished with value: 0.06132130851248644 and parameters: {'n_estimators': 832, 'learning_rate': 0.06597698310541246, 'max_depth': 15, 'num_leaves': 80, 'min_child_samples': 94, 'subsample': 0.7223054748358262, 'colsample_bytree': 0.543037741087594}. Best is trial 18 with value: 0.06118114617051898.\n",
      "[I 2025-05-26 14:24:12,765] Trial 33 finished with value: 0.061310342892486644 and parameters: {'n_estimators': 912, 'learning_rate': 0.08398048481552026, 'max_depth': 15, 'num_leaves': 109, 'min_child_samples': 75, 'subsample': 0.676387915449116, 'colsample_bytree': 0.5378041837804395}. Best is trial 18 with value: 0.06118114617051898.\n",
      "[I 2025-05-26 14:25:19,835] Trial 34 finished with value: 0.06119073247782738 and parameters: {'n_estimators': 854, 'learning_rate': 0.04174710113867929, 'max_depth': 13, 'num_leaves': 97, 'min_child_samples': 82, 'subsample': 0.7866749135785311, 'colsample_bytree': 0.6433464282683787}. Best is trial 18 with value: 0.06118114617051898.\n",
      "[I 2025-05-26 14:26:24,284] Trial 35 finished with value: 0.06118303202905 and parameters: {'n_estimators': 842, 'learning_rate': 0.03941787797937842, 'max_depth': 13, 'num_leaves': 98, 'min_child_samples': 87, 'subsample': 0.8296494046399379, 'colsample_bytree': 0.6422967994322725}. Best is trial 18 with value: 0.06118114617051898.\n",
      "[I 2025-05-26 14:27:30,707] Trial 36 finished with value: 0.06121596174611636 and parameters: {'n_estimators': 836, 'learning_rate': 0.04300648069897369, 'max_depth': 13, 'num_leaves': 98, 'min_child_samples': 85, 'subsample': 0.8254057509828727, 'colsample_bytree': 0.6487198962835152}. Best is trial 18 with value: 0.06118114617051898.\n",
      "[I 2025-05-26 14:28:30,493] Trial 37 finished with value: 0.061311580384098764 and parameters: {'n_estimators': 857, 'learning_rate': 0.03955798367352634, 'max_depth': 11, 'num_leaves': 94, 'min_child_samples': 11, 'subsample': 0.9145568962635539, 'colsample_bytree': 0.6441237279966153}. Best is trial 18 with value: 0.06118114617051898.\n"
     ]
    },
    {
     "name": "stdout",
     "output_type": "stream",
     "text": [
      "Best_params: {'n_estimators': 995, 'learning_rate': 0.06045983165378674, 'max_depth': 15, 'num_leaves': 115, 'min_child_samples': 81, 'subsample': 0.843603455775227, 'colsample_bytree': 0.5342856807504266}\n",
      "Best RMSLE: 0.06118114617051898\n"
     ]
    }
   ],
   "source": [
    "def root_mean_squared_log_error(y_true, y_pred):\n",
    "    return np.sqrt(mean_squared_log_error(y_true, y_pred))\n",
    "\n",
    "def objective(trial):\n",
    "    params = {\n",
    "        'n_estimators': trial.suggest_int('n_estimators', 50, 1000),\n",
    "        'learning_rate': trial.suggest_float('learning_rate', 0.01, 0.3, log=True),\n",
    "        'max_depth': trial.suggest_int('max_depth', 3, 18),\n",
    "        'num_leaves': trial.suggest_int('num_leaves', 7, 150),\n",
    "        'min_child_samples': trial.suggest_int('min_child_samples', 5, 100),\n",
    "        'subsample': trial.suggest_float('subsample', 0.5, 1.0),\n",
    "        'colsample_bytree': trial.suggest_float('colsample_bytree', 0.5, 1.0),\n",
    "        'random_state': 42,\n",
    "        'n_jobs': -1\n",
    "    }\n",
    "\n",
    "    model = lgb.LGBMRegressor(**params, verbose=-1)\n",
    "\n",
    "    cv = KFold(n_splits=5, shuffle=True, random_state=42)\n",
    "    \n",
    "    try:\n",
    "        y_pred = cross_val_predict(model, X_train, y_train, cv=cv, n_jobs=-1)\n",
    "        \n",
    "        if (y_pred <= -1).any():\n",
    "            return float('inf')\n",
    "        \n",
    "        rmsle = root_mean_squared_log_error(y_train, y_pred)\n",
    "    except ValueError:\n",
    "        return float('inf')\n",
    "\n",
    "    return rmsle\n",
    "\n",
    "study = optuna.create_study(direction=\"minimize\")\n",
    "study.optimize(objective, n_trials=50, timeout=1800)\n",
    "\n",
    "print(\"Best_params:\", study.best_params)\n",
    "print(\"Best RMSLE:\", study.best_value)"
   ]
  },
  {
   "cell_type": "code",
   "execution_count": 11,
   "id": "1d878439",
   "metadata": {},
   "outputs": [
    {
     "data": {
      "text/plain": [
       "{'n_estimators': 673,\n",
       " 'learning_rate': 0.058452114257265646,\n",
       " 'max_depth': 10,\n",
       " 'num_leaves': 94,\n",
       " 'min_child_samples': 51,\n",
       " 'subsample': 0.5803735893249757,\n",
       " 'colsample_bytree': 0.5665470543509837}"
      ]
     },
     "execution_count": 11,
     "metadata": {},
     "output_type": "execute_result"
    }
   ],
   "source": [
    "study.best_params"
   ]
  },
  {
   "cell_type": "code",
   "execution_count": 52,
   "id": "40609b78",
   "metadata": {},
   "outputs": [],
   "source": [
    "# optimized params\n",
    "LGBM_params = {'n_estimators': 995, \n",
    "              'learning_rate': 0.060, \n",
    "              'max_depth': 15, \n",
    "              'num_leaves': 115,\n",
    "              'min_child_samples': 81, \n",
    "              'subsample': 0.84, \n",
    "              'colsample_bytree': 0.53,\n",
    "               'n_jobs': -1\n",
    "               }"
   ]
  },
  {
   "cell_type": "code",
   "execution_count": 55,
   "id": "a0ac7977",
   "metadata": {},
   "outputs": [
    {
     "name": "stdout",
     "output_type": "stream",
     "text": [
      "RMSLE_train: 0.0615\n"
     ]
    }
   ],
   "source": [
    "# LightGBM\n",
    "model_lgb = lgb.LGBMRegressor(**LGBM_params, verbose=-1)\n",
    "\n",
    "# Model fit\n",
    "model_lgb.fit(X_train, y_train)\n",
    "\n",
    "# Prediction\n",
    "y_pred = cross_val_predict(model_lgb, X_train, y_train, cv=5)\n",
    "\n",
    "# Metric\n",
    "RMSLE_train = round(root_mean_squared_log_error(y_pred, y_train),5)\n",
    "\n",
    "print(f'RMSLE_train: {RMSLE_train}')"
   ]
  },
  {
   "cell_type": "code",
   "execution_count": null,
   "id": "c94fdf98",
   "metadata": {},
   "outputs": [
    {
     "data": {
      "image/png": "[encoded data removed]",
      "text/plain": [
       "<Figure size 1000x600 with 1 Axes>"
      ]
     },
     "metadata": {},
     "output_type": "display_data"
    }
   ],
   "source": [
    "# importance features\n",
    "importance_df = pd.DataFrame({\n",
    "    'feature': X_train.columns,\n",
    "    'importance': model_lgb.booster_.feature_importance(importance_type='gain')\n",
    "}).sort_values(by='importance', ascending=False)\n",
    "\n",
    "plt.figure(figsize=(10, 6))\n",
    "plt.barh(importance_df['feature'], importance_df['importance'], color='skyblue')\n",
    "plt.xlabel(\"Importance\")\n",
    "plt.title(\"Feature Importance (RandomForest)\")\n",
    "plt.gca().invert_yaxis()\n",
    "plt.tight_layout()\n",
    "plt.show()"
   ]
  },
  {
   "cell_type": "code",
   "execution_count": 49,
   "id": "7270f9b7",
   "metadata": {},
   "outputs": [],
   "source": [
    "top_features = list(importance_df['feature'].values)[:20]"
   ]
  },
  {
   "cell_type": "code",
   "execution_count": 50,
   "id": "9cde9044",
   "metadata": {},
   "outputs": [],
   "source": [
    "X_train_top = X_train[top_features]\n",
    "X_test_top = X_test[top_features]"
   ]
  },
  {
   "cell_type": "code",
   "execution_count": 54,
   "id": "ea492c86",
   "metadata": {},
   "outputs": [
    {
     "name": "stdout",
     "output_type": "stream",
     "text": [
      "RMSLE_train: 0.0615\n"
     ]
    }
   ],
   "source": [
    "# LightGBM\n",
    "model_lgb = lgb.LGBMRegressor(**LGBM_params, verbose=-1)\n",
    "\n",
    "# Model fit\n",
    "model_lgb.fit(X_train_top, y_train)\n",
    "\n",
    "# Prediction\n",
    "y_pred_top = cross_val_predict(model_lgb, X_train, y_train, cv=5)\n",
    "\n",
    "# Metric\n",
    "RMSLE_train_top = round(root_mean_squared_log_error(y_pred_top, y_train),5)\n",
    "\n",
    "print(f'RMSLE_train: {RMSLE_train_top}')"
   ]
  },
  {
   "cell_type": "code",
   "execution_count": null,
   "id": "ac2d9b06",
   "metadata": {},
   "outputs": [
    {
     "data": {
      "text/html": [
       "<div>\n",
       "<style scoped>\n",
       "    .dataframe tbody tr th:only-of-type {\n",
       "        vertical-align: middle;\n",
       "    }\n",
       "\n",
       "    .dataframe tbody tr th {\n",
       "        vertical-align: top;\n",
       "    }\n",
       "\n",
       "    .dataframe thead th {\n",
       "        text-align: right;\n",
       "    }\n",
       "</style>\n",
       "<table border=\"1\" class=\"dataframe\">\n",
       "  <thead>\n",
       "    <tr style=\"text-align: right;\">\n",
       "      <th></th>\n",
       "      <th>All features</th>\n",
       "      <th>15 features</th>\n",
       "    </tr>\n",
       "  </thead>\n",
       "  <tbody>\n",
       "    <tr>\n",
       "      <th>RMSLE</th>\n",
       "      <td>0.0615</td>\n",
       "      <td>0.0615</td>\n",
       "    </tr>\n",
       "  </tbody>\n",
       "</table>\n",
       "</div>"
      ],
      "text/plain": [
       "       All features  15 features\n",
       "RMSLE        0.0615       0.0615"
      ]
     },
     "execution_count": 57,
     "metadata": {},
     "output_type": "execute_result"
    }
   ],
   "source": [
    "df_rmsle = pd.DataFrame({\n",
    "    \"All features\": [RMSLE_train],\n",
    "    \"15 features\": [RMSLE_train_top]\n",
    "}, index=[\"RMSLE\"])\n",
    "\n",
    "df_rmsle"
   ]
  }
 ],
 "metadata": {
  "kernelspec": {
   "display_name": "Python 3",
   "language": "python",
   "name": "python3"
  },
  "language_info": {
   "codemirror_mode": {
    "name": "ipython",
    "version": 3
   },
   "file_extension": ".py",
   "mimetype": "text/x-python",
   "name": "python",
   "nbconvert_exporter": "python",
   "pygments_lexer": "ipython3",
   "version": "3.12.8"
  }
 },
 "nbformat": 4,
 "nbformat_minor": 5
}
