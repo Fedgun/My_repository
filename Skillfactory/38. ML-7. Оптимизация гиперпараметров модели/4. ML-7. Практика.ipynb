{
 "cells": [
  {
   "cell_type": "code",
   "execution_count": 1,
   "metadata": {},
   "outputs": [],
   "source": [
    "#импорт библиотек\n",
    "import numpy as np #для матричных вычислений\n",
    "import pandas as pd #для анализа и предобработки данных\n",
    "import matplotlib.pyplot as plt #для визуализации\n",
    "import seaborn as sns #для визуализации\n",
    "\n",
    "from sklearn import linear_model #линейные моделиё\n",
    "from sklearn import tree #деревья решений\n",
    "from sklearn import ensemble #ансамбли\n",
    "from sklearn import metrics #метрики\n",
    "from sklearn import preprocessing #предобработка\n",
    "from sklearn.model_selection import train_test_split #сплитование выборки\n",
    "\n",
    "from sklearn.model_selection import GridSearchCV\n",
    "from sklearn.model_selection import RandomizedSearchCV\n",
    "from sklearn.model_selection import cross_val_score\n",
    "import hyperopt\n",
    "from hyperopt import hp, fmin, tpe, Trials\n",
    "import optuna"
   ]
  },
  {
   "cell_type": "code",
   "execution_count": 2,
   "metadata": {},
   "outputs": [],
   "source": [
    "df = pd.read_csv('data/train.csv')"
   ]
  },
  {
   "cell_type": "markdown",
   "metadata": {},
   "source": [
    "Данные представлены в формате CSV.  Каждая строка представляет молекулу.\n",
    "\n",
    "- Первый столбец Activity содержит экспериментальные данные, описывающие фактический биологический ответ [0, 1]; \n",
    "- Остальные столбцы D1-D1776 представляют собой молекулярные **дескрипторы** — это вычисляемые свойства, которые могут фиксировать некоторые характеристики молекулы, например размер, форму или состав элементов."
   ]
  },
  {
   "cell_type": "code",
   "execution_count": 4,
   "metadata": {},
   "outputs": [
    {
     "data": {
      "text/html": [
       "<div>\n",
       "<style scoped>\n",
       "    .dataframe tbody tr th:only-of-type {\n",
       "        vertical-align: middle;\n",
       "    }\n",
       "\n",
       "    .dataframe tbody tr th {\n",
       "        vertical-align: top;\n",
       "    }\n",
       "\n",
       "    .dataframe thead th {\n",
       "        text-align: right;\n",
       "    }\n",
       "</style>\n",
       "<table border=\"1\" class=\"dataframe\">\n",
       "  <thead>\n",
       "    <tr style=\"text-align: right;\">\n",
       "      <th></th>\n",
       "      <th>Activity</th>\n",
       "      <th>D1</th>\n",
       "      <th>D2</th>\n",
       "      <th>D3</th>\n",
       "      <th>D4</th>\n",
       "      <th>D5</th>\n",
       "      <th>D6</th>\n",
       "      <th>D7</th>\n",
       "      <th>D8</th>\n",
       "      <th>D9</th>\n",
       "      <th>...</th>\n",
       "      <th>D1767</th>\n",
       "      <th>D1768</th>\n",
       "      <th>D1769</th>\n",
       "      <th>D1770</th>\n",
       "      <th>D1771</th>\n",
       "      <th>D1772</th>\n",
       "      <th>D1773</th>\n",
       "      <th>D1774</th>\n",
       "      <th>D1775</th>\n",
       "      <th>D1776</th>\n",
       "    </tr>\n",
       "  </thead>\n",
       "  <tbody>\n",
       "    <tr>\n",
       "      <th>0</th>\n",
       "      <td>1</td>\n",
       "      <td>0.000000</td>\n",
       "      <td>0.497009</td>\n",
       "      <td>0.10</td>\n",
       "      <td>0.0</td>\n",
       "      <td>0.132956</td>\n",
       "      <td>0.678031</td>\n",
       "      <td>0.273166</td>\n",
       "      <td>0.585445</td>\n",
       "      <td>0.743663</td>\n",
       "      <td>...</td>\n",
       "      <td>0</td>\n",
       "      <td>0</td>\n",
       "      <td>0</td>\n",
       "      <td>0</td>\n",
       "      <td>0</td>\n",
       "      <td>0</td>\n",
       "      <td>0</td>\n",
       "      <td>0</td>\n",
       "      <td>0</td>\n",
       "      <td>0</td>\n",
       "    </tr>\n",
       "    <tr>\n",
       "      <th>1</th>\n",
       "      <td>1</td>\n",
       "      <td>0.366667</td>\n",
       "      <td>0.606291</td>\n",
       "      <td>0.05</td>\n",
       "      <td>0.0</td>\n",
       "      <td>0.111209</td>\n",
       "      <td>0.803455</td>\n",
       "      <td>0.106105</td>\n",
       "      <td>0.411754</td>\n",
       "      <td>0.836582</td>\n",
       "      <td>...</td>\n",
       "      <td>1</td>\n",
       "      <td>1</td>\n",
       "      <td>1</td>\n",
       "      <td>1</td>\n",
       "      <td>0</td>\n",
       "      <td>1</td>\n",
       "      <td>0</td>\n",
       "      <td>0</td>\n",
       "      <td>1</td>\n",
       "      <td>0</td>\n",
       "    </tr>\n",
       "    <tr>\n",
       "      <th>2</th>\n",
       "      <td>1</td>\n",
       "      <td>0.033300</td>\n",
       "      <td>0.480124</td>\n",
       "      <td>0.00</td>\n",
       "      <td>0.0</td>\n",
       "      <td>0.209791</td>\n",
       "      <td>0.610350</td>\n",
       "      <td>0.356453</td>\n",
       "      <td>0.517720</td>\n",
       "      <td>0.679051</td>\n",
       "      <td>...</td>\n",
       "      <td>0</td>\n",
       "      <td>0</td>\n",
       "      <td>0</td>\n",
       "      <td>0</td>\n",
       "      <td>0</td>\n",
       "      <td>0</td>\n",
       "      <td>0</td>\n",
       "      <td>0</td>\n",
       "      <td>0</td>\n",
       "      <td>0</td>\n",
       "    </tr>\n",
       "    <tr>\n",
       "      <th>3</th>\n",
       "      <td>1</td>\n",
       "      <td>0.000000</td>\n",
       "      <td>0.538825</td>\n",
       "      <td>0.00</td>\n",
       "      <td>0.5</td>\n",
       "      <td>0.196344</td>\n",
       "      <td>0.724230</td>\n",
       "      <td>0.235606</td>\n",
       "      <td>0.288764</td>\n",
       "      <td>0.805110</td>\n",
       "      <td>...</td>\n",
       "      <td>0</td>\n",
       "      <td>0</td>\n",
       "      <td>0</td>\n",
       "      <td>0</td>\n",
       "      <td>0</td>\n",
       "      <td>0</td>\n",
       "      <td>0</td>\n",
       "      <td>0</td>\n",
       "      <td>0</td>\n",
       "      <td>0</td>\n",
       "    </tr>\n",
       "    <tr>\n",
       "      <th>4</th>\n",
       "      <td>0</td>\n",
       "      <td>0.100000</td>\n",
       "      <td>0.517794</td>\n",
       "      <td>0.00</td>\n",
       "      <td>0.0</td>\n",
       "      <td>0.494734</td>\n",
       "      <td>0.781422</td>\n",
       "      <td>0.154361</td>\n",
       "      <td>0.303809</td>\n",
       "      <td>0.812646</td>\n",
       "      <td>...</td>\n",
       "      <td>0</td>\n",
       "      <td>0</td>\n",
       "      <td>0</td>\n",
       "      <td>0</td>\n",
       "      <td>0</td>\n",
       "      <td>0</td>\n",
       "      <td>0</td>\n",
       "      <td>0</td>\n",
       "      <td>0</td>\n",
       "      <td>0</td>\n",
       "    </tr>\n",
       "  </tbody>\n",
       "</table>\n",
       "<p>5 rows × 1777 columns</p>\n",
       "</div>"
      ],
      "text/plain": [
       "   Activity        D1        D2    D3   D4        D5        D6        D7  \\\n",
       "0         1  0.000000  0.497009  0.10  0.0  0.132956  0.678031  0.273166   \n",
       "1         1  0.366667  0.606291  0.05  0.0  0.111209  0.803455  0.106105   \n",
       "2         1  0.033300  0.480124  0.00  0.0  0.209791  0.610350  0.356453   \n",
       "3         1  0.000000  0.538825  0.00  0.5  0.196344  0.724230  0.235606   \n",
       "4         0  0.100000  0.517794  0.00  0.0  0.494734  0.781422  0.154361   \n",
       "\n",
       "         D8        D9  ...  D1767  D1768  D1769  D1770  D1771  D1772  D1773  \\\n",
       "0  0.585445  0.743663  ...      0      0      0      0      0      0      0   \n",
       "1  0.411754  0.836582  ...      1      1      1      1      0      1      0   \n",
       "2  0.517720  0.679051  ...      0      0      0      0      0      0      0   \n",
       "3  0.288764  0.805110  ...      0      0      0      0      0      0      0   \n",
       "4  0.303809  0.812646  ...      0      0      0      0      0      0      0   \n",
       "\n",
       "   D1774  D1775  D1776  \n",
       "0      0      0      0  \n",
       "1      0      1      0  \n",
       "2      0      0      0  \n",
       "3      0      0      0  \n",
       "4      0      0      0  \n",
       "\n",
       "[5 rows x 1777 columns]"
      ]
     },
     "execution_count": 4,
     "metadata": {},
     "output_type": "execute_result"
    }
   ],
   "source": [
    "df.head()"
   ]
  },
  {
   "cell_type": "markdown",
   "metadata": {},
   "source": [
    "Предварительная обработка не требуется, данные уже закодированы и нормализованы.\n",
    "\n",
    "В качестве метрики будем использовать **F1-score**.\n",
    "\n",
    "Необходимо обучить две модели: **логистическую регрессию и случайный лес**. Далее нужно сделать подбор гиперпараметров с помощью базовых и продвинутых методов оптимизации. Важно использовать все **четыре метода** (GridSeachCV, RandomizedSearchCV, Hyperopt, Optuna) хотя бы по разу, максимальное количество итераций не должно превышать 50."
   ]
  },
  {
   "cell_type": "markdown",
   "metadata": {},
   "source": [
    "## 1. Подготовка данных"
   ]
  },
  {
   "cell_type": "code",
   "execution_count": 5,
   "metadata": {},
   "outputs": [],
   "source": [
    "X = df.drop(['Activity'], axis=1)\n",
    "y = df['Activity']"
   ]
  },
  {
   "cell_type": "code",
   "execution_count": 6,
   "metadata": {},
   "outputs": [],
   "source": [
    "X_train, X_test, y_train, y_test = train_test_split(X, y, stratify=y, random_state = 42, test_size = 0.2)"
   ]
  },
  {
   "cell_type": "markdown",
   "metadata": {},
   "source": [
    "## 2. Обучение модели (параметры по умолчанию)"
   ]
  },
  {
   "cell_type": "markdown",
   "metadata": {},
   "source": [
    "### 2.1. Логистическая регрессия (LogisticRegression)"
   ]
  },
  {
   "cell_type": "code",
   "execution_count": 7,
   "metadata": {},
   "outputs": [
    {
     "name": "stdout",
     "output_type": "stream",
     "text": [
      "f1_score на тренировочном наборе: 0.89\n",
      "f1_score на тестовом наборе: 0.78\n"
     ]
    }
   ],
   "source": [
    "#Создаем объект класса логистическая регрессия\n",
    "log_reg = linear_model.LogisticRegression(max_iter = 500)\n",
    "#Обучаем модель, минимизируя logloss\n",
    "log_reg.fit(X_train, y_train)\n",
    "y_test_pred = log_reg.predict(X_test)\n",
    "y_train_pred = log_reg.predict(X_train)\n",
    "print('f1_score на тренировочном наборе: {:.2f}'.format(metrics.f1_score(y_train, y_train_pred)))\n",
    "print('f1_score на тестовом наборе: {:.2f}'.format(metrics.f1_score(y_test, y_test_pred)))"
   ]
  },
  {
   "cell_type": "markdown",
   "metadata": {},
   "source": [
    "### 2.2. Случайный лес (Random Forest)"
   ]
  },
  {
   "cell_type": "code",
   "execution_count": 171,
   "metadata": {},
   "outputs": [
    {
     "name": "stdout",
     "output_type": "stream",
     "text": [
      "f1_score на тренировочном наборе: 0.94\n",
      "f1_score на тестовом наборе: 0.80\n"
     ]
    }
   ],
   "source": [
    "#Создаем объект класса случайный лес\n",
    "rf = ensemble.RandomForestClassifier(random_state=42, max_depth=20, n_estimators = 100, min_samples_leaf = 5)\n",
    "\n",
    "#Обучаем модель\n",
    "rf.fit(X_train, y_train)\n",
    "#Выводим значения метрики \n",
    "y_train_pred = rf.predict(X_train)\n",
    "print('f1_score на тренировочном наборе: {:.2f}'.format(metrics.f1_score(y_train, y_train_pred)))\n",
    "y_test_pred = rf.predict(X_test)\n",
    "print('f1_score на тестовом наборе: {:.2f}'.format(metrics.f1_score(y_test, y_test_pred)))"
   ]
  },
  {
   "cell_type": "markdown",
   "metadata": {},
   "source": [
    "## 3. Подбор гиперпараметров по методу GridSearchCV"
   ]
  },
  {
   "cell_type": "markdown",
   "metadata": {},
   "source": [
    "### 3.1. GridSearchCV. Логистическая регрессия (LogisticRegression)"
   ]
  },
  {
   "cell_type": "code",
   "execution_count": 47,
   "metadata": {},
   "outputs": [
    {
     "name": "stderr",
     "output_type": "stream",
     "text": [
      "c:\\Users\\User\\AppData\\Local\\Programs\\Python\\Python312\\Lib\\site-packages\\sklearn\\model_selection\\_validation.py:528: FitFailedWarning: \n",
      "100 fits failed out of a total of 200.\n",
      "The score on these train-test partitions for these parameters will be set to nan.\n",
      "If these failures are not expected, you can try to debug them by setting error_score='raise'.\n",
      "\n",
      "Below are more details about the failures:\n",
      "--------------------------------------------------------------------------------\n",
      "30 fits failed with the following error:\n",
      "Traceback (most recent call last):\n",
      "  File \"c:\\Users\\User\\AppData\\Local\\Programs\\Python\\Python312\\Lib\\site-packages\\sklearn\\model_selection\\_validation.py\", line 866, in _fit_and_score\n",
      "    estimator.fit(X_train, y_train, **fit_params)\n",
      "  File \"c:\\Users\\User\\AppData\\Local\\Programs\\Python\\Python312\\Lib\\site-packages\\sklearn\\base.py\", line 1382, in wrapper\n",
      "    estimator._validate_params()\n",
      "  File \"c:\\Users\\User\\AppData\\Local\\Programs\\Python\\Python312\\Lib\\site-packages\\sklearn\\base.py\", line 436, in _validate_params\n",
      "    validate_parameter_constraints(\n",
      "  File \"c:\\Users\\User\\AppData\\Local\\Programs\\Python\\Python312\\Lib\\site-packages\\sklearn\\utils\\_param_validation.py\", line 98, in validate_parameter_constraints\n",
      "    raise InvalidParameterError(\n",
      "sklearn.utils._param_validation.InvalidParameterError: The 'penalty' parameter of LogisticRegression must be a str among {'elasticnet', 'l1', 'l2'} or None. Got 'none' instead.\n",
      "\n",
      "--------------------------------------------------------------------------------\n",
      "20 fits failed with the following error:\n",
      "Traceback (most recent call last):\n",
      "  File \"c:\\Users\\User\\AppData\\Local\\Programs\\Python\\Python312\\Lib\\site-packages\\sklearn\\model_selection\\_validation.py\", line 866, in _fit_and_score\n",
      "    estimator.fit(X_train, y_train, **fit_params)\n",
      "  File \"c:\\Users\\User\\AppData\\Local\\Programs\\Python\\Python312\\Lib\\site-packages\\sklearn\\base.py\", line 1382, in wrapper\n",
      "    estimator._validate_params()\n",
      "  File \"c:\\Users\\User\\AppData\\Local\\Programs\\Python\\Python312\\Lib\\site-packages\\sklearn\\base.py\", line 436, in _validate_params\n",
      "    validate_parameter_constraints(\n",
      "  File \"c:\\Users\\User\\AppData\\Local\\Programs\\Python\\Python312\\Lib\\site-packages\\sklearn\\utils\\_param_validation.py\", line 98, in validate_parameter_constraints\n",
      "    raise InvalidParameterError(\n",
      "sklearn.utils._param_validation.InvalidParameterError: The 'penalty' parameter of LogisticRegression must be a str among {'l1', 'elasticnet', 'l2'} or None. Got 'none' instead.\n",
      "\n",
      "--------------------------------------------------------------------------------\n",
      "10 fits failed with the following error:\n",
      "Traceback (most recent call last):\n",
      "  File \"c:\\Users\\User\\AppData\\Local\\Programs\\Python\\Python312\\Lib\\site-packages\\sklearn\\model_selection\\_validation.py\", line 866, in _fit_and_score\n",
      "    estimator.fit(X_train, y_train, **fit_params)\n",
      "  File \"c:\\Users\\User\\AppData\\Local\\Programs\\Python\\Python312\\Lib\\site-packages\\sklearn\\base.py\", line 1382, in wrapper\n",
      "    estimator._validate_params()\n",
      "  File \"c:\\Users\\User\\AppData\\Local\\Programs\\Python\\Python312\\Lib\\site-packages\\sklearn\\base.py\", line 436, in _validate_params\n",
      "    validate_parameter_constraints(\n",
      "  File \"c:\\Users\\User\\AppData\\Local\\Programs\\Python\\Python312\\Lib\\site-packages\\sklearn\\utils\\_param_validation.py\", line 98, in validate_parameter_constraints\n",
      "    raise InvalidParameterError(\n",
      "sklearn.utils._param_validation.InvalidParameterError: The 'penalty' parameter of LogisticRegression must be a str among {'l2', 'elasticnet', 'l1'} or None. Got 'none' instead.\n",
      "\n",
      "--------------------------------------------------------------------------------\n",
      "10 fits failed with the following error:\n",
      "Traceback (most recent call last):\n",
      "  File \"c:\\Users\\User\\AppData\\Local\\Programs\\Python\\Python312\\Lib\\site-packages\\sklearn\\model_selection\\_validation.py\", line 866, in _fit_and_score\n",
      "    estimator.fit(X_train, y_train, **fit_params)\n",
      "  File \"c:\\Users\\User\\AppData\\Local\\Programs\\Python\\Python312\\Lib\\site-packages\\sklearn\\base.py\", line 1382, in wrapper\n",
      "    estimator._validate_params()\n",
      "  File \"c:\\Users\\User\\AppData\\Local\\Programs\\Python\\Python312\\Lib\\site-packages\\sklearn\\base.py\", line 436, in _validate_params\n",
      "    validate_parameter_constraints(\n",
      "  File \"c:\\Users\\User\\AppData\\Local\\Programs\\Python\\Python312\\Lib\\site-packages\\sklearn\\utils\\_param_validation.py\", line 98, in validate_parameter_constraints\n",
      "    raise InvalidParameterError(\n",
      "sklearn.utils._param_validation.InvalidParameterError: The 'penalty' parameter of LogisticRegression must be a str among {'l2', 'l1', 'elasticnet'} or None. Got 'none' instead.\n",
      "\n",
      "--------------------------------------------------------------------------------\n",
      "30 fits failed with the following error:\n",
      "Traceback (most recent call last):\n",
      "  File \"c:\\Users\\User\\AppData\\Local\\Programs\\Python\\Python312\\Lib\\site-packages\\sklearn\\model_selection\\_validation.py\", line 866, in _fit_and_score\n",
      "    estimator.fit(X_train, y_train, **fit_params)\n",
      "  File \"c:\\Users\\User\\AppData\\Local\\Programs\\Python\\Python312\\Lib\\site-packages\\sklearn\\base.py\", line 1382, in wrapper\n",
      "    estimator._validate_params()\n",
      "  File \"c:\\Users\\User\\AppData\\Local\\Programs\\Python\\Python312\\Lib\\site-packages\\sklearn\\base.py\", line 436, in _validate_params\n",
      "    validate_parameter_constraints(\n",
      "  File \"c:\\Users\\User\\AppData\\Local\\Programs\\Python\\Python312\\Lib\\site-packages\\sklearn\\utils\\_param_validation.py\", line 98, in validate_parameter_constraints\n",
      "    raise InvalidParameterError(\n",
      "sklearn.utils._param_validation.InvalidParameterError: The 'penalty' parameter of LogisticRegression must be a str among {'elasticnet', 'l2', 'l1'} or None. Got 'none' instead.\n",
      "\n",
      "  warnings.warn(some_fits_failed_message, FitFailedWarning)\n",
      "c:\\Users\\User\\AppData\\Local\\Programs\\Python\\Python312\\Lib\\site-packages\\sklearn\\model_selection\\_search.py:1108: UserWarning: One or more of the test scores are non-finite: [0.763      0.762             nan        nan 0.74933333 0.74966667\n",
      "        nan        nan 0.75033333 0.752             nan        nan\n",
      " 0.74466667 0.74566667        nan        nan 0.74433333 0.74466667\n",
      "        nan        nan 0.74533333 0.74533333        nan        nan\n",
      " 0.74366667 0.74566667        nan        nan 0.74233333 0.74466667\n",
      "        nan        nan 0.74133333 0.745             nan        nan\n",
      " 0.73966667 0.74466667        nan        nan]\n",
      "  warnings.warn(\n"
     ]
    },
    {
     "name": "stdout",
     "output_type": "stream",
     "text": [
      "CPU times: total: 906 ms\n",
      "Wall time: 1min 41s\n",
      "f1_score на тренировочном наборе: 0.82\n",
      "f1_score на тестовом наборе: 0.78\n",
      "Наилучшие значения гиперпараметров: {'C': np.float64(0.01), 'penalty': 'l2', 'solver': 'lbfgs'}\n"
     ]
    }
   ],
   "source": [
    "param_grid = {'penalty': ['l2', 'none'] ,\n",
    "              'solver': ['lbfgs', 'sag'],\n",
    "               'C': list(np.linspace(0.01, 10, 10, dtype=float))}\n",
    "            \n",
    "grid_search_1 = GridSearchCV(\n",
    "    estimator=linear_model.LogisticRegression(random_state=42, max_iter=500), \n",
    "    param_grid=param_grid, \n",
    "    cv=5, \n",
    "    n_jobs = -1\n",
    ")  \n",
    "%time grid_search_1.fit(X_train, y_train) \n",
    "y_train_pred = grid_search_1.predict(X_train)\n",
    "y_test_pred = grid_search_1.predict(X_test)\n",
    "print('f1_score на тренировочном наборе: {:.2f}'.format(metrics.f1_score(y_train, y_train_pred)))\n",
    "print('f1_score на тестовом наборе: {:.2f}'.format(metrics.f1_score(y_test, y_test_pred)))\n",
    "print(\"Наилучшие значения гиперпараметров: {}\".format(grid_search_1.best_params_))"
   ]
  },
  {
   "cell_type": "markdown",
   "metadata": {},
   "source": [
    "### 3.2. GridSearchCV.Случайный лес (Random Forest)"
   ]
  },
  {
   "cell_type": "code",
   "execution_count": null,
   "metadata": {},
   "outputs": [
    {
     "name": "stdout",
     "output_type": "stream",
     "text": [
      "CPU times: total: 9.78 s\n",
      "Wall time: 17min 25s\n",
      "f1_score на тренировочном наборе: 0.96\n",
      "f1_score на тестовом наборе: 0.80\n",
      "Наилучшие значения гиперпараметров: {'max_depth': np.int64(20), 'min_samples_leaf': 4, 'n_estimators': 280}\n"
     ]
    }
   ],
   "source": [
    "param_grid = {'n_estimators': list(range(100, 300, 20)),\n",
    "              'min_samples_leaf': list(range(4, 10, 1)),\n",
    "              'max_depth': list(np.linspace(20, 100, 10, dtype=int))\n",
    "              }\n",
    "\n",
    "grid_search_2 = GridSearchCV(\n",
    "    estimator=ensemble.RandomForestClassifier(random_state=42), \n",
    "    param_grid = param_grid, \n",
    "    cv=5, \n",
    "    n_jobs = -1\n",
    ")  \n",
    "%time grid_search_2.fit(X_train, y_train) \n",
    "y_train_pred = grid_search_2.predict(X_train)\n",
    "y_test_pred = grid_search_2.predict(X_test)\n",
    "print('f1_score на тренировочном наборе: {:.2f}'.format(metrics.f1_score(y_train, y_train_pred)))\n",
    "print('f1_score на тестовом наборе: {:.2f}'.format(metrics.f1_score(y_test, y_test_pred)))\n",
    "print(\"Наилучшие значения гиперпараметров: {}\".format(grid_search_2.best_params_))"
   ]
  },
  {
   "cell_type": "markdown",
   "metadata": {},
   "source": [
    "## 4. Подбор гиперпараметров по методу RandomizedSearchCV"
   ]
  },
  {
   "cell_type": "markdown",
   "metadata": {},
   "source": [
    "### 4.1. RandomizedSearchCV. Логистическая регрессия"
   ]
  },
  {
   "cell_type": "code",
   "execution_count": 67,
   "metadata": {},
   "outputs": [
    {
     "name": "stderr",
     "output_type": "stream",
     "text": [
      "c:\\Users\\User\\AppData\\Local\\Programs\\Python\\Python312\\Lib\\site-packages\\sklearn\\model_selection\\_validation.py:528: FitFailedWarning: \n",
      "30 fits failed out of a total of 75.\n",
      "The score on these train-test partitions for these parameters will be set to nan.\n",
      "If these failures are not expected, you can try to debug them by setting error_score='raise'.\n",
      "\n",
      "Below are more details about the failures:\n",
      "--------------------------------------------------------------------------------\n",
      "21 fits failed with the following error:\n",
      "Traceback (most recent call last):\n",
      "  File \"c:\\Users\\User\\AppData\\Local\\Programs\\Python\\Python312\\Lib\\site-packages\\sklearn\\model_selection\\_validation.py\", line 866, in _fit_and_score\n",
      "    estimator.fit(X_train, y_train, **fit_params)\n",
      "  File \"c:\\Users\\User\\AppData\\Local\\Programs\\Python\\Python312\\Lib\\site-packages\\sklearn\\base.py\", line 1382, in wrapper\n",
      "    estimator._validate_params()\n",
      "  File \"c:\\Users\\User\\AppData\\Local\\Programs\\Python\\Python312\\Lib\\site-packages\\sklearn\\base.py\", line 436, in _validate_params\n",
      "    validate_parameter_constraints(\n",
      "  File \"c:\\Users\\User\\AppData\\Local\\Programs\\Python\\Python312\\Lib\\site-packages\\sklearn\\utils\\_param_validation.py\", line 98, in validate_parameter_constraints\n",
      "    raise InvalidParameterError(\n",
      "sklearn.utils._param_validation.InvalidParameterError: The 'penalty' parameter of LogisticRegression must be a str among {'elasticnet', 'l2', 'l1'} or None. Got 'none' instead.\n",
      "\n",
      "--------------------------------------------------------------------------------\n",
      "5 fits failed with the following error:\n",
      "Traceback (most recent call last):\n",
      "  File \"c:\\Users\\User\\AppData\\Local\\Programs\\Python\\Python312\\Lib\\site-packages\\sklearn\\model_selection\\_validation.py\", line 866, in _fit_and_score\n",
      "    estimator.fit(X_train, y_train, **fit_params)\n",
      "  File \"c:\\Users\\User\\AppData\\Local\\Programs\\Python\\Python312\\Lib\\site-packages\\sklearn\\base.py\", line 1382, in wrapper\n",
      "    estimator._validate_params()\n",
      "  File \"c:\\Users\\User\\AppData\\Local\\Programs\\Python\\Python312\\Lib\\site-packages\\sklearn\\base.py\", line 436, in _validate_params\n",
      "    validate_parameter_constraints(\n",
      "  File \"c:\\Users\\User\\AppData\\Local\\Programs\\Python\\Python312\\Lib\\site-packages\\sklearn\\utils\\_param_validation.py\", line 98, in validate_parameter_constraints\n",
      "    raise InvalidParameterError(\n",
      "sklearn.utils._param_validation.InvalidParameterError: The 'penalty' parameter of LogisticRegression must be a str among {'l2', 'l1', 'elasticnet'} or None. Got 'none' instead.\n",
      "\n",
      "--------------------------------------------------------------------------------\n",
      "4 fits failed with the following error:\n",
      "Traceback (most recent call last):\n",
      "  File \"c:\\Users\\User\\AppData\\Local\\Programs\\Python\\Python312\\Lib\\site-packages\\sklearn\\model_selection\\_validation.py\", line 866, in _fit_and_score\n",
      "    estimator.fit(X_train, y_train, **fit_params)\n",
      "  File \"c:\\Users\\User\\AppData\\Local\\Programs\\Python\\Python312\\Lib\\site-packages\\sklearn\\base.py\", line 1382, in wrapper\n",
      "    estimator._validate_params()\n",
      "  File \"c:\\Users\\User\\AppData\\Local\\Programs\\Python\\Python312\\Lib\\site-packages\\sklearn\\base.py\", line 436, in _validate_params\n",
      "    validate_parameter_constraints(\n",
      "  File \"c:\\Users\\User\\AppData\\Local\\Programs\\Python\\Python312\\Lib\\site-packages\\sklearn\\utils\\_param_validation.py\", line 98, in validate_parameter_constraints\n",
      "    raise InvalidParameterError(\n",
      "sklearn.utils._param_validation.InvalidParameterError: The 'penalty' parameter of LogisticRegression must be a str among {'elasticnet', 'l1', 'l2'} or None. Got 'none' instead.\n",
      "\n",
      "  warnings.warn(some_fits_failed_message, FitFailedWarning)\n",
      "c:\\Users\\User\\AppData\\Local\\Programs\\Python\\Python312\\Lib\\site-packages\\sklearn\\model_selection\\_search.py:1108: UserWarning: One or more of the test scores are non-finite: [0.74933333 0.74566667 0.74366667        nan        nan 0.74466667\n",
      " 0.74533333 0.74466667        nan 0.74533333 0.74466667        nan\n",
      " 0.74966667        nan        nan]\n",
      "  warnings.warn(\n"
     ]
    },
    {
     "name": "stdout",
     "output_type": "stream",
     "text": [
      "CPU times: total: 9.97 s\n",
      "Wall time: 1min 12s\n",
      "f1_score на тренировочном наборе: 0.89\n",
      "f1_score на тестовом наборе: 0.78\n",
      "Наилучшие значения гиперпараметров: {'solver': 'sag', 'penalty': 'l2', 'C': np.float64(1.12)}\n"
     ]
    }
   ],
   "source": [
    "#np.linspace(start(от), stop(до), num=50(количество),dtype- тип данных)\n",
    "param_distributions ={'penalty': ['l2', 'none'] ,\n",
    "              'solver': ['lbfgs', 'sag'],\n",
    "               'C': list(np.linspace(0.01, 10, 10, dtype=float))}\n",
    "            \n",
    "random_search = RandomizedSearchCV(\n",
    "    estimator=linear_model.LogisticRegression(random_state=42, max_iter=500), \n",
    "    param_distributions=param_distributions, \n",
    "    cv=5, \n",
    "    n_iter = 15, \n",
    "    n_jobs = -1\n",
    ")  \n",
    "%time random_search.fit(X_train, y_train) \n",
    "y_train_pred = random_search.predict(X_train)\n",
    "y_test_pred = random_search.predict(X_test)\n",
    "print('f1_score на тренировочном наборе: {:.2f}'.format(metrics.f1_score(y_train, y_train_pred)))\n",
    "print('f1_score на тестовом наборе: {:.2f}'.format(metrics.f1_score(y_test, y_test_pred)))\n",
    "print(\"Наилучшие значения гиперпараметров: {}\".format(random_search.best_params_))"
   ]
  },
  {
   "cell_type": "markdown",
   "metadata": {},
   "source": [
    "### 4.2. RandomizedSearchCV. Случайный лес (Random Forest)"
   ]
  },
  {
   "cell_type": "code",
   "execution_count": 76,
   "metadata": {},
   "outputs": [
    {
     "name": "stdout",
     "output_type": "stream",
     "text": [
      "CPU times: total: 2.09 s\n",
      "Wall time: 27 s\n",
      "f1_score на тренировочном наборе: 0.96\n",
      "f1_score на тестовом наборе: 0.80\n",
      "Наилучшие значения гиперпараметров: {'n_estimators': 200, 'min_samples_leaf': 4, 'max_depth': np.int64(100)}\n"
     ]
    }
   ],
   "source": [
    "param_distributions = {'n_estimators': list(range(100, 300, 20)),\n",
    "              'min_samples_leaf': list(range(4, 10, 1)),\n",
    "              'max_depth': list(np.linspace(20, 100, 10, dtype=int))\n",
    "              }\n",
    "            \n",
    "random_search_forest = RandomizedSearchCV(\n",
    "    estimator=ensemble.RandomForestClassifier(random_state=42), \n",
    "    param_distributions=param_distributions, \n",
    "    cv=5,\n",
    "    n_iter = 15, \n",
    "    n_jobs = -1\n",
    ")  \n",
    "%time random_search_forest.fit(X_train, y_train) \n",
    "y_train_pred = random_search_forest.predict(X_train)\n",
    "y_test_pred = random_search_forest.predict(X_test)\n",
    "print('f1_score на тренировочном наборе: {:.2f}'.format(metrics.f1_score(y_train, y_train_pred)))\n",
    "print('f1_score на тестовом наборе: {:.2f}'.format(metrics.f1_score(y_test, y_test_pred)))\n",
    "print(\"Наилучшие значения гиперпараметров: {}\".format(random_search_forest.best_params_))"
   ]
  },
  {
   "cell_type": "markdown",
   "metadata": {},
   "source": [
    "## 5. Подбор гиперпараметров по методу Hyperopt c приенением кросс-валидации"
   ]
  },
  {
   "cell_type": "markdown",
   "metadata": {},
   "source": [
    "### 5.1. Hyperopt. Логистическая регрессия"
   ]
  },
  {
   "cell_type": "code",
   "execution_count": 151,
   "metadata": {},
   "outputs": [],
   "source": [
    "# Пространство поиска гиперпараметров\n",
    "space  = {\n",
    "    'penalty': hp.choice('penalty', ['l2']),\n",
    "    'solver': hp.choice('solver', ['lbfgs', 'sag']),\n",
    "    'C': hp.uniform('C', 0.01, 10)\n",
    "}\n"
   ]
  },
  {
   "cell_type": "code",
   "execution_count": 152,
   "metadata": {},
   "outputs": [],
   "source": [
    "# Фиксируем random_state\n",
    "random_state = 42\n",
    "\n",
    "# Функция для оптимизации\n",
    "def hyperopt_lr(params, cv=5, X=X_train, y=y_train, random_state=random_state):\n",
    "    params = {\n",
    "        'penalty': params['penalty'], \n",
    "        'solver': params['solver'], \n",
    "        'C': float(params['C'])\n",
    "    }\n",
    "  \n",
    "    model = linear_model.LogisticRegression(**params, random_state=random_state)\n",
    "\n",
    "    # Кросс-валидация для оценки качества модели\n",
    "    score = cross_val_score(model, X, y, cv=cv, scoring=\"f1\", n_jobs=-1).mean()\n",
    "\n",
    "    return -score  # Hyperopt минимизирует метрику, поэтому знак минус\n"
   ]
  },
  {
   "cell_type": "code",
   "execution_count": 153,
   "metadata": {},
   "outputs": [
    {
     "name": "stdout",
     "output_type": "stream",
     "text": [
      "  0%|          | 0/50 [00:00<?, ?trial/s, best loss=?]"
     ]
    },
    {
     "name": "stdout",
     "output_type": "stream",
     "text": [
      "100%|██████████| 50/50 [01:22<00:00,  1.65s/trial, best loss: -0.7905922573091402]\n",
      "Наилучшие значения гиперпараметров: {'C': np.float64(0.04104040887245952), 'penalty': np.int64(0), 'solver': np.int64(0)}\n",
      "CPU times: total: 1.78 s\n",
      "Wall time: 1min 22s\n"
     ]
    }
   ],
   "source": [
    "%%time\n",
    "# Запуск оптимизации\n",
    "trials = Trials()\n",
    "\n",
    "best = fmin(\n",
    "    fn=hyperopt_lr,  \n",
    "    space=space,     \n",
    "    algo=tpe.suggest,  \n",
    "    max_evals=50,    \n",
    "    trials=trials,  \n",
    "    rstate=np.random.default_rng(random_state)  \n",
    ")\n",
    "\n",
    "print(\"Наилучшие значения гиперпараметров:\", best)"
   ]
  },
  {
   "cell_type": "code",
   "execution_count": 154,
   "metadata": {},
   "outputs": [
    {
     "name": "stdout",
     "output_type": "stream",
     "text": [
      "f1_score на тренировочном наборе: 0.84\n",
      "f1_score на тестовом наборе: 0.79\n"
     ]
    }
   ],
   "source": [
    "# рассчитаем точность для тестовой выборки\n",
    "p = {'penalty': ['l2'],\n",
    "    'solver': ['lbfgs', 'sag']\n",
    "}\n",
    "\n",
    "model_lr = linear_model.LogisticRegression(\n",
    "    random_state=random_state, \n",
    "    penalty=p['penalty'][int(best['penalty'])],\n",
    "    solver=p['solver'][int(best['solver'])],\n",
    "    C=float(best['C'])\n",
    ")\n",
    "model_lr.fit(X_train, y_train)\n",
    "y_train_pred = model.predict(X_train)\n",
    "y_test_pred = model.predict(X_test)\n",
    "print('f1_score на тренировочном наборе: {:.2f}'.format(metrics.f1_score(y_train, y_train_pred)))\n",
    "print('f1_score на тестовом наборе: {:.2f}'.format(metrics.f1_score(y_test, y_test_pred)))"
   ]
  },
  {
   "cell_type": "markdown",
   "metadata": {},
   "source": [
    "### 5.2. Hyperopt. Случайный лес (Random Forest)"
   ]
  },
  {
   "cell_type": "code",
   "execution_count": 159,
   "metadata": {},
   "outputs": [],
   "source": [
    "# зададим пространство поиска гиперпараметров\n",
    "space={'n_estimators': hp.quniform('n_estimators', 100, 300, 20),\n",
    "        'min_samples_leaf': hp.quniform('min_samples_leaf', 4, 10, 1),\n",
    "       'max_depth' : hp.quniform('max_depth', 20, 100, 10)\n",
    "      }"
   ]
  },
  {
   "cell_type": "code",
   "execution_count": 160,
   "metadata": {},
   "outputs": [],
   "source": [
    "# зафксируем random_state\n",
    "random_state = 42\n",
    "def hyperopt_rf(params, cv=5, X=X_train, y=y_train, random_state=random_state):\n",
    "    # функция получает комбинацию гиперпараметров в \"params\"\n",
    "    params = {'n_estimators': int(params['n_estimators']), \n",
    "              'max_depth': int(params['max_depth']), \n",
    "             'min_samples_leaf': int(params['min_samples_leaf'])\n",
    "              }\n",
    "  \n",
    "    # используем эту комбинацию для построения модели\n",
    "    model = ensemble.RandomForestClassifier(**params, random_state=random_state)\n",
    "\n",
    "    # применим  cross validation с тем же количеством фолдов\n",
    "    score = cross_val_score(model, X, y, cv=cv, scoring=\"f1\", n_jobs=-1).mean()\n",
    "\n",
    "    # метрику необходимо минимизировать, поэтому ставим знак минус\n",
    "    return -score"
   ]
  },
  {
   "cell_type": "code",
   "execution_count": 161,
   "metadata": {},
   "outputs": [
    {
     "name": "stdout",
     "output_type": "stream",
     "text": [
      "100%|██████████| 20/20 [00:36<00:00,  1.84s/trial, best loss: -0.8123515587949139]\n",
      "Наилучшие значения гиперпараметров {'max_depth': np.float64(40.0), 'min_samples_leaf': np.float64(4.0), 'n_estimators': np.float64(100.0)}\n",
      "CPU times: total: 688 ms\n",
      "Wall time: 36.8 s\n"
     ]
    }
   ],
   "source": [
    "%%time\n",
    "# начинаем подбор гиперпараметров\n",
    "\n",
    "trials = Trials() # используется для логирования результатов\n",
    "\n",
    "best=fmin(hyperopt_rf, # наша функция \n",
    "          space=space, # пространство гиперпараметров\n",
    "          algo=tpe.suggest, # алгоритм оптимизации, установлен по умолчанию, задавать необязательно\n",
    "          max_evals=20, # максимальное количество итераций\n",
    "          trials=trials, # логирование результатов\n",
    "          rstate=np.random.default_rng(random_state)# фиксируем для повторяемости результата\n",
    "         )\n",
    "print(\"Наилучшие значения гиперпараметров {}\".format(best))"
   ]
  },
  {
   "cell_type": "code",
   "execution_count": 162,
   "metadata": {},
   "outputs": [
    {
     "name": "stdout",
     "output_type": "stream",
     "text": [
      "f1_score на тренировочном наборе: 0.96\n",
      "f1_score на тестовом наборе: 0.81\n"
     ]
    }
   ],
   "source": [
    "# рассчитаем точность для тестовой выборки\n",
    "model_rf = ensemble.RandomForestClassifier(\n",
    "    random_state=random_state, \n",
    "    n_estimators=int(best['n_estimators']),\n",
    "    max_depth=int(best['max_depth']),\n",
    "    min_samples_leaf=int(best['min_samples_leaf'])\n",
    ")\n",
    "model_rf.fit(X_train, y_train)\n",
    "y_train_pred = model_rf.predict(X_train)\n",
    "y_test_pred = model_rf.predict(X_test)\n",
    "print('f1_score на тренировочном наборе: {:.2f}'.format(metrics.f1_score(y_train, y_train_pred)))\n",
    "print('f1_score на тестовом наборе: {:.2f}'.format(metrics.f1_score(y_test, y_test_pred)))"
   ]
  },
  {
   "cell_type": "markdown",
   "metadata": {},
   "source": [
    "### 6. Подбор гиперпараметров по методу Optuna с применением кросс-валидации"
   ]
  },
  {
   "cell_type": "markdown",
   "metadata": {},
   "source": [
    "### 6.1. Optuna. Логистическая регрессия"
   ]
  },
  {
   "cell_type": "code",
   "execution_count": 163,
   "metadata": {},
   "outputs": [],
   "source": [
    "def optuna_lr(trial):\n",
    "  # задаем пространства поиска гиперпараметров\n",
    "  penalty = trial.suggest_categorical('penalty', ['l2'])\n",
    "  solver = trial.suggest_categorical('solver', ['lbfgs', 'sag'])\n",
    "  C = trial.suggest_uniform('C', 0.01, 10)\n",
    "\n",
    "  # создаем модель\n",
    "  model = linear_model.LogisticRegression(penalty=penalty,\n",
    "                                          solver=solver,\n",
    "                                          C=C,\n",
    "                                          random_state=random_state)\n",
    "  \n",
    "  # применим  cross validation на 5 фолдах\n",
    "  score = cross_val_score(model, X, y, cv=5, scoring=\"f1\", n_jobs=-1).mean()\n",
    "\n",
    "  return score"
   ]
  },
  {
   "cell_type": "code",
   "execution_count": 172,
   "metadata": {},
   "outputs": [
    {
     "name": "stderr",
     "output_type": "stream",
     "text": [
      "[I 2025-03-13 12:35:33,933] A new study created in memory with name: LogisticRegression\n",
      "C:\\Users\\User\\AppData\\Local\\Temp\\ipykernel_15408\\3215296696.py:5: FutureWarning: suggest_uniform has been deprecated in v3.0.0. This feature will be removed in v6.0.0. See https://github.com/optuna/optuna/releases/tag/v3.0.0. Use suggest_float instead.\n",
      "  C = trial.suggest_uniform('C', 0.01, 10)\n",
      "[I 2025-03-13 12:35:38,177] Trial 0 finished with value: 0.7711625134869025 and parameters: {'penalty': 'l2', 'solver': 'sag', 'C': 8.58724483394793}. Best is trial 0 with value: 0.7711625134869025.\n",
      "C:\\Users\\User\\AppData\\Local\\Temp\\ipykernel_15408\\3215296696.py:5: FutureWarning: suggest_uniform has been deprecated in v3.0.0. This feature will be removed in v6.0.0. See https://github.com/optuna/optuna/releases/tag/v3.0.0. Use suggest_float instead.\n",
      "  C = trial.suggest_uniform('C', 0.01, 10)\n",
      "[I 2025-03-13 12:35:41,832] Trial 1 finished with value: 0.7711625134869025 and parameters: {'penalty': 'l2', 'solver': 'sag', 'C': 7.510825984501563}. Best is trial 0 with value: 0.7711625134869025.\n",
      "C:\\Users\\User\\AppData\\Local\\Temp\\ipykernel_15408\\3215296696.py:5: FutureWarning: suggest_uniform has been deprecated in v3.0.0. This feature will be removed in v6.0.0. See https://github.com/optuna/optuna/releases/tag/v3.0.0. Use suggest_float instead.\n",
      "  C = trial.suggest_uniform('C', 0.01, 10)\n",
      "[I 2025-03-13 12:35:44,873] Trial 2 finished with value: 0.7731658113572752 and parameters: {'penalty': 'l2', 'solver': 'sag', 'C': 2.7576878557316986}. Best is trial 2 with value: 0.7731658113572752.\n",
      "C:\\Users\\User\\AppData\\Local\\Temp\\ipykernel_15408\\3215296696.py:5: FutureWarning: suggest_uniform has been deprecated in v3.0.0. This feature will be removed in v6.0.0. See https://github.com/optuna/optuna/releases/tag/v3.0.0. Use suggest_float instead.\n",
      "  C = trial.suggest_uniform('C', 0.01, 10)\n",
      "[I 2025-03-13 12:35:46,501] Trial 3 finished with value: 0.7642037447732204 and parameters: {'penalty': 'l2', 'solver': 'lbfgs', 'C': 6.3367693267079765}. Best is trial 2 with value: 0.7731658113572752.\n",
      "C:\\Users\\User\\AppData\\Local\\Temp\\ipykernel_15408\\3215296696.py:5: FutureWarning: suggest_uniform has been deprecated in v3.0.0. This feature will be removed in v6.0.0. See https://github.com/optuna/optuna/releases/tag/v3.0.0. Use suggest_float instead.\n",
      "  C = trial.suggest_uniform('C', 0.01, 10)\n",
      "[I 2025-03-13 12:35:49,464] Trial 4 finished with value: 0.7723055733096218 and parameters: {'penalty': 'l2', 'solver': 'sag', 'C': 3.8813348660880562}. Best is trial 2 with value: 0.7731658113572752.\n",
      "C:\\Users\\User\\AppData\\Local\\Temp\\ipykernel_15408\\3215296696.py:5: FutureWarning: suggest_uniform has been deprecated in v3.0.0. This feature will be removed in v6.0.0. See https://github.com/optuna/optuna/releases/tag/v3.0.0. Use suggest_float instead.\n",
      "  C = trial.suggest_uniform('C', 0.01, 10)\n",
      "[I 2025-03-13 12:35:52,569] Trial 5 finished with value: 0.7787384200149017 and parameters: {'penalty': 'l2', 'solver': 'sag', 'C': 0.3933776868798267}. Best is trial 5 with value: 0.7787384200149017.\n",
      "C:\\Users\\User\\AppData\\Local\\Temp\\ipykernel_15408\\3215296696.py:5: FutureWarning: suggest_uniform has been deprecated in v3.0.0. This feature will be removed in v6.0.0. See https://github.com/optuna/optuna/releases/tag/v3.0.0. Use suggest_float instead.\n",
      "  C = trial.suggest_uniform('C', 0.01, 10)\n",
      "[I 2025-03-13 12:35:56,042] Trial 6 finished with value: 0.7711625134869025 and parameters: {'penalty': 'l2', 'solver': 'sag', 'C': 6.679789526393089}. Best is trial 5 with value: 0.7787384200149017.\n",
      "C:\\Users\\User\\AppData\\Local\\Temp\\ipykernel_15408\\3215296696.py:5: FutureWarning: suggest_uniform has been deprecated in v3.0.0. This feature will be removed in v6.0.0. See https://github.com/optuna/optuna/releases/tag/v3.0.0. Use suggest_float instead.\n",
      "  C = trial.suggest_uniform('C', 0.01, 10)\n",
      "[I 2025-03-13 12:35:57,376] Trial 7 finished with value: 0.7917305838402324 and parameters: {'penalty': 'l2', 'solver': 'lbfgs', 'C': 0.03179356202044572}. Best is trial 7 with value: 0.7917305838402324.\n",
      "C:\\Users\\User\\AppData\\Local\\Temp\\ipykernel_15408\\3215296696.py:5: FutureWarning: suggest_uniform has been deprecated in v3.0.0. This feature will be removed in v6.0.0. See https://github.com/optuna/optuna/releases/tag/v3.0.0. Use suggest_float instead.\n",
      "  C = trial.suggest_uniform('C', 0.01, 10)\n",
      "[I 2025-03-13 12:36:00,526] Trial 8 finished with value: 0.7711625134869025 and parameters: {'penalty': 'l2', 'solver': 'sag', 'C': 7.478159834753211}. Best is trial 7 with value: 0.7917305838402324.\n",
      "C:\\Users\\User\\AppData\\Local\\Temp\\ipykernel_15408\\3215296696.py:5: FutureWarning: suggest_uniform has been deprecated in v3.0.0. This feature will be removed in v6.0.0. See https://github.com/optuna/optuna/releases/tag/v3.0.0. Use suggest_float instead.\n",
      "  C = trial.suggest_uniform('C', 0.01, 10)\n",
      "[I 2025-03-13 12:36:02,284] Trial 9 finished with value: 0.761543361008487 and parameters: {'penalty': 'l2', 'solver': 'lbfgs', 'C': 9.662379352173955}. Best is trial 7 with value: 0.7917305838402324.\n",
      "C:\\Users\\User\\AppData\\Local\\Temp\\ipykernel_15408\\3215296696.py:5: FutureWarning: suggest_uniform has been deprecated in v3.0.0. This feature will be removed in v6.0.0. See https://github.com/optuna/optuna/releases/tag/v3.0.0. Use suggest_float instead.\n",
      "  C = trial.suggest_uniform('C', 0.01, 10)\n",
      "[I 2025-03-13 12:36:03,927] Trial 10 finished with value: 0.7781811222786833 and parameters: {'penalty': 'l2', 'solver': 'lbfgs', 'C': 0.4076918743758564}. Best is trial 7 with value: 0.7917305838402324.\n",
      "C:\\Users\\User\\AppData\\Local\\Temp\\ipykernel_15408\\3215296696.py:5: FutureWarning: suggest_uniform has been deprecated in v3.0.0. This feature will be removed in v6.0.0. See https://github.com/optuna/optuna/releases/tag/v3.0.0. Use suggest_float instead.\n",
      "  C = trial.suggest_uniform('C', 0.01, 10)\n",
      "[I 2025-03-13 12:36:05,536] Trial 11 finished with value: 0.7795330214182462 and parameters: {'penalty': 'l2', 'solver': 'lbfgs', 'C': 0.31262494032491045}. Best is trial 7 with value: 0.7917305838402324.\n",
      "C:\\Users\\User\\AppData\\Local\\Temp\\ipykernel_15408\\3215296696.py:5: FutureWarning: suggest_uniform has been deprecated in v3.0.0. This feature will be removed in v6.0.0. See https://github.com/optuna/optuna/releases/tag/v3.0.0. Use suggest_float instead.\n",
      "  C = trial.suggest_uniform('C', 0.01, 10)\n",
      "[I 2025-03-13 12:36:07,395] Trial 12 finished with value: 0.7680720980027613 and parameters: {'penalty': 'l2', 'solver': 'lbfgs', 'C': 2.0365190536830435}. Best is trial 7 with value: 0.7917305838402324.\n",
      "C:\\Users\\User\\AppData\\Local\\Temp\\ipykernel_15408\\3215296696.py:5: FutureWarning: suggest_uniform has been deprecated in v3.0.0. This feature will be removed in v6.0.0. See https://github.com/optuna/optuna/releases/tag/v3.0.0. Use suggest_float instead.\n",
      "  C = trial.suggest_uniform('C', 0.01, 10)\n",
      "[I 2025-03-13 12:36:08,978] Trial 13 finished with value: 0.7704632823749746 and parameters: {'penalty': 'l2', 'solver': 'lbfgs', 'C': 1.7435991399257116}. Best is trial 7 with value: 0.7917305838402324.\n",
      "C:\\Users\\User\\AppData\\Local\\Temp\\ipykernel_15408\\3215296696.py:5: FutureWarning: suggest_uniform has been deprecated in v3.0.0. This feature will be removed in v6.0.0. See https://github.com/optuna/optuna/releases/tag/v3.0.0. Use suggest_float instead.\n",
      "  C = trial.suggest_uniform('C', 0.01, 10)\n",
      "[I 2025-03-13 12:36:10,627] Trial 14 finished with value: 0.7637767776154638 and parameters: {'penalty': 'l2', 'solver': 'lbfgs', 'C': 4.648941222777837}. Best is trial 7 with value: 0.7917305838402324.\n",
      "C:\\Users\\User\\AppData\\Local\\Temp\\ipykernel_15408\\3215296696.py:5: FutureWarning: suggest_uniform has been deprecated in v3.0.0. This feature will be removed in v6.0.0. See https://github.com/optuna/optuna/releases/tag/v3.0.0. Use suggest_float instead.\n",
      "  C = trial.suggest_uniform('C', 0.01, 10)\n",
      "[I 2025-03-13 12:36:12,208] Trial 15 finished with value: 0.7832299242404828 and parameters: {'penalty': 'l2', 'solver': 'lbfgs', 'C': 0.1148487492800902}. Best is trial 7 with value: 0.7917305838402324.\n",
      "C:\\Users\\User\\AppData\\Local\\Temp\\ipykernel_15408\\3215296696.py:5: FutureWarning: suggest_uniform has been deprecated in v3.0.0. This feature will be removed in v6.0.0. See https://github.com/optuna/optuna/releases/tag/v3.0.0. Use suggest_float instead.\n",
      "  C = trial.suggest_uniform('C', 0.01, 10)\n",
      "[I 2025-03-13 12:36:14,006] Trial 16 finished with value: 0.7659145427779593 and parameters: {'penalty': 'l2', 'solver': 'lbfgs', 'C': 3.001201816716026}. Best is trial 7 with value: 0.7917305838402324.\n",
      "C:\\Users\\User\\AppData\\Local\\Temp\\ipykernel_15408\\3215296696.py:5: FutureWarning: suggest_uniform has been deprecated in v3.0.0. This feature will be removed in v6.0.0. See https://github.com/optuna/optuna/releases/tag/v3.0.0. Use suggest_float instead.\n",
      "  C = trial.suggest_uniform('C', 0.01, 10)\n",
      "[I 2025-03-13 12:36:15,549] Trial 17 finished with value: 0.7715027312811295 and parameters: {'penalty': 'l2', 'solver': 'lbfgs', 'C': 1.386567861984532}. Best is trial 7 with value: 0.7917305838402324.\n",
      "C:\\Users\\User\\AppData\\Local\\Temp\\ipykernel_15408\\3215296696.py:5: FutureWarning: suggest_uniform has been deprecated in v3.0.0. This feature will be removed in v6.0.0. See https://github.com/optuna/optuna/releases/tag/v3.0.0. Use suggest_float instead.\n",
      "  C = trial.suggest_uniform('C', 0.01, 10)\n",
      "[I 2025-03-13 12:36:17,146] Trial 18 finished with value: 0.7662225798986603 and parameters: {'penalty': 'l2', 'solver': 'lbfgs', 'C': 3.7427197562522445}. Best is trial 7 with value: 0.7917305838402324.\n",
      "C:\\Users\\User\\AppData\\Local\\Temp\\ipykernel_15408\\3215296696.py:5: FutureWarning: suggest_uniform has been deprecated in v3.0.0. This feature will be removed in v6.0.0. See https://github.com/optuna/optuna/releases/tag/v3.0.0. Use suggest_float instead.\n",
      "  C = trial.suggest_uniform('C', 0.01, 10)\n",
      "[I 2025-03-13 12:36:18,743] Trial 19 finished with value: 0.7720835755593901 and parameters: {'penalty': 'l2', 'solver': 'lbfgs', 'C': 1.2551502188325352}. Best is trial 7 with value: 0.7917305838402324.\n"
     ]
    },
    {
     "name": "stdout",
     "output_type": "stream",
     "text": [
      "CPU times: total: 812 ms\n",
      "Wall time: 44.8 s\n"
     ]
    }
   ],
   "source": [
    "%%time\n",
    "# cоздаем объект исследования\n",
    "# максимизируем метрику direction=\"maximize\"\n",
    "study = optuna.create_study(study_name=\"LogisticRegression\", direction=\"maximize\")\n",
    "# ищем лучшую комбинацию гиперпараметров n_trials раз\n",
    "study.optimize(optuna_lr, n_trials=20)"
   ]
  },
  {
   "cell_type": "code",
   "execution_count": 165,
   "metadata": {},
   "outputs": [
    {
     "name": "stdout",
     "output_type": "stream",
     "text": [
      "f1_score на тренировочном наборе: 0.84\n",
      "f1_score на тестовом наборе: 0.79\n"
     ]
    }
   ],
   "source": [
    "# рассчитаем точность для тестовой выборки\n",
    "model_lr = linear_model.LogisticRegression(**best_params, random_state=random_state)\n",
    "model_lr.fit(X_train, y_train)\n",
    "y_train_pred = model_lr.predict(X_train)\n",
    "y_test_pred = model_lr.predict(X_test)\n",
    "print('f1_score на тренировочном наборе: {:.2f}'.format(metrics.f1_score(y_train, y_train_pred)))\n",
    "print('f1_score на тестовом наборе: {:.2f}'.format(metrics.f1_score(y_test, y_test_pred)))"
   ]
  },
  {
   "cell_type": "markdown",
   "metadata": {},
   "source": [
    "### 6.2. Optuna. Случайный лес"
   ]
  },
  {
   "cell_type": "code",
   "execution_count": 166,
   "metadata": {},
   "outputs": [],
   "source": [
    "def optuna_rf(trial):\n",
    "  # задаем пространства поиска гиперпараметров\n",
    "  n_estimators = trial.suggest_int('n_estimators', 100, 300, 20)\n",
    "  min_samples_leaf = trial.suggest_int('min_samples_leaf', 4, 10, 1)\n",
    "  max_depth = trial.suggest_int('max_depth', 20, 100, 10)\n",
    "\n",
    "  # создаем модель\n",
    "  model = ensemble.RandomForestClassifier(n_estimators=n_estimators,\n",
    "                                          max_depth=max_depth,\n",
    "                                          min_samples_leaf=min_samples_leaf,\n",
    "                                          random_state=random_state)\n",
    "  \n",
    "  # применим  cross validation на 5 фолдах\n",
    "  score = cross_val_score(model, X, y, cv=5, scoring=\"f1\", n_jobs=-1).mean()\n",
    "\n",
    "  return score"
   ]
  },
  {
   "cell_type": "code",
   "execution_count": 167,
   "metadata": {},
   "outputs": [
    {
     "name": "stderr",
     "output_type": "stream",
     "text": [
      "[I 2025-03-13 12:18:18,734] A new study created in memory with name: RandomForestClassifier\n",
      "C:\\Users\\User\\AppData\\Local\\Temp\\ipykernel_15408\\688606844.py:3: FutureWarning: suggest_int() got {'step'} as positional arguments but they were expected to be given as keyword arguments.\n",
      "  n_estimators = trial.suggest_int('n_estimators', 100, 300, 20)\n",
      "C:\\Users\\User\\AppData\\Local\\Temp\\ipykernel_15408\\688606844.py:4: FutureWarning: suggest_int() got {'step'} as positional arguments but they were expected to be given as keyword arguments.\n",
      "  min_samples_leaf = trial.suggest_int('min_samples_leaf', 4, 10, 1)\n",
      "C:\\Users\\User\\AppData\\Local\\Temp\\ipykernel_15408\\688606844.py:5: FutureWarning: suggest_int() got {'step'} as positional arguments but they were expected to be given as keyword arguments.\n",
      "  max_depth = trial.suggest_int('max_depth', 20, 100, 10)\n",
      "[I 2025-03-13 12:18:20,822] Trial 0 finished with value: 0.7932526635942431 and parameters: {'n_estimators': 180, 'min_samples_leaf': 10, 'max_depth': 80}. Best is trial 0 with value: 0.7932526635942431.\n",
      "C:\\Users\\User\\AppData\\Local\\Temp\\ipykernel_15408\\688606844.py:3: FutureWarning: suggest_int() got {'step'} as positional arguments but they were expected to be given as keyword arguments.\n",
      "  n_estimators = trial.suggest_int('n_estimators', 100, 300, 20)\n",
      "C:\\Users\\User\\AppData\\Local\\Temp\\ipykernel_15408\\688606844.py:4: FutureWarning: suggest_int() got {'step'} as positional arguments but they were expected to be given as keyword arguments.\n",
      "  min_samples_leaf = trial.suggest_int('min_samples_leaf', 4, 10, 1)\n",
      "C:\\Users\\User\\AppData\\Local\\Temp\\ipykernel_15408\\688606844.py:5: FutureWarning: suggest_int() got {'step'} as positional arguments but they were expected to be given as keyword arguments.\n",
      "  max_depth = trial.suggest_int('max_depth', 20, 100, 10)\n",
      "[I 2025-03-13 12:18:23,926] Trial 1 finished with value: 0.8023959961358011 and parameters: {'n_estimators': 280, 'min_samples_leaf': 8, 'max_depth': 50}. Best is trial 1 with value: 0.8023959961358011.\n",
      "C:\\Users\\User\\AppData\\Local\\Temp\\ipykernel_15408\\688606844.py:3: FutureWarning: suggest_int() got {'step'} as positional arguments but they were expected to be given as keyword arguments.\n",
      "  n_estimators = trial.suggest_int('n_estimators', 100, 300, 20)\n",
      "C:\\Users\\User\\AppData\\Local\\Temp\\ipykernel_15408\\688606844.py:4: FutureWarning: suggest_int() got {'step'} as positional arguments but they were expected to be given as keyword arguments.\n",
      "  min_samples_leaf = trial.suggest_int('min_samples_leaf', 4, 10, 1)\n",
      "C:\\Users\\User\\AppData\\Local\\Temp\\ipykernel_15408\\688606844.py:5: FutureWarning: suggest_int() got {'step'} as positional arguments but they were expected to be given as keyword arguments.\n",
      "  max_depth = trial.suggest_int('max_depth', 20, 100, 10)\n",
      "[I 2025-03-13 12:18:26,734] Trial 2 finished with value: 0.8079008142719264 and parameters: {'n_estimators': 200, 'min_samples_leaf': 5, 'max_depth': 30}. Best is trial 2 with value: 0.8079008142719264.\n",
      "C:\\Users\\User\\AppData\\Local\\Temp\\ipykernel_15408\\688606844.py:3: FutureWarning: suggest_int() got {'step'} as positional arguments but they were expected to be given as keyword arguments.\n",
      "  n_estimators = trial.suggest_int('n_estimators', 100, 300, 20)\n",
      "C:\\Users\\User\\AppData\\Local\\Temp\\ipykernel_15408\\688606844.py:4: FutureWarning: suggest_int() got {'step'} as positional arguments but they were expected to be given as keyword arguments.\n",
      "  min_samples_leaf = trial.suggest_int('min_samples_leaf', 4, 10, 1)\n",
      "C:\\Users\\User\\AppData\\Local\\Temp\\ipykernel_15408\\688606844.py:5: FutureWarning: suggest_int() got {'step'} as positional arguments but they were expected to be given as keyword arguments.\n",
      "  max_depth = trial.suggest_int('max_depth', 20, 100, 10)\n",
      "[I 2025-03-13 12:18:28,229] Trial 3 finished with value: 0.804992989518037 and parameters: {'n_estimators': 100, 'min_samples_leaf': 7, 'max_depth': 80}. Best is trial 2 with value: 0.8079008142719264.\n",
      "C:\\Users\\User\\AppData\\Local\\Temp\\ipykernel_15408\\688606844.py:3: FutureWarning: suggest_int() got {'step'} as positional arguments but they were expected to be given as keyword arguments.\n",
      "  n_estimators = trial.suggest_int('n_estimators', 100, 300, 20)\n",
      "C:\\Users\\User\\AppData\\Local\\Temp\\ipykernel_15408\\688606844.py:4: FutureWarning: suggest_int() got {'step'} as positional arguments but they were expected to be given as keyword arguments.\n",
      "  min_samples_leaf = trial.suggest_int('min_samples_leaf', 4, 10, 1)\n",
      "C:\\Users\\User\\AppData\\Local\\Temp\\ipykernel_15408\\688606844.py:5: FutureWarning: suggest_int() got {'step'} as positional arguments but they were expected to be given as keyword arguments.\n",
      "  max_depth = trial.suggest_int('max_depth', 20, 100, 10)\n",
      "[I 2025-03-13 12:18:30,900] Trial 4 finished with value: 0.8046745531213798 and parameters: {'n_estimators': 220, 'min_samples_leaf': 6, 'max_depth': 20}. Best is trial 2 with value: 0.8079008142719264.\n",
      "C:\\Users\\User\\AppData\\Local\\Temp\\ipykernel_15408\\688606844.py:3: FutureWarning: suggest_int() got {'step'} as positional arguments but they were expected to be given as keyword arguments.\n",
      "  n_estimators = trial.suggest_int('n_estimators', 100, 300, 20)\n",
      "C:\\Users\\User\\AppData\\Local\\Temp\\ipykernel_15408\\688606844.py:4: FutureWarning: suggest_int() got {'step'} as positional arguments but they were expected to be given as keyword arguments.\n",
      "  min_samples_leaf = trial.suggest_int('min_samples_leaf', 4, 10, 1)\n",
      "C:\\Users\\User\\AppData\\Local\\Temp\\ipykernel_15408\\688606844.py:5: FutureWarning: suggest_int() got {'step'} as positional arguments but they were expected to be given as keyword arguments.\n",
      "  max_depth = trial.suggest_int('max_depth', 20, 100, 10)\n",
      "[I 2025-03-13 12:18:32,342] Trial 5 finished with value: 0.7942242609804807 and parameters: {'n_estimators': 120, 'min_samples_leaf': 9, 'max_depth': 70}. Best is trial 2 with value: 0.8079008142719264.\n",
      "C:\\Users\\User\\AppData\\Local\\Temp\\ipykernel_15408\\688606844.py:3: FutureWarning: suggest_int() got {'step'} as positional arguments but they were expected to be given as keyword arguments.\n",
      "  n_estimators = trial.suggest_int('n_estimators', 100, 300, 20)\n",
      "C:\\Users\\User\\AppData\\Local\\Temp\\ipykernel_15408\\688606844.py:4: FutureWarning: suggest_int() got {'step'} as positional arguments but they were expected to be given as keyword arguments.\n",
      "  min_samples_leaf = trial.suggest_int('min_samples_leaf', 4, 10, 1)\n",
      "C:\\Users\\User\\AppData\\Local\\Temp\\ipykernel_15408\\688606844.py:5: FutureWarning: suggest_int() got {'step'} as positional arguments but they were expected to be given as keyword arguments.\n",
      "  max_depth = trial.suggest_int('max_depth', 20, 100, 10)\n",
      "[I 2025-03-13 12:18:34,886] Trial 6 finished with value: 0.8049615518207723 and parameters: {'n_estimators': 220, 'min_samples_leaf': 7, 'max_depth': 50}. Best is trial 2 with value: 0.8079008142719264.\n",
      "C:\\Users\\User\\AppData\\Local\\Temp\\ipykernel_15408\\688606844.py:3: FutureWarning: suggest_int() got {'step'} as positional arguments but they were expected to be given as keyword arguments.\n",
      "  n_estimators = trial.suggest_int('n_estimators', 100, 300, 20)\n",
      "C:\\Users\\User\\AppData\\Local\\Temp\\ipykernel_15408\\688606844.py:4: FutureWarning: suggest_int() got {'step'} as positional arguments but they were expected to be given as keyword arguments.\n",
      "  min_samples_leaf = trial.suggest_int('min_samples_leaf', 4, 10, 1)\n",
      "C:\\Users\\User\\AppData\\Local\\Temp\\ipykernel_15408\\688606844.py:5: FutureWarning: suggest_int() got {'step'} as positional arguments but they were expected to be given as keyword arguments.\n",
      "  max_depth = trial.suggest_int('max_depth', 20, 100, 10)\n",
      "[I 2025-03-13 12:18:37,796] Trial 7 finished with value: 0.8098146163054161 and parameters: {'n_estimators': 220, 'min_samples_leaf': 4, 'max_depth': 100}. Best is trial 7 with value: 0.8098146163054161.\n",
      "C:\\Users\\User\\AppData\\Local\\Temp\\ipykernel_15408\\688606844.py:3: FutureWarning: suggest_int() got {'step'} as positional arguments but they were expected to be given as keyword arguments.\n",
      "  n_estimators = trial.suggest_int('n_estimators', 100, 300, 20)\n",
      "C:\\Users\\User\\AppData\\Local\\Temp\\ipykernel_15408\\688606844.py:4: FutureWarning: suggest_int() got {'step'} as positional arguments but they were expected to be given as keyword arguments.\n",
      "  min_samples_leaf = trial.suggest_int('min_samples_leaf', 4, 10, 1)\n",
      "C:\\Users\\User\\AppData\\Local\\Temp\\ipykernel_15408\\688606844.py:5: FutureWarning: suggest_int() got {'step'} as positional arguments but they were expected to be given as keyword arguments.\n",
      "  max_depth = trial.suggest_int('max_depth', 20, 100, 10)\n",
      "[I 2025-03-13 12:18:39,299] Trial 8 finished with value: 0.8010425865249713 and parameters: {'n_estimators': 120, 'min_samples_leaf': 8, 'max_depth': 90}. Best is trial 7 with value: 0.8098146163054161.\n",
      "C:\\Users\\User\\AppData\\Local\\Temp\\ipykernel_15408\\688606844.py:3: FutureWarning: suggest_int() got {'step'} as positional arguments but they were expected to be given as keyword arguments.\n",
      "  n_estimators = trial.suggest_int('n_estimators', 100, 300, 20)\n",
      "C:\\Users\\User\\AppData\\Local\\Temp\\ipykernel_15408\\688606844.py:4: FutureWarning: suggest_int() got {'step'} as positional arguments but they were expected to be given as keyword arguments.\n",
      "  min_samples_leaf = trial.suggest_int('min_samples_leaf', 4, 10, 1)\n",
      "C:\\Users\\User\\AppData\\Local\\Temp\\ipykernel_15408\\688606844.py:5: FutureWarning: suggest_int() got {'step'} as positional arguments but they were expected to be given as keyword arguments.\n",
      "  max_depth = trial.suggest_int('max_depth', 20, 100, 10)\n",
      "[I 2025-03-13 12:18:41,804] Trial 9 finished with value: 0.8030937411505805 and parameters: {'n_estimators': 200, 'min_samples_leaf': 6, 'max_depth': 20}. Best is trial 7 with value: 0.8098146163054161.\n",
      "C:\\Users\\User\\AppData\\Local\\Temp\\ipykernel_15408\\688606844.py:3: FutureWarning: suggest_int() got {'step'} as positional arguments but they were expected to be given as keyword arguments.\n",
      "  n_estimators = trial.suggest_int('n_estimators', 100, 300, 20)\n",
      "C:\\Users\\User\\AppData\\Local\\Temp\\ipykernel_15408\\688606844.py:4: FutureWarning: suggest_int() got {'step'} as positional arguments but they were expected to be given as keyword arguments.\n",
      "  min_samples_leaf = trial.suggest_int('min_samples_leaf', 4, 10, 1)\n",
      "C:\\Users\\User\\AppData\\Local\\Temp\\ipykernel_15408\\688606844.py:5: FutureWarning: suggest_int() got {'step'} as positional arguments but they were expected to be given as keyword arguments.\n",
      "  max_depth = trial.suggest_int('max_depth', 20, 100, 10)\n",
      "[I 2025-03-13 12:18:45,451] Trial 10 finished with value: 0.8094288805310403 and parameters: {'n_estimators': 280, 'min_samples_leaf': 4, 'max_depth': 100}. Best is trial 7 with value: 0.8098146163054161.\n",
      "C:\\Users\\User\\AppData\\Local\\Temp\\ipykernel_15408\\688606844.py:3: FutureWarning: suggest_int() got {'step'} as positional arguments but they were expected to be given as keyword arguments.\n",
      "  n_estimators = trial.suggest_int('n_estimators', 100, 300, 20)\n",
      "C:\\Users\\User\\AppData\\Local\\Temp\\ipykernel_15408\\688606844.py:4: FutureWarning: suggest_int() got {'step'} as positional arguments but they were expected to be given as keyword arguments.\n",
      "  min_samples_leaf = trial.suggest_int('min_samples_leaf', 4, 10, 1)\n",
      "C:\\Users\\User\\AppData\\Local\\Temp\\ipykernel_15408\\688606844.py:5: FutureWarning: suggest_int() got {'step'} as positional arguments but they were expected to be given as keyword arguments.\n",
      "  max_depth = trial.suggest_int('max_depth', 20, 100, 10)\n",
      "[I 2025-03-13 12:18:49,548] Trial 11 finished with value: 0.808672541589394 and parameters: {'n_estimators': 300, 'min_samples_leaf': 4, 'max_depth': 100}. Best is trial 7 with value: 0.8098146163054161.\n",
      "C:\\Users\\User\\AppData\\Local\\Temp\\ipykernel_15408\\688606844.py:3: FutureWarning: suggest_int() got {'step'} as positional arguments but they were expected to be given as keyword arguments.\n",
      "  n_estimators = trial.suggest_int('n_estimators', 100, 300, 20)\n",
      "C:\\Users\\User\\AppData\\Local\\Temp\\ipykernel_15408\\688606844.py:4: FutureWarning: suggest_int() got {'step'} as positional arguments but they were expected to be given as keyword arguments.\n",
      "  min_samples_leaf = trial.suggest_int('min_samples_leaf', 4, 10, 1)\n",
      "C:\\Users\\User\\AppData\\Local\\Temp\\ipykernel_15408\\688606844.py:5: FutureWarning: suggest_int() got {'step'} as positional arguments but they were expected to be given as keyword arguments.\n",
      "  max_depth = trial.suggest_int('max_depth', 20, 100, 10)\n",
      "[I 2025-03-13 12:18:53,139] Trial 12 finished with value: 0.8095243828009512 and parameters: {'n_estimators': 260, 'min_samples_leaf': 4, 'max_depth': 100}. Best is trial 7 with value: 0.8098146163054161.\n",
      "C:\\Users\\User\\AppData\\Local\\Temp\\ipykernel_15408\\688606844.py:3: FutureWarning: suggest_int() got {'step'} as positional arguments but they were expected to be given as keyword arguments.\n",
      "  n_estimators = trial.suggest_int('n_estimators', 100, 300, 20)\n",
      "C:\\Users\\User\\AppData\\Local\\Temp\\ipykernel_15408\\688606844.py:4: FutureWarning: suggest_int() got {'step'} as positional arguments but they were expected to be given as keyword arguments.\n",
      "  min_samples_leaf = trial.suggest_int('min_samples_leaf', 4, 10, 1)\n",
      "C:\\Users\\User\\AppData\\Local\\Temp\\ipykernel_15408\\688606844.py:5: FutureWarning: suggest_int() got {'step'} as positional arguments but they were expected to be given as keyword arguments.\n",
      "  max_depth = trial.suggest_int('max_depth', 20, 100, 10)\n",
      "[I 2025-03-13 12:18:56,137] Trial 13 finished with value: 0.8090358140031896 and parameters: {'n_estimators': 240, 'min_samples_leaf': 5, 'max_depth': 100}. Best is trial 7 with value: 0.8098146163054161.\n",
      "C:\\Users\\User\\AppData\\Local\\Temp\\ipykernel_15408\\688606844.py:3: FutureWarning: suggest_int() got {'step'} as positional arguments but they were expected to be given as keyword arguments.\n",
      "  n_estimators = trial.suggest_int('n_estimators', 100, 300, 20)\n",
      "C:\\Users\\User\\AppData\\Local\\Temp\\ipykernel_15408\\688606844.py:4: FutureWarning: suggest_int() got {'step'} as positional arguments but they were expected to be given as keyword arguments.\n",
      "  min_samples_leaf = trial.suggest_int('min_samples_leaf', 4, 10, 1)\n",
      "C:\\Users\\User\\AppData\\Local\\Temp\\ipykernel_15408\\688606844.py:5: FutureWarning: suggest_int() got {'step'} as positional arguments but they were expected to be given as keyword arguments.\n",
      "  max_depth = trial.suggest_int('max_depth', 20, 100, 10)\n",
      "[I 2025-03-13 12:18:59,514] Trial 14 finished with value: 0.8095243828009512 and parameters: {'n_estimators': 260, 'min_samples_leaf': 4, 'max_depth': 80}. Best is trial 7 with value: 0.8098146163054161.\n",
      "C:\\Users\\User\\AppData\\Local\\Temp\\ipykernel_15408\\688606844.py:3: FutureWarning: suggest_int() got {'step'} as positional arguments but they were expected to be given as keyword arguments.\n",
      "  n_estimators = trial.suggest_int('n_estimators', 100, 300, 20)\n",
      "C:\\Users\\User\\AppData\\Local\\Temp\\ipykernel_15408\\688606844.py:4: FutureWarning: suggest_int() got {'step'} as positional arguments but they were expected to be given as keyword arguments.\n",
      "  min_samples_leaf = trial.suggest_int('min_samples_leaf', 4, 10, 1)\n",
      "C:\\Users\\User\\AppData\\Local\\Temp\\ipykernel_15408\\688606844.py:5: FutureWarning: suggest_int() got {'step'} as positional arguments but they were expected to be given as keyword arguments.\n",
      "  max_depth = trial.suggest_int('max_depth', 20, 100, 10)\n",
      "[I 2025-03-13 12:19:01,606] Trial 15 finished with value: 0.8061355723697426 and parameters: {'n_estimators': 160, 'min_samples_leaf': 5, 'max_depth': 90}. Best is trial 7 with value: 0.8098146163054161.\n",
      "C:\\Users\\User\\AppData\\Local\\Temp\\ipykernel_15408\\688606844.py:3: FutureWarning: suggest_int() got {'step'} as positional arguments but they were expected to be given as keyword arguments.\n",
      "  n_estimators = trial.suggest_int('n_estimators', 100, 300, 20)\n",
      "C:\\Users\\User\\AppData\\Local\\Temp\\ipykernel_15408\\688606844.py:4: FutureWarning: suggest_int() got {'step'} as positional arguments but they were expected to be given as keyword arguments.\n",
      "  min_samples_leaf = trial.suggest_int('min_samples_leaf', 4, 10, 1)\n",
      "C:\\Users\\User\\AppData\\Local\\Temp\\ipykernel_15408\\688606844.py:5: FutureWarning: suggest_int() got {'step'} as positional arguments but they were expected to be given as keyword arguments.\n",
      "  max_depth = trial.suggest_int('max_depth', 20, 100, 10)\n",
      "[I 2025-03-13 12:19:04,513] Trial 16 finished with value: 0.803413430857464 and parameters: {'n_estimators': 240, 'min_samples_leaf': 6, 'max_depth': 60}. Best is trial 7 with value: 0.8098146163054161.\n",
      "C:\\Users\\User\\AppData\\Local\\Temp\\ipykernel_15408\\688606844.py:3: FutureWarning: suggest_int() got {'step'} as positional arguments but they were expected to be given as keyword arguments.\n",
      "  n_estimators = trial.suggest_int('n_estimators', 100, 300, 20)\n",
      "C:\\Users\\User\\AppData\\Local\\Temp\\ipykernel_15408\\688606844.py:4: FutureWarning: suggest_int() got {'step'} as positional arguments but they were expected to be given as keyword arguments.\n",
      "  min_samples_leaf = trial.suggest_int('min_samples_leaf', 4, 10, 1)\n",
      "C:\\Users\\User\\AppData\\Local\\Temp\\ipykernel_15408\\688606844.py:5: FutureWarning: suggest_int() got {'step'} as positional arguments but they were expected to be given as keyword arguments.\n",
      "  max_depth = trial.suggest_int('max_depth', 20, 100, 10)\n",
      "[I 2025-03-13 12:19:06,809] Trial 17 finished with value: 0.8075813625719246 and parameters: {'n_estimators': 160, 'min_samples_leaf': 4, 'max_depth': 90}. Best is trial 7 with value: 0.8098146163054161.\n",
      "C:\\Users\\User\\AppData\\Local\\Temp\\ipykernel_15408\\688606844.py:3: FutureWarning: suggest_int() got {'step'} as positional arguments but they were expected to be given as keyword arguments.\n",
      "  n_estimators = trial.suggest_int('n_estimators', 100, 300, 20)\n",
      "C:\\Users\\User\\AppData\\Local\\Temp\\ipykernel_15408\\688606844.py:4: FutureWarning: suggest_int() got {'step'} as positional arguments but they were expected to be given as keyword arguments.\n",
      "  min_samples_leaf = trial.suggest_int('min_samples_leaf', 4, 10, 1)\n",
      "C:\\Users\\User\\AppData\\Local\\Temp\\ipykernel_15408\\688606844.py:5: FutureWarning: suggest_int() got {'step'} as positional arguments but they were expected to be given as keyword arguments.\n",
      "  max_depth = trial.suggest_int('max_depth', 20, 100, 10)\n",
      "[I 2025-03-13 12:19:10,316] Trial 18 finished with value: 0.8091385568692653 and parameters: {'n_estimators': 260, 'min_samples_leaf': 5, 'max_depth': 70}. Best is trial 7 with value: 0.8098146163054161.\n",
      "C:\\Users\\User\\AppData\\Local\\Temp\\ipykernel_15408\\688606844.py:3: FutureWarning: suggest_int() got {'step'} as positional arguments but they were expected to be given as keyword arguments.\n",
      "  n_estimators = trial.suggest_int('n_estimators', 100, 300, 20)\n",
      "C:\\Users\\User\\AppData\\Local\\Temp\\ipykernel_15408\\688606844.py:4: FutureWarning: suggest_int() got {'step'} as positional arguments but they were expected to be given as keyword arguments.\n",
      "  min_samples_leaf = trial.suggest_int('min_samples_leaf', 4, 10, 1)\n",
      "C:\\Users\\User\\AppData\\Local\\Temp\\ipykernel_15408\\688606844.py:5: FutureWarning: suggest_int() got {'step'} as positional arguments but they were expected to be given as keyword arguments.\n",
      "  max_depth = trial.suggest_int('max_depth', 20, 100, 10)\n",
      "[I 2025-03-13 12:19:13,663] Trial 19 finished with value: 0.8110301651845185 and parameters: {'n_estimators': 240, 'min_samples_leaf': 4, 'max_depth': 100}. Best is trial 19 with value: 0.8110301651845185.\n"
     ]
    },
    {
     "name": "stdout",
     "output_type": "stream",
     "text": [
      "CPU times: total: 922 ms\n",
      "Wall time: 54.9 s\n"
     ]
    }
   ],
   "source": [
    "%%time\n",
    "# cоздаем объект исследования\n",
    "# можем напрямую указать, что нам необходимо максимизировать метрику direction=\"maximize\"\n",
    "study = optuna.create_study(study_name=\"RandomForestClassifier\", direction=\"maximize\")\n",
    "# ищем лучшую комбинацию гиперпараметров n_trials раз\n",
    "study.optimize(optuna_rf, n_trials=20)"
   ]
  },
  {
   "cell_type": "code",
   "execution_count": 168,
   "metadata": {},
   "outputs": [
    {
     "name": "stdout",
     "output_type": "stream",
     "text": [
      "f1_score на тренировочном наборе: 0.96\n",
      "f1_score на тестовом наборе: 0.80\n"
     ]
    }
   ],
   "source": [
    "# рассчитаем точность для тестовой выборки\n",
    "model_rf = ensemble.RandomForestClassifier(**study.best_params,random_state=random_state)\n",
    "model_rf.fit(X_train, y_train)\n",
    "y_train_pred = model_rf.predict(X_train)\n",
    "y_test_pred = model_rf.predict(X_test)\n",
    "print('f1_score на тренировочном наборе: {:.2f}'.format(metrics.f1_score(y_train, y_train_pred)))\n",
    "print('f1_score на тестовом наборе: {:.2f}'.format(metrics.f1_score(y_test, y_test_pred)))"
   ]
  },
  {
   "cell_type": "markdown",
   "metadata": {},
   "source": [
    "## Выводы:\n",
    "\n",
    "Выполнена задача по подбору гиперпараметров 4-мя методами: GridSeachCV, RandomizedSearchCV, Hyperopt, Optuna\n",
    "\n",
    "Предварительно были обучены модели с параметрами по умаолчанию (для Логистической регресси) и с параметрами [max_depth=20, n_estimators = 100, min_samples_leaf = 5'] для Случайного леса.\n",
    "\n",
    "**Полученные метрики тестовой модели:**\n",
    "\n",
    "\n",
    "- LogisticRegression: f-score = 0.78\n",
    "- Random Forest: f-score = 0.78\n",
    "\n",
    "\n",
    "**Метрики и затраты ресурсов после подбора гиперпараметров:**\n"
   ]
  },
  {
   "cell_type": "markdown",
   "metadata": {},
   "source": [
    "### 1. GridSearchCV:\n",
    "\n",
    "**1.1. LogisticRegression**\n",
    "\n",
    "- f1_score на тестовом наборе: 0.78\n",
    "- Наилучшие значения гиперпараметров: {'C': np.float64(0.01), 'penalty': 'l2', 'solver': 'lbfgs'}\n",
    "- Wall time: 1min 41s\n",
    "\n",
    "**1.2. Random Forest**\n",
    "\n",
    "- f1_score на тестовом наборе: 0.80\n",
    "- Наилучшие значения гиперпараметров: {'max_depth': np.int64(20), 'min_samples_leaf': 4, 'n_estimators': 280}\n",
    "- Wall time: 17min 25s"
   ]
  },
  {
   "cell_type": "markdown",
   "metadata": {},
   "source": [
    "### 2. RandomizedSearchCV:\n",
    "\n",
    "**2.1. LogisticRegression**\n",
    "\n",
    "- f1_score на тестовом наборе: 0.78\n",
    "- Наилучшие значения гиперпараметров: {'solver': 'sag', 'penalty': 'l2', 'C': np.float64(1.12)}\n",
    "- Wall time: 1min 12s\n",
    "\n",
    "**2.2. Random Forest**\n",
    "\n",
    "- f1_score на тестовом наборе: 0.80\n",
    "- Наилучшие значения гиперпараметров: {'n_estimators': 200, 'min_samples_leaf': 4, 'max_depth': np.int64(100)}\n",
    "- Wall time: 27 s"
   ]
  },
  {
   "cell_type": "markdown",
   "metadata": {},
   "source": [
    "### 3. Hyperopt (c кросс валидацией):\n",
    "\n",
    "**3.1. LogisticRegression**\n",
    "\n",
    "- f1_score на тестовом наборе: 0.79\n",
    "- Наилучшие значения гиперпараметров: {'C': np.float64(0.04104040887245952), 'penalty': 'l2, 'solver': 'lbfgs'}\n",
    "- Wall time: 1min 22s\n",
    "\n",
    "**3.2. Random Forest**\n",
    "\n",
    "- f1_score на тестовом наборе: 0.81\n",
    "- Наилучшие значения гиперпараметров {'max_depth': np.float64(40.0), 'min_samples_leaf': np.float64(4.0), 'n_estimators': np.float64(100.0)}\n",
    "- Wall time: 36.8 s"
   ]
  },
  {
   "cell_type": "markdown",
   "metadata": {},
   "source": [
    "### 4. Optuna (c кросс валидацией):\n",
    "\n",
    "**4.1. LogisticRegression**\n",
    "\n",
    "- f1_score на тестовом наборе: 0.79\n",
    "- Наилучшие значения гиперпараметров: {'penalty': 'l2', 'solver': 'sag', 'C': 0.04424813886614554}\n",
    "- Wall time: 44.8 s\n",
    "\n",
    "**4.2. Random Forest**\n",
    "\n",
    "- f1_score на тестовом наборе: 0.80\n",
    "- Наилучшие значения гиперпараметров {'n_estimators': 240, 'min_samples_leaf': 4, 'max_depth': 100}\n",
    "- Wall time: 54.9 s\n"
   ]
  },
  {
   "cell_type": "markdown",
   "metadata": {},
   "source": [
    "> **По всем методам подбора метрики примерно совпадают. По методам Optuna и Hyperop метрики немного лучше. Также данные методы (Optuna и Hyperop) выйгрывают по временным затратам.**"
   ]
  }
 ],
 "metadata": {
  "kernelspec": {
   "display_name": "Python 3",
   "language": "python",
   "name": "python3"
  },
  "language_info": {
   "codemirror_mode": {
    "name": "ipython",
    "version": 3
   },
   "file_extension": ".py",
   "mimetype": "text/x-python",
   "name": "python",
   "nbconvert_exporter": "python",
   "pygments_lexer": "ipython3",
   "version": "3.12.8"
  }
 },
 "nbformat": 4,
 "nbformat_minor": 2
}
