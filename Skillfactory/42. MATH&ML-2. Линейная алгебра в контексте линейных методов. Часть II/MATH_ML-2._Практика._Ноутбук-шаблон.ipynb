{
  "cells": [
    {
      "cell_type": "markdown",
      "id": "b054bd88",
      "metadata": {
        "id": "b054bd88"
      },
      "source": [
        "# <center> Линейная алгебра в контексте линейных методов. Практика.\n",
        "\n",
        "## <center> Прогнозирование выработки газа на скважинах."
      ]
    },
    {
      "cell_type": "markdown",
      "id": "325bc80b",
      "metadata": {
        "id": "325bc80b"
      },
      "source": [
        "## Постановка задачи"
      ]
    },
    {
      "cell_type": "markdown",
      "id": "8247bd54",
      "metadata": {
        "id": "8247bd54"
      },
      "source": [
        "У Василия, основателя компании «Газ-Таз-Ваз-Нефть», дела идут в гору: у него уже функционирует 200 скважин для добычи газа. В этом году он открывает 30 новых скважин. Однако в целях оптимизации расходов и повышения дохода Василию необходимо оценить, сколько денег будет приносить ему каждая из скважин, а также понять, какие факторы (параметры скважин) потенциально сильнее всего повлияют на объём добычи газа. Для этого Василий решил нанять вас как специалиста в области Data Science.\n",
        "\n",
        "Василий представляет вам набор данных о добыче газа на своих скважинах. Файл с данными вы можете скачать на платформе.\n",
        "\n",
        "**Признаки в данных:**\n",
        "\n",
        "* Well — идентификатор скважины;\n",
        "* Por — пористость скважины (%);\n",
        "* Perm — проницаемость скважины;\n",
        "* AI — акустический импеданс ($кг/м^2 * 10^6$);\n",
        "* Brittle — коэффициент хрупкости скважины (%);\n",
        "* TOC — общий органический углерод (%);\n",
        "* VR — коэффициент отражения витринита (%);\n",
        "* Prod — добыча газа в сутки (млн. кубических футов).\n",
        "\n",
        "**Ваша задача** — построить регрессионную модель, которая прогнозирует выработку газа на скважине (целевой признак — Prod) на основе остальных характеристик скважины, и проинтерпретировать результаты вашей модели.\n",
        "\n",
        "Разделим задачу на две части:\n",
        "* В первой мы построим простейшую модель линейной регрессии, проанализируем результаты её работы и выберем наиболее значимые факторы для прогнозирования.\n",
        "* Во второй мы займёмся построением модели полиномиальной регрессии с регуляризацией и посмотрим на итоговые результаты моделирования.\n"
      ]
    },
    {
      "cell_type": "markdown",
      "id": "d67d069e",
      "metadata": {
        "id": "d67d069e"
      },
      "source": [
        "Импортируем необходимые библиотеки:"
      ]
    },
    {
      "cell_type": "code",
      "execution_count": 225,
      "id": "83a555bc-8dff-4b7e-bba1-cd4f4a9e69b2",
      "metadata": {
        "id": "83a555bc-8dff-4b7e-bba1-cd4f4a9e69b2"
      },
      "outputs": [],
      "source": [
        "# Импорт библиотек\n",
        "import numpy as np # для работы с массивами\n",
        "import pandas as pd # для работы с DataFrame \n",
        "import seaborn as sns # библиотека для визуализации статистических данных\n",
        "import matplotlib.pyplot as plt # для построения графиков\n",
        "from plotly.subplots import make_subplots\n",
        "import plotly.express as px\n",
        "import plotly.graph_objects as go\n",
        "import scipy.stats as stats\n",
        "from sklearn.model_selection import train_test_split\n",
        "\n",
        "%matplotlib inline\n",
        "\n",
        "from sklearn.linear_model import LinearRegression\n",
        "from sklearn import metrics"
      ]
    },
    {
      "cell_type": "markdown",
      "id": "e689ddaf",
      "metadata": {
        "id": "e689ddaf"
      },
      "source": [
        "Прочитаем исходные данные:"
      ]
    },
    {
      "cell_type": "code",
      "execution_count": 226,
      "id": "b7b5cd9b-703f-4dbc-a6e3-61d583eafcac",
      "metadata": {
        "colab": {
          "base_uri": "https://localhost:8080/",
          "height": 206
        },
        "id": "b7b5cd9b-703f-4dbc-a6e3-61d583eafcac",
        "outputId": "d4e99a48-2a0d-4edd-f86c-617c44bf36d2"
      },
      "outputs": [
        {
          "data": {
            "text/html": [
              "<div>\n",
              "<style scoped>\n",
              "    .dataframe tbody tr th:only-of-type {\n",
              "        vertical-align: middle;\n",
              "    }\n",
              "\n",
              "    .dataframe tbody tr th {\n",
              "        vertical-align: top;\n",
              "    }\n",
              "\n",
              "    .dataframe thead th {\n",
              "        text-align: right;\n",
              "    }\n",
              "</style>\n",
              "<table border=\"1\" class=\"dataframe\">\n",
              "  <thead>\n",
              "    <tr style=\"text-align: right;\">\n",
              "      <th></th>\n",
              "      <th>Well</th>\n",
              "      <th>Por</th>\n",
              "      <th>Perm</th>\n",
              "      <th>AI</th>\n",
              "      <th>Brittle</th>\n",
              "      <th>TOC</th>\n",
              "      <th>VR</th>\n",
              "      <th>Prod</th>\n",
              "    </tr>\n",
              "  </thead>\n",
              "  <tbody>\n",
              "    <tr>\n",
              "      <th>0</th>\n",
              "      <td>1</td>\n",
              "      <td>12.08</td>\n",
              "      <td>2.92</td>\n",
              "      <td>2.80</td>\n",
              "      <td>81.40</td>\n",
              "      <td>1.16</td>\n",
              "      <td>2.31</td>\n",
              "      <td>4165.196191</td>\n",
              "    </tr>\n",
              "    <tr>\n",
              "      <th>1</th>\n",
              "      <td>2</td>\n",
              "      <td>12.38</td>\n",
              "      <td>3.53</td>\n",
              "      <td>3.22</td>\n",
              "      <td>46.17</td>\n",
              "      <td>0.89</td>\n",
              "      <td>1.88</td>\n",
              "      <td>3561.146205</td>\n",
              "    </tr>\n",
              "    <tr>\n",
              "      <th>2</th>\n",
              "      <td>3</td>\n",
              "      <td>14.02</td>\n",
              "      <td>2.59</td>\n",
              "      <td>4.01</td>\n",
              "      <td>72.80</td>\n",
              "      <td>0.89</td>\n",
              "      <td>2.72</td>\n",
              "      <td>4284.348574</td>\n",
              "    </tr>\n",
              "    <tr>\n",
              "      <th>3</th>\n",
              "      <td>4</td>\n",
              "      <td>17.67</td>\n",
              "      <td>6.75</td>\n",
              "      <td>2.63</td>\n",
              "      <td>39.81</td>\n",
              "      <td>1.08</td>\n",
              "      <td>1.88</td>\n",
              "      <td>5098.680869</td>\n",
              "    </tr>\n",
              "    <tr>\n",
              "      <th>4</th>\n",
              "      <td>5</td>\n",
              "      <td>17.52</td>\n",
              "      <td>4.57</td>\n",
              "      <td>3.18</td>\n",
              "      <td>10.94</td>\n",
              "      <td>1.51</td>\n",
              "      <td>1.90</td>\n",
              "      <td>3406.132832</td>\n",
              "    </tr>\n",
              "  </tbody>\n",
              "</table>\n",
              "</div>"
            ],
            "text/plain": [
              "   Well    Por  Perm    AI  Brittle   TOC    VR         Prod\n",
              "0     1  12.08  2.92  2.80    81.40  1.16  2.31  4165.196191\n",
              "1     2  12.38  3.53  3.22    46.17  0.89  1.88  3561.146205\n",
              "2     3  14.02  2.59  4.01    72.80  0.89  2.72  4284.348574\n",
              "3     4  17.67  6.75  2.63    39.81  1.08  1.88  5098.680869\n",
              "4     5  17.52  4.57  3.18    10.94  1.51  1.90  3406.132832"
            ]
          },
          "execution_count": 226,
          "metadata": {},
          "output_type": "execute_result"
        }
      ],
      "source": [
        "data = pd.read_csv('data/unconv.csv')\n",
        "data.head()"
      ]
    },
    {
      "cell_type": "markdown",
      "id": "58639b40",
      "metadata": {
        "id": "58639b40"
      },
      "source": [
        "## Практика: линейная регрессия по методу наименьших квадратов"
      ]
    },
    {
      "cell_type": "markdown",
      "id": "a90535b8",
      "metadata": {
        "id": "a90535b8"
      },
      "source": [
        "Для начала построим простейшую модель линейной регрессии, проанализируем результаты её работы и выберем наиболее значимые факторы для прогнозирования.\n",
        "\n",
        "В первой части вам предстоит выполнить задания 5.0–5.6. Максимальное количество баллов, которое можно получить, — 9."
      ]
    },
    {
      "cell_type": "markdown",
      "id": "4061b706",
      "metadata": {
        "id": "4061b706"
      },
      "source": [
        "### Задание 5.0. (не оценивается)\n",
        "\n",
        "Проведите небольшой разведывательный анализ, чтобы поближе познакомиться с исходными данными. Постройте несколько визуализаций, которые помогут вам понять, как устроены исходные признаки, а также смогут продемонстрировать взаимосвязь факторов. \n",
        "\n",
        "Сделайте промежуточные выводы из проведённого разведывательного анализа."
      ]
    },
    {
      "cell_type": "code",
      "execution_count": 227,
      "id": "183fe890",
      "metadata": {},
      "outputs": [
        {
          "name": "stdout",
          "output_type": "stream",
          "text": [
            "<class 'pandas.core.frame.DataFrame'>\n",
            "RangeIndex: 200 entries, 0 to 199\n",
            "Data columns (total 8 columns):\n",
            " #   Column   Non-Null Count  Dtype  \n",
            "---  ------   --------------  -----  \n",
            " 0   Well     200 non-null    int64  \n",
            " 1   Por      200 non-null    float64\n",
            " 2   Perm     200 non-null    float64\n",
            " 3   AI       200 non-null    float64\n",
            " 4   Brittle  200 non-null    float64\n",
            " 5   TOC      200 non-null    float64\n",
            " 6   VR       200 non-null    float64\n",
            " 7   Prod     200 non-null    float64\n",
            "dtypes: float64(7), int64(1)\n",
            "memory usage: 12.6 KB\n"
          ]
        }
      ],
      "source": [
        "data.info()"
      ]
    },
    {
      "cell_type": "code",
      "execution_count": 228,
      "id": "daf1ccc7",
      "metadata": {
        "id": "daf1ccc7"
      },
      "outputs": [
        {
          "data": {
            "text/plain": [
              "Text(0.5, 1.0, 'Распределение признака VR')"
            ]
          },
          "execution_count": 228,
          "metadata": {},
          "output_type": "execute_result"
        },
        {
          "data": {
            "image/png": "[encoded data removed]",
            "text/plain": [
              "<Figure size 4500x2000 with 6 Axes>"
            ]
          },
          "metadata": {},
          "output_type": "display_data"
        }
      ],
      "source": [
        "# Ваш код здесь\n",
        "plt.rcParams.update({\n",
        "    'figure.titlesize': 24      # Размер общего заголовка\n",
        "})\n",
        "\n",
        "# Визуализируем данные - смотрим распределение\n",
        "fig, axes = plt.subplots(2, 3, figsize=(45, 20))\n",
        "hist1 = sns.histplot(data['Por'], ax = axes[0,0])\n",
        "hist2 = sns.histplot(data['Perm'], ax = axes[0,1])\n",
        "hist3 = sns.histplot(data['AI'], ax = axes[0,2])\n",
        "hist4 = sns.histplot(data['Brittle'], ax = axes[1,0])\n",
        "hist5 = sns.histplot(data['TOC'], ax = axes[1,1])\n",
        "hist5 = sns.histplot(data['VR'], ax = axes[1,2])\n",
        "\n",
        "axes[0,0].set_title('Распределение признака Por')\n",
        "axes[0,1].set_title('Распределение признака Perm')\n",
        "axes[0,2].set_title('Распределение признака AI')\n",
        "axes[1,0].set_title('Распределение признака Brittle')\n",
        "axes[1,1].set_title('Распределение признака TOC')\n",
        "axes[1,2].set_title('Распределение признака VR')"
      ]
    },
    {
      "cell_type": "markdown",
      "id": "aee28cba",
      "metadata": {},
      "source": [
        "> Визуально, данные распределены нормально (близко к нормальному). Вполним дополнительную проверку с помощью статистического теста"
      ]
    },
    {
      "cell_type": "code",
      "execution_count": 229,
      "id": "c960e5f8",
      "metadata": {},
      "outputs": [
        {
          "name": "stdout",
          "output_type": "stream",
          "text": [
            "Well: Распределение не нормальное (p-value = 0.000)\n",
            "Por: Распределение нормальное\n",
            "Perm: Распределение не нормальное (p-value = 0.000)\n",
            "AI: Распределение нормальное\n",
            "Brittle: Распределение нормальное\n",
            "TOC: Распределение нормальное\n",
            "VR: Распределение нормальное\n",
            "Prod: Распределение нормальное\n"
          ]
        }
      ],
      "source": [
        "# Выполним проверку распределения данных по методу Шапиро-Уилка\n",
        "col_names = list(data.columns)\n",
        "\n",
        "#Словарь с выводом о нормальности/не нормальности по каждому признаку\n",
        "finish = {}\n",
        "for i in col_names:\n",
        "    \n",
        "    #Вероятность ошибки a = 0.05\n",
        "    alpha = 0.05\n",
        "    _, p = stats.shapiro(data[i])\n",
        "    \n",
        "    if p <= alpha:\n",
        "        finish.update({i: 'Распределение не нормальное ({})'.format('p-value = %.3f' % (p))})\n",
        "    else:\n",
        "        finish.update({i: 'Распределение нормальное'})\n",
        "        \n",
        "for key, value in finish.items():\n",
        "    print(f\"{key}: {value}\")"
      ]
    },
    {
      "cell_type": "markdown",
      "id": "6c795aff",
      "metadata": {},
      "source": [
        "> Как видим, тест подтвердил нормальность распределения большей части признаков. За исключением признаков **Perm** и **Well**\n",
        "\n",
        "> Логарифмируем признак **Perm** и проверим на нормальность ещё раз.\n",
        "\n",
        "*Признак **Well** - не информативен, его трогать не будем, впоследствии удалим*"
      ]
    },
    {
      "cell_type": "code",
      "execution_count": 230,
      "id": "f3bd3d3b",
      "metadata": {},
      "outputs": [
        {
          "name": "stdout",
          "output_type": "stream",
          "text": [
            "p-value = 0.878\n",
            "Распределение нормальное\n"
          ]
        }
      ],
      "source": [
        "data_log = data.copy()\n",
        "data_log['Perm'] = np.log(data['Perm']+1)\n",
        "\n",
        "# проводим тест Шапиро-Уилка\n",
        "_, p = stats.shapiro(data_log['Perm'])\n",
        "\n",
        "print('p-value = {:.3f}'.format(p))\n",
        "\n",
        "# интерпретируем результат\n",
        "if p <= alpha:\n",
        "    print('Распределение не нормальное')\n",
        "else:\n",
        "    print('Распределение нормальное')"
      ]
    },
    {
      "cell_type": "markdown",
      "id": "221f6baf",
      "metadata": {},
      "source": [
        "> Все в порядке! теперь признак **Perm** распределён нормально"
      ]
    },
    {
      "cell_type": "code",
      "execution_count": 231,
      "id": "ee54f305",
      "metadata": {},
      "outputs": [
        {
          "data": {
            "application/vnd.plotly.v1+json": {
              "config": {
                "plotlyServerURL": "https://plot.ly"
              },
              "data": [
                {
                  "name": "Por",
                  "type": "box",
                  "xaxis": "x",
                  "y": [
                    12.08,
                    12.38,
                    14.02,
                    17.67,
                    17.52,
                    14.53,
                    13.49,
                    11.58,
                    12.52,
                    13.25,
                    15.04,
                    16.19,
                    16.82,
                    17.39,
                    13.83,
                    11.34,
                    19.55,
                    15.58,
                    14.73,
                    12.47,
                    18.08,
                    16.32,
                    12.62,
                    10.03,
                    18.66,
                    7.27,
                    15.78,
                    15.73,
                    12.38,
                    12.89,
                    18.48,
                    14.74,
                    12.55,
                    13.58,
                    11.76,
                    11.98,
                    13.56,
                    16.55,
                    15.22,
                    14.54,
                    14.37,
                    15.4,
                    10.14,
                    11.09,
                    18.37,
                    14.71,
                    9.29,
                    11.85,
                    18.59,
                    18.18,
                    18.72,
                    20.96,
                    15.31,
                    11.98,
                    18.16,
                    13.61,
                    13.67,
                    15.21,
                    16.1,
                    13,
                    18.32,
                    14.96,
                    18.21,
                    15.07,
                    17.75,
                    15.77,
                    14.19,
                    13.8,
                    14.84,
                    12.54,
                    10.13,
                    14.17,
                    14.85,
                    16.62,
                    17.85,
                    18.73,
                    17.2,
                    10.49,
                    13.53,
                    18.04,
                    14.97,
                    16.18,
                    15.07,
                    13.69,
                    10.15,
                    13.45,
                    15.94,
                    14.88,
                    11.12,
                    13.5,
                    13.72,
                    7.38,
                    20.21,
                    10.69,
                    15.75,
                    17.96,
                    16.95,
                    19.73,
                    11.91,
                    15.53,
                    14.44,
                    13.37,
                    10.5,
                    18.9,
                    17.89,
                    15.32,
                    13.48,
                    17.17,
                    20.86,
                    15.19,
                    14.95,
                    12.1,
                    18.24,
                    19.86,
                    19.54,
                    18.37,
                    12.89,
                    15.2,
                    12.23,
                    17.88,
                    15.79,
                    12.38,
                    18.98,
                    13.76,
                    23.55,
                    14.86,
                    16.43,
                    15.86,
                    12.98,
                    17.21,
                    15.34,
                    17.57,
                    10.74,
                    18.79,
                    12.83,
                    15.35,
                    14.88,
                    14.69,
                    7.77,
                    15.87,
                    18.75,
                    15.63,
                    18.06,
                    12.05,
                    14.44,
                    16.69,
                    15.8,
                    16.84,
                    13.46,
                    14.63,
                    12.2,
                    10.5,
                    18.68,
                    16.88,
                    15.42,
                    13.01,
                    17.92,
                    15.97,
                    13.32,
                    18.1,
                    16.21,
                    18,
                    17.86,
                    11.6,
                    17.98,
                    16.61,
                    19.06,
                    12.83,
                    18.96,
                    11.71,
                    11.91,
                    17.44,
                    10.95,
                    12.94,
                    15.72,
                    14.02,
                    14.49,
                    11.8,
                    19.29,
                    7.22,
                    15.7,
                    14.48,
                    9.88,
                    18.8,
                    18.07,
                    15.68,
                    15.28,
                    10.88,
                    16.14,
                    16.12,
                    13.52,
                    6.55,
                    20.37,
                    12.92,
                    17.13,
                    11.95,
                    17.99,
                    12.12,
                    15.55,
                    20.89
                  ],
                  "yaxis": "y"
                },
                {
                  "name": "Perm",
                  "type": "box",
                  "xaxis": "x2",
                  "y": [
                    1.366091653802371,
                    1.5107219394949425,
                    1.2781522025001875,
                    2.0476928433652555,
                    1.7173950539391927,
                    1.7595805708638197,
                    1.5260563034950492,
                    1.3937663759585914,
                    1.3137236682850553,
                    1.597365331199831,
                    1.6845453849209058,
                    1.9878743481543455,
                    1.8594181177018698,
                    1.7833912195575383,
                    1.8341801851120072,
                    1.3137236682850553,
                    2.2417729535972883,
                    1.541159071680806,
                    1.791759469228055,
                    1.2612978709452054,
                    1.9021075263969205,
                    1.6213664832993742,
                    1.220829921392359,
                    1.0577902941478545,
                    1.851599469584072,
                    1.1019400787607843,
                    1.791759469228055,
                    2.004179057179289,
                    1.1568811967920856,
                    1.2267122912954254,
                    1.9358598132018119,
                    1.410986973710262,
                    1.4398351280479207,
                    1.220829921392359,
                    1.3711807233098425,
                    1.541159071680806,
                    1.4182774069729414,
                    1.9021075263969205,
                    1.541159071680806,
                    1.541159071680806,
                    1.9358598132018119,
                    1.589235205116581,
                    1.5644405465033644,
                    1.269760544863939,
                    1.9358598132018119,
                    1.6770965609079151,
                    0.9820784724121582,
                    1.4951487660319727,
                    1.8082887711792655,
                    1.6845453849209058,
                    1.9095425048844386,
                    2.3233676321765744,
                    1.4701758451005926,
                    1.3217558399823195,
                    2.0918640616783932,
                    1.5107219394949425,
                    1.4182774069729414,
                    1.62924053973028,
                    1.4469189829363254,
                    1.7334238922150915,
                    1.9021075263969205,
                    1.1505720275988207,
                    1.9021075263969205,
                    1.8594181177018698,
                    1.7334238922150915,
                    2.0831845279586703,
                    1.4562867329399256,
                    1.4562867329399256,
                    1.6034198401085376,
                    1.501852701754163,
                    1.220829921392359,
                    1.597365331199831,
                    1.791759469228055,
                    1.7263316639055997,
                    1.918392120161421,
                    2.135349173618132,
                    1.9960599327407849,
                    0.9631743177730056,
                    1.7101878155342434,
                    1.589235205116581,
                    1.3217558399823195,
                    1.6114359150967734,
                    1.4793292270870801,
                    1.5810384379124023,
                    1.000631880307906,
                    1.2556160374777743,
                    1.572773928062509,
                    1.7595805708638197,
                    1.0577902941478545,
                    1.297463147413275,
                    1.6114359150967734,
                    1.0577902941478545,
                    2.2332350148592526,
                    1.297463147413275,
                    1.5260563034950492,
                    1.6601310267496185,
                    1.6370530794670737,
                    2.180417459019838,
                    1.7011051009599243,
                    1.8594181177018698,
                    1.366091653802371,
                    1.7334238922150915,
                    1.4398351280479207,
                    1.7173950539391927,
                    1.6524974018945473,
                    1.5496879080283263,
                    1.2837077723447896,
                    1.572773928062509,
                    1.9878743481543455,
                    1.80005827204275,
                    1.4562867329399256,
                    1.8082887711792655,
                    1.6695918352538475,
                    2.05668455455722,
                    1.9358598132018119,
                    1.7833912195575383,
                    1.6601310267496185,
                    1.501852701754163,
                    1.220829921392359,
                    1.884034745337226,
                    1.6524974018945473,
                    1.247032293786383,
                    2.377692565480851,
                    1.5810384379124023,
                    2.224623551524334,
                    1.589235205116581,
                    1.944480556245719,
                    1.3711807233098425,
                    1.8341801851120072,
                    1.7263316639055997,
                    1.4011829736136414,
                    1.6937790608678513,
                    1.000631880307906,
                    1.7011051009599243,
                    1.3056264580524357,
                    1.7334238922150915,
                    1.8180767775454285,
                    1.5325568680981427,
                    0.9082585601768908,
                    2.05668455455722,
                    1.8180767775454285,
                    1.7334238922150915,
                    2.1972245773362196,
                    1.2119409739751128,
                    1.7101878155342434,
                    1.80005827204275,
                    1.3137236682850553,
                    1.8082887711792655,
                    1.7173950539391927,
                    2.0918640616783932,
                    1.366091653802371,
                    1.269760544863939,
                    1.969905654611529,
                    2.030776369698555,
                    1.6213664832993742,
                    1.5260563034950492,
                    1.851599469584072,
                    1.4327007339340463,
                    1.4327007339340463,
                    2.3589654264301534,
                    1.6114359150967734,
                    1.884034745337226,
                    2.0744289998562917,
                    1.0043016091968684,
                    1.6601310267496185,
                    1.501852701754163,
                    2.3504224224082058,
                    1.5173226235262949,
                    1.918392120161421,
                    1.0577902941478545,
                    1.8594181177018698,
                    1.9021075263969205,
                    1.172482137234565,
                    1.2919836816486494,
                    1.5644405465033644,
                    1.7011051009599243,
                    1.766441661243765,
                    1.366091653802371,
                    1.791759469228055,
                    0.883767540168595,
                    1.3862943611198906,
                    1.572773928062509,
                    1.3137236682850553,
                    1.9530276168241774,
                    1.5644405465033644,
                    1.851599469584072,
                    1.501852701754163,
                    1.463255402256019,
                    1.80005827204275,
                    1.62924053973028,
                    1.5810384379124023,
                    0.7561219797213337,
                    2.0399207835175526,
                    1.589235205116581,
                    1.944480556245719,
                    1.4182774069729414,
                    2.386006701133118,
                    1.184789984909162,
                    1.7011051009599243,
                    2.1447610078004784
                  ],
                  "yaxis": "y2"
                },
                {
                  "name": "AI",
                  "type": "box",
                  "xaxis": "x3",
                  "y": [
                    2.8,
                    3.22,
                    4.01,
                    2.63,
                    3.18,
                    2.69,
                    2.93,
                    3.25,
                    2.43,
                    3.71,
                    2.22,
                    2.29,
                    2.8,
                    2.55,
                    2.51,
                    3.43,
                    3.08,
                    2.53,
                    3.03,
                    3.54,
                    2.38,
                    2.41,
                    2.38,
                    3.29,
                    1.39,
                    3.41,
                    2.55,
                    3.74,
                    4.09,
                    2.9,
                    2.85,
                    2.45,
                    3.43,
                    2.95,
                    4.18,
                    3.17,
                    3.59,
                    2.28,
                    3.52,
                    2.04,
                    2.98,
                    2.86,
                    4.26,
                    3.16,
                    2.56,
                    2.39,
                    2.82,
                    3.26,
                    2.91,
                    3.27,
                    2.57,
                    2.45,
                    2.76,
                    4.63,
                    2.12,
                    2.75,
                    2.89,
                    3.11,
                    2.16,
                    3.1,
                    3.1,
                    2.25,
                    3.34,
                    3.04,
                    2.72,
                    4.1,
                    2.69,
                    3.15,
                    3.43,
                    3.59,
                    3.49,
                    2.92,
                    3.63,
                    2.31,
                    2.96,
                    2.88,
                    2.26,
                    3.77,
                    2.31,
                    2.47,
                    2.87,
                    3.04,
                    3.39,
                    3.51,
                    2.97,
                    3.25,
                    3.81,
                    3.3,
                    3.09,
                    3.94,
                    3.41,
                    2.54,
                    2.5,
                    3.49,
                    2.82,
                    2.87,
                    2.3,
                    2.63,
                    2.27,
                    2.64,
                    2.34,
                    3.04,
                    3.69,
                    2.65,
                    1.86,
                    3.29,
                    2.93,
                    2.35,
                    2.53,
                    3.11,
                    2.69,
                    3.97,
                    2.85,
                    2.77,
                    3.23,
                    2.45,
                    4.09,
                    3.2,
                    3.02,
                    3.2,
                    3.01,
                    2.63,
                    2.69,
                    3.46,
                    1.28,
                    2.64,
                    2.62,
                    2.74,
                    3.25,
                    2.79,
                    2.11,
                    2.3,
                    3.33,
                    3.57,
                    3.67,
                    3.07,
                    3.47,
                    2.39,
                    2.8,
                    3.2,
                    1.45,
                    2.85,
                    2.6,
                    3.21,
                    2.81,
                    3.44,
                    3.29,
                    3.16,
                    3.04,
                    3.02,
                    3.36,
                    3.11,
                    2.5,
                    2.45,
                    2.8,
                    2.38,
                    2.3,
                    2.63,
                    2.45,
                    3.34,
                    2.77,
                    1.71,
                    2.5,
                    2.18,
                    2.94,
                    1.83,
                    3.2,
                    3.15,
                    2.17,
                    4.01,
                    3.83,
                    3.44,
                    3.67,
                    2.88,
                    2.51,
                    3.01,
                    3,
                    3.64,
                    2.82,
                    3.6,
                    3.41,
                    3.56,
                    3.64,
                    3.23,
                    2.89,
                    3.77,
                    2.29,
                    4.09,
                    3.16,
                    2.42,
                    3.45,
                    4.13,
                    2.37,
                    3.68,
                    2.88,
                    2.97,
                    3.38,
                    3.52,
                    2.48,
                    3.23
                  ],
                  "yaxis": "y3"
                },
                {
                  "name": "Brittle",
                  "type": "box",
                  "xaxis": "x4",
                  "y": [
                    81.4,
                    46.17,
                    72.8,
                    39.81,
                    10.94,
                    53.6,
                    63.71,
                    53,
                    65.77,
                    66.2,
                    61.11,
                    49.1,
                    66.65,
                    56.43,
                    66.22,
                    58.03,
                    35.49,
                    29.43,
                    67.42,
                    48.82,
                    53.56,
                    46.78,
                    15.68,
                    37.74,
                    53.35,
                    54.56,
                    52.64,
                    31.9,
                    31.4,
                    51.24,
                    46.89,
                    36.86,
                    56.93,
                    52.16,
                    61.21,
                    27.12,
                    42.96,
                    63.39,
                    42.24,
                    66.27,
                    47.62,
                    46.29,
                    61.89,
                    29.62,
                    44.22,
                    26.33,
                    63.86,
                    24.76,
                    49.2,
                    45.48,
                    44.74,
                    33.84,
                    55.2,
                    60.31,
                    41.55,
                    55.04,
                    28.69,
                    32.37,
                    26.77,
                    64.54,
                    57.18,
                    34.65,
                    51.06,
                    39.39,
                    59.32,
                    44.54,
                    28.7,
                    46.08,
                    48.8,
                    58.03,
                    63.79,
                    59.3,
                    44.93,
                    31.41,
                    59.16,
                    53.39,
                    48.84,
                    52.31,
                    67.51,
                    57.53,
                    54.85,
                    41.4,
                    56.7,
                    69.53,
                    40.51,
                    58.3,
                    37.13,
                    63.31,
                    58.97,
                    36.68,
                    40.24,
                    42.24,
                    23.78,
                    84.33,
                    70.68,
                    49.41,
                    61.43,
                    49.91,
                    47.38,
                    64.49,
                    68.76,
                    52.23,
                    61.09,
                    18.63,
                    34.13,
                    55.99,
                    55.3,
                    38.08,
                    40.57,
                    57.97,
                    75.73,
                    63.24,
                    44.53,
                    45.44,
                    37.4,
                    42.26,
                    66.21,
                    42.63,
                    40.67,
                    49.61,
                    63.24,
                    33.48,
                    46.4,
                    52.36,
                    14.24,
                    60.5,
                    35.5,
                    51.49,
                    60.51,
                    20.12,
                    50.65,
                    44.57,
                    62.94,
                    35.74,
                    17.2,
                    26.63,
                    51.29,
                    62.93,
                    40.24,
                    32.82,
                    58.05,
                    40.83,
                    56.29,
                    42.36,
                    65.32,
                    36.22,
                    42.13,
                    60.43,
                    56.59,
                    21.47,
                    28.87,
                    54.54,
                    43.35,
                    65.82,
                    18.98,
                    50.41,
                    57.84,
                    52.55,
                    57.86,
                    56.09,
                    59.83,
                    28.46,
                    26.22,
                    53.54,
                    25.17,
                    60.13,
                    55.53,
                    29.87,
                    29.28,
                    44.03,
                    28.94,
                    57.33,
                    47.06,
                    38.29,
                    35.09,
                    62.59,
                    22.54,
                    35.35,
                    58.56,
                    63.09,
                    46.86,
                    47.44,
                    55.19,
                    74.07,
                    28.67,
                    57.85,
                    34.78,
                    55.09,
                    38.03,
                    35.84,
                    31.57,
                    56.69,
                    37.76,
                    71.4,
                    51.45,
                    67.18,
                    44.32,
                    57.07,
                    58.25,
                    46.17
                  ],
                  "yaxis": "y4"
                },
                {
                  "name": "TOC",
                  "type": "box",
                  "xaxis": "x5",
                  "y": [
                    1.16,
                    0.89,
                    0.89,
                    1.08,
                    1.51,
                    0.94,
                    0.8,
                    0.69,
                    0.95,
                    1.14,
                    1.08,
                    1.53,
                    1.17,
                    1.87,
                    0.18,
                    0.57,
                    1.34,
                    1.35,
                    0.9,
                    0.9,
                    1.26,
                    1.21,
                    1,
                    0.38,
                    1.77,
                    -0.04,
                    1.37,
                    1.1,
                    0.72,
                    0.81,
                    1.45,
                    0.92,
                    0.79,
                    1.13,
                    0.43,
                    0.54,
                    0.48,
                    1.33,
                    1.14,
                    0.87,
                    0.97,
                    1.01,
                    -0.19,
                    0.83,
                    2.07,
                    0.66,
                    0.3,
                    0.08,
                    1,
                    1.24,
                    1.59,
                    1.53,
                    0.8,
                    0.76,
                    1.97,
                    0.76,
                    0.62,
                    0.78,
                    1.09,
                    0.2,
                    1.3,
                    1.07,
                    1.12,
                    1.07,
                    1.67,
                    0.04,
                    1.22,
                    1.28,
                    1.04,
                    0.47,
                    0.16,
                    0.91,
                    0.72,
                    1.1,
                    0.48,
                    1.42,
                    1.47,
                    0.46,
                    0.8,
                    1.15,
                    1.17,
                    1.22,
                    0.38,
                    0.6,
                    0.59,
                    1.04,
                    1.36,
                    0.95,
                    0.52,
                    1.17,
                    0.84,
                    0.38,
                    1.47,
                    0.39,
                    0.95,
                    0.92,
                    1.47,
                    1.59,
                    0.84,
                    1.55,
                    0.98,
                    0.86,
                    0.45,
                    1.06,
                    1.75,
                    1.35,
                    0.5,
                    1.43,
                    2.08,
                    1.15,
                    0.58,
                    0.38,
                    1.39,
                    1.33,
                    0.82,
                    1.4,
                    0.81,
                    1.52,
                    1.02,
                    1.23,
                    0.48,
                    1.17,
                    1.11,
                    0.5,
                    2.18,
                    1.33,
                    1.13,
                    1.62,
                    0.93,
                    1.52,
                    1.17,
                    1.46,
                    0.31,
                    0.93,
                    0.61,
                    1.53,
                    0.38,
                    1.04,
                    0.37,
                    0.58,
                    1.37,
                    0.84,
                    1.64,
                    0.5,
                    1.16,
                    1.48,
                    0.43,
                    1.6,
                    0.1,
                    1.26,
                    0.82,
                    0.45,
                    1.66,
                    0.63,
                    1.5,
                    0.48,
                    1.33,
                    1.41,
                    1.05,
                    1.02,
                    1.21,
                    1.74,
                    0.28,
                    0.6,
                    0.9,
                    1.54,
                    1.57,
                    1.09,
                    1.58,
                    0.04,
                    0.38,
                    1.33,
                    0.12,
                    1.25,
                    1.42,
                    1.04,
                    1.08,
                    0.35,
                    1.23,
                    -0.03,
                    0.14,
                    0.67,
                    0.52,
                    1.66,
                    1.52,
                    0.72,
                    1.28,
                    0.81,
                    0.97,
                    1.48,
                    1.51,
                    0.28,
                    1.4,
                    0.11,
                    1.77,
                    0.8,
                    0.98,
                    -0.04,
                    1.89,
                    1.71
                  ],
                  "yaxis": "y5"
                },
                {
                  "name": "VR",
                  "type": "box",
                  "xaxis": "x6",
                  "y": [
                    2.31,
                    1.88,
                    2.72,
                    1.88,
                    1.9,
                    1.67,
                    1.85,
                    1.93,
                    1.98,
                    2.65,
                    1.77,
                    1.86,
                    1.98,
                    2.19,
                    1.64,
                    2.15,
                    1.95,
                    1.88,
                    1.98,
                    2.54,
                    2.09,
                    1.72,
                    1.48,
                    1.7,
                    1.71,
                    1.68,
                    2.04,
                    2.15,
                    2.07,
                    1.97,
                    2.45,
                    1.59,
                    2.27,
                    2.2,
                    2.45,
                    1.69,
                    1.93,
                    1.96,
                    2.26,
                    1.64,
                    1.87,
                    1.99,
                    1.97,
                    1.96,
                    2.34,
                    1.15,
                    1.6,
                    1.38,
                    1.9,
                    2.25,
                    1.96,
                    1.84,
                    1.97,
                    2.87,
                    1.97,
                    1.74,
                    1.73,
                    1.81,
                    1.29,
                    1.71,
                    2.48,
                    1.67,
                    2.28,
                    2.17,
                    2.35,
                    1.97,
                    1.83,
                    2.07,
                    2.11,
                    2.03,
                    1.93,
                    1.91,
                    2.05,
                    1.54,
                    1.74,
                    2.14,
                    1.9,
                    2.37,
                    1.67,
                    2.01,
                    2.2,
                    2.01,
                    1.88,
                    2.04,
                    1.76,
                    2.33,
                    2.43,
                    2.03,
                    1.85,
                    2.6,
                    2.18,
                    1.28,
                    1.82,
                    1.97,
                    2.04,
                    2.01,
                    2.05,
                    2.11,
                    1.57,
                    2.1,
                    1.97,
                    1.72,
                    2.17,
                    1.54,
                    1.62,
                    2.42,
                    1.7,
                    1.97,
                    2.43,
                    2.16,
                    1.8,
                    1.93,
                    2.06,
                    2.08,
                    1.8,
                    2.06,
                    2.77,
                    2.23,
                    1.84,
                    2.37,
                    2.07,
                    1.73,
                    1.67,
                    1.89,
                    1.24,
                    1.95,
                    1.72,
                    2.15,
                    1.98,
                    1.93,
                    1.71,
                    1.98,
                    1.89,
                    2.3,
                    2.01,
                    2.05,
                    1.77,
                    1.93,
                    1.43,
                    1.64,
                    1.55,
                    1.7,
                    2.18,
                    1.77,
                    1.93,
                    2.52,
                    1.97,
                    2.6,
                    1.53,
                    1.79,
                    1.69,
                    1.82,
                    1.87,
                    1.5,
                    1.93,
                    1.55,
                    1.92,
                    2.09,
                    1.74,
                    2.15,
                    2.32,
                    1.49,
                    0.93,
                    1.5,
                    1.86,
                    1.86,
                    2.39,
                    2.09,
                    1.95,
                    1.84,
                    1.78,
                    2.38,
                    1.93,
                    1.94,
                    1.95,
                    2.16,
                    1.99,
                    1.76,
                    1.97,
                    1.67,
                    1.93,
                    2.11,
                    2.16,
                    2.54,
                    2.1,
                    2.35,
                    1.61,
                    2.4,
                    2.05,
                    1.84,
                    2.22,
                    2.1,
                    1.99,
                    1.91,
                    2.28,
                    2.06,
                    2.08,
                    1.73,
                    2.35,
                    2.27
                  ],
                  "yaxis": "y6"
                }
              ],
              "layout": {
                "annotations": [
                  {
                    "font": {
                      "size": 16
                    },
                    "showarrow": false,
                    "text": "Распределение признака Por",
                    "x": 0.14444444444444446,
                    "xanchor": "center",
                    "xref": "paper",
                    "y": 1,
                    "yanchor": "bottom",
                    "yref": "paper"
                  },
                  {
                    "font": {
                      "size": 16
                    },
                    "showarrow": false,
                    "text": "Распределение признака Perm",
                    "x": 0.5,
                    "xanchor": "center",
                    "xref": "paper",
                    "y": 1,
                    "yanchor": "bottom",
                    "yref": "paper"
                  },
                  {
                    "font": {
                      "size": 16
                    },
                    "showarrow": false,
                    "text": "Распределение признака AI",
                    "x": 0.8555555555555556,
                    "xanchor": "center",
                    "xref": "paper",
                    "y": 1,
                    "yanchor": "bottom",
                    "yref": "paper"
                  },
                  {
                    "font": {
                      "size": 16
                    },
                    "showarrow": false,
                    "text": "Распределение признака Brittle",
                    "x": 0.14444444444444446,
                    "xanchor": "center",
                    "xref": "paper",
                    "y": 0.375,
                    "yanchor": "bottom",
                    "yref": "paper"
                  },
                  {
                    "font": {
                      "size": 16
                    },
                    "showarrow": false,
                    "text": "Распределение признака TOC",
                    "x": 0.5,
                    "xanchor": "center",
                    "xref": "paper",
                    "y": 0.375,
                    "yanchor": "bottom",
                    "yref": "paper"
                  },
                  {
                    "font": {
                      "size": 16
                    },
                    "showarrow": false,
                    "text": "Распределение признака VR",
                    "x": 0.8555555555555556,
                    "xanchor": "center",
                    "xref": "paper",
                    "y": 0.375,
                    "yanchor": "bottom",
                    "yref": "paper"
                  }
                ],
                "font": {
                  "size": 16
                },
                "height": 1000,
                "margin": {
                  "b": 50,
                  "l": 50,
                  "r": 50,
                  "t": 100
                },
                "paper_bgcolor": "LightSteelBlue",
                "showlegend": false,
                "template": {
                  "data": {
                    "bar": [
                      {
                        "error_x": {
                          "color": "#2a3f5f"
                        },
                        "error_y": {
                          "color": "#2a3f5f"
                        },
                        "marker": {
                          "line": {
                            "color": "#E5ECF6",
                            "width": 0.5
                          },
                          "pattern": {
                            "fillmode": "overlay",
                            "size": 10,
                            "solidity": 0.2
                          }
                        },
                        "type": "bar"
                      }
                    ],
                    "barpolar": [
                      {
                        "marker": {
                          "line": {
                            "color": "#E5ECF6",
                            "width": 0.5
                          },
                          "pattern": {
                            "fillmode": "overlay",
                            "size": 10,
                            "solidity": 0.2
                          }
                        },
                        "type": "barpolar"
                      }
                    ],
                    "carpet": [
                      {
                        "aaxis": {
                          "endlinecolor": "#2a3f5f",
                          "gridcolor": "white",
                          "linecolor": "white",
                          "minorgridcolor": "white",
                          "startlinecolor": "#2a3f5f"
                        },
                        "baxis": {
                          "endlinecolor": "#2a3f5f",
                          "gridcolor": "white",
                          "linecolor": "white",
                          "minorgridcolor": "white",
                          "startlinecolor": "#2a3f5f"
                        },
                        "type": "carpet"
                      }
                    ],
                    "choropleth": [
                      {
                        "colorbar": {
                          "outlinewidth": 0,
                          "ticks": ""
                        },
                        "type": "choropleth"
                      }
                    ],
                    "contour": [
                      {
                        "colorbar": {
                          "outlinewidth": 0,
                          "ticks": ""
                        },
                        "colorscale": [
                          [
                            0,
                            "#0d0887"
                          ],
                          [
                            0.1111111111111111,
                            "#46039f"
                          ],
                          [
                            0.2222222222222222,
                            "#7201a8"
                          ],
                          [
                            0.3333333333333333,
                            "#9c179e"
                          ],
                          [
                            0.4444444444444444,
                            "#bd3786"
                          ],
                          [
                            0.5555555555555556,
                            "#d8576b"
                          ],
                          [
                            0.6666666666666666,
                            "#ed7953"
                          ],
                          [
                            0.7777777777777778,
                            "#fb9f3a"
                          ],
                          [
                            0.8888888888888888,
                            "#fdca26"
                          ],
                          [
                            1,
                            "#f0f921"
                          ]
                        ],
                        "type": "contour"
                      }
                    ],
                    "contourcarpet": [
                      {
                        "colorbar": {
                          "outlinewidth": 0,
                          "ticks": ""
                        },
                        "type": "contourcarpet"
                      }
                    ],
                    "heatmap": [
                      {
                        "colorbar": {
                          "outlinewidth": 0,
                          "ticks": ""
                        },
                        "colorscale": [
                          [
                            0,
                            "#0d0887"
                          ],
                          [
                            0.1111111111111111,
                            "#46039f"
                          ],
                          [
                            0.2222222222222222,
                            "#7201a8"
                          ],
                          [
                            0.3333333333333333,
                            "#9c179e"
                          ],
                          [
                            0.4444444444444444,
                            "#bd3786"
                          ],
                          [
                            0.5555555555555556,
                            "#d8576b"
                          ],
                          [
                            0.6666666666666666,
                            "#ed7953"
                          ],
                          [
                            0.7777777777777778,
                            "#fb9f3a"
                          ],
                          [
                            0.8888888888888888,
                            "#fdca26"
                          ],
                          [
                            1,
                            "#f0f921"
                          ]
                        ],
                        "type": "heatmap"
                      }
                    ],
                    "heatmapgl": [
                      {
                        "colorbar": {
                          "outlinewidth": 0,
                          "ticks": ""
                        },
                        "colorscale": [
                          [
                            0,
                            "#0d0887"
                          ],
                          [
                            0.1111111111111111,
                            "#46039f"
                          ],
                          [
                            0.2222222222222222,
                            "#7201a8"
                          ],
                          [
                            0.3333333333333333,
                            "#9c179e"
                          ],
                          [
                            0.4444444444444444,
                            "#bd3786"
                          ],
                          [
                            0.5555555555555556,
                            "#d8576b"
                          ],
                          [
                            0.6666666666666666,
                            "#ed7953"
                          ],
                          [
                            0.7777777777777778,
                            "#fb9f3a"
                          ],
                          [
                            0.8888888888888888,
                            "#fdca26"
                          ],
                          [
                            1,
                            "#f0f921"
                          ]
                        ],
                        "type": "heatmapgl"
                      }
                    ],
                    "histogram": [
                      {
                        "marker": {
                          "pattern": {
                            "fillmode": "overlay",
                            "size": 10,
                            "solidity": 0.2
                          }
                        },
                        "type": "histogram"
                      }
                    ],
                    "histogram2d": [
                      {
                        "colorbar": {
                          "outlinewidth": 0,
                          "ticks": ""
                        },
                        "colorscale": [
                          [
                            0,
                            "#0d0887"
                          ],
                          [
                            0.1111111111111111,
                            "#46039f"
                          ],
                          [
                            0.2222222222222222,
                            "#7201a8"
                          ],
                          [
                            0.3333333333333333,
                            "#9c179e"
                          ],
                          [
                            0.4444444444444444,
                            "#bd3786"
                          ],
                          [
                            0.5555555555555556,
                            "#d8576b"
                          ],
                          [
                            0.6666666666666666,
                            "#ed7953"
                          ],
                          [
                            0.7777777777777778,
                            "#fb9f3a"
                          ],
                          [
                            0.8888888888888888,
                            "#fdca26"
                          ],
                          [
                            1,
                            "#f0f921"
                          ]
                        ],
                        "type": "histogram2d"
                      }
                    ],
                    "histogram2dcontour": [
                      {
                        "colorbar": {
                          "outlinewidth": 0,
                          "ticks": ""
                        },
                        "colorscale": [
                          [
                            0,
                            "#0d0887"
                          ],
                          [
                            0.1111111111111111,
                            "#46039f"
                          ],
                          [
                            0.2222222222222222,
                            "#7201a8"
                          ],
                          [
                            0.3333333333333333,
                            "#9c179e"
                          ],
                          [
                            0.4444444444444444,
                            "#bd3786"
                          ],
                          [
                            0.5555555555555556,
                            "#d8576b"
                          ],
                          [
                            0.6666666666666666,
                            "#ed7953"
                          ],
                          [
                            0.7777777777777778,
                            "#fb9f3a"
                          ],
                          [
                            0.8888888888888888,
                            "#fdca26"
                          ],
                          [
                            1,
                            "#f0f921"
                          ]
                        ],
                        "type": "histogram2dcontour"
                      }
                    ],
                    "mesh3d": [
                      {
                        "colorbar": {
                          "outlinewidth": 0,
                          "ticks": ""
                        },
                        "type": "mesh3d"
                      }
                    ],
                    "parcoords": [
                      {
                        "line": {
                          "colorbar": {
                            "outlinewidth": 0,
                            "ticks": ""
                          }
                        },
                        "type": "parcoords"
                      }
                    ],
                    "pie": [
                      {
                        "automargin": true,
                        "type": "pie"
                      }
                    ],
                    "scatter": [
                      {
                        "fillpattern": {
                          "fillmode": "overlay",
                          "size": 10,
                          "solidity": 0.2
                        },
                        "type": "scatter"
                      }
                    ],
                    "scatter3d": [
                      {
                        "line": {
                          "colorbar": {
                            "outlinewidth": 0,
                            "ticks": ""
                          }
                        },
                        "marker": {
                          "colorbar": {
                            "outlinewidth": 0,
                            "ticks": ""
                          }
                        },
                        "type": "scatter3d"
                      }
                    ],
                    "scattercarpet": [
                      {
                        "marker": {
                          "colorbar": {
                            "outlinewidth": 0,
                            "ticks": ""
                          }
                        },
                        "type": "scattercarpet"
                      }
                    ],
                    "scattergeo": [
                      {
                        "marker": {
                          "colorbar": {
                            "outlinewidth": 0,
                            "ticks": ""
                          }
                        },
                        "type": "scattergeo"
                      }
                    ],
                    "scattergl": [
                      {
                        "marker": {
                          "colorbar": {
                            "outlinewidth": 0,
                            "ticks": ""
                          }
                        },
                        "type": "scattergl"
                      }
                    ],
                    "scattermapbox": [
                      {
                        "marker": {
                          "colorbar": {
                            "outlinewidth": 0,
                            "ticks": ""
                          }
                        },
                        "type": "scattermapbox"
                      }
                    ],
                    "scatterpolar": [
                      {
                        "marker": {
                          "colorbar": {
                            "outlinewidth": 0,
                            "ticks": ""
                          }
                        },
                        "type": "scatterpolar"
                      }
                    ],
                    "scatterpolargl": [
                      {
                        "marker": {
                          "colorbar": {
                            "outlinewidth": 0,
                            "ticks": ""
                          }
                        },
                        "type": "scatterpolargl"
                      }
                    ],
                    "scatterternary": [
                      {
                        "marker": {
                          "colorbar": {
                            "outlinewidth": 0,
                            "ticks": ""
                          }
                        },
                        "type": "scatterternary"
                      }
                    ],
                    "surface": [
                      {
                        "colorbar": {
                          "outlinewidth": 0,
                          "ticks": ""
                        },
                        "colorscale": [
                          [
                            0,
                            "#0d0887"
                          ],
                          [
                            0.1111111111111111,
                            "#46039f"
                          ],
                          [
                            0.2222222222222222,
                            "#7201a8"
                          ],
                          [
                            0.3333333333333333,
                            "#9c179e"
                          ],
                          [
                            0.4444444444444444,
                            "#bd3786"
                          ],
                          [
                            0.5555555555555556,
                            "#d8576b"
                          ],
                          [
                            0.6666666666666666,
                            "#ed7953"
                          ],
                          [
                            0.7777777777777778,
                            "#fb9f3a"
                          ],
                          [
                            0.8888888888888888,
                            "#fdca26"
                          ],
                          [
                            1,
                            "#f0f921"
                          ]
                        ],
                        "type": "surface"
                      }
                    ],
                    "table": [
                      {
                        "cells": {
                          "fill": {
                            "color": "#EBF0F8"
                          },
                          "line": {
                            "color": "white"
                          }
                        },
                        "header": {
                          "fill": {
                            "color": "#C8D4E3"
                          },
                          "line": {
                            "color": "white"
                          }
                        },
                        "type": "table"
                      }
                    ]
                  },
                  "layout": {
                    "annotationdefaults": {
                      "arrowcolor": "#2a3f5f",
                      "arrowhead": 0,
                      "arrowwidth": 1
                    },
                    "autotypenumbers": "strict",
                    "coloraxis": {
                      "colorbar": {
                        "outlinewidth": 0,
                        "ticks": ""
                      }
                    },
                    "colorscale": {
                      "diverging": [
                        [
                          0,
                          "#8e0152"
                        ],
                        [
                          0.1,
                          "#c51b7d"
                        ],
                        [
                          0.2,
                          "#de77ae"
                        ],
                        [
                          0.3,
                          "#f1b6da"
                        ],
                        [
                          0.4,
                          "#fde0ef"
                        ],
                        [
                          0.5,
                          "#f7f7f7"
                        ],
                        [
                          0.6,
                          "#e6f5d0"
                        ],
                        [
                          0.7,
                          "#b8e186"
                        ],
                        [
                          0.8,
                          "#7fbc41"
                        ],
                        [
                          0.9,
                          "#4d9221"
                        ],
                        [
                          1,
                          "#276419"
                        ]
                      ],
                      "sequential": [
                        [
                          0,
                          "#0d0887"
                        ],
                        [
                          0.1111111111111111,
                          "#46039f"
                        ],
                        [
                          0.2222222222222222,
                          "#7201a8"
                        ],
                        [
                          0.3333333333333333,
                          "#9c179e"
                        ],
                        [
                          0.4444444444444444,
                          "#bd3786"
                        ],
                        [
                          0.5555555555555556,
                          "#d8576b"
                        ],
                        [
                          0.6666666666666666,
                          "#ed7953"
                        ],
                        [
                          0.7777777777777778,
                          "#fb9f3a"
                        ],
                        [
                          0.8888888888888888,
                          "#fdca26"
                        ],
                        [
                          1,
                          "#f0f921"
                        ]
                      ],
                      "sequentialminus": [
                        [
                          0,
                          "#0d0887"
                        ],
                        [
                          0.1111111111111111,
                          "#46039f"
                        ],
                        [
                          0.2222222222222222,
                          "#7201a8"
                        ],
                        [
                          0.3333333333333333,
                          "#9c179e"
                        ],
                        [
                          0.4444444444444444,
                          "#bd3786"
                        ],
                        [
                          0.5555555555555556,
                          "#d8576b"
                        ],
                        [
                          0.6666666666666666,
                          "#ed7953"
                        ],
                        [
                          0.7777777777777778,
                          "#fb9f3a"
                        ],
                        [
                          0.8888888888888888,
                          "#fdca26"
                        ],
                        [
                          1,
                          "#f0f921"
                        ]
                      ]
                    },
                    "colorway": [
                      "#636efa",
                      "#EF553B",
                      "#00cc96",
                      "#ab63fa",
                      "#FFA15A",
                      "#19d3f3",
                      "#FF6692",
                      "#B6E880",
                      "#FF97FF",
                      "#FECB52"
                    ],
                    "font": {
                      "color": "#2a3f5f"
                    },
                    "geo": {
                      "bgcolor": "white",
                      "lakecolor": "white",
                      "landcolor": "#E5ECF6",
                      "showlakes": true,
                      "showland": true,
                      "subunitcolor": "white"
                    },
                    "hoverlabel": {
                      "align": "left"
                    },
                    "hovermode": "closest",
                    "mapbox": {
                      "style": "light"
                    },
                    "paper_bgcolor": "white",
                    "plot_bgcolor": "#E5ECF6",
                    "polar": {
                      "angularaxis": {
                        "gridcolor": "white",
                        "linecolor": "white",
                        "ticks": ""
                      },
                      "bgcolor": "#E5ECF6",
                      "radialaxis": {
                        "gridcolor": "white",
                        "linecolor": "white",
                        "ticks": ""
                      }
                    },
                    "scene": {
                      "xaxis": {
                        "backgroundcolor": "#E5ECF6",
                        "gridcolor": "white",
                        "gridwidth": 2,
                        "linecolor": "white",
                        "showbackground": true,
                        "ticks": "",
                        "zerolinecolor": "white"
                      },
                      "yaxis": {
                        "backgroundcolor": "#E5ECF6",
                        "gridcolor": "white",
                        "gridwidth": 2,
                        "linecolor": "white",
                        "showbackground": true,
                        "ticks": "",
                        "zerolinecolor": "white"
                      },
                      "zaxis": {
                        "backgroundcolor": "#E5ECF6",
                        "gridcolor": "white",
                        "gridwidth": 2,
                        "linecolor": "white",
                        "showbackground": true,
                        "ticks": "",
                        "zerolinecolor": "white"
                      }
                    },
                    "shapedefaults": {
                      "line": {
                        "color": "#2a3f5f"
                      }
                    },
                    "ternary": {
                      "aaxis": {
                        "gridcolor": "white",
                        "linecolor": "white",
                        "ticks": ""
                      },
                      "baxis": {
                        "gridcolor": "white",
                        "linecolor": "white",
                        "ticks": ""
                      },
                      "bgcolor": "#E5ECF6",
                      "caxis": {
                        "gridcolor": "white",
                        "linecolor": "white",
                        "ticks": ""
                      }
                    },
                    "title": {
                      "x": 0.05
                    },
                    "xaxis": {
                      "automargin": true,
                      "gridcolor": "white",
                      "linecolor": "white",
                      "ticks": "",
                      "title": {
                        "standoff": 15
                      },
                      "zerolinecolor": "white",
                      "zerolinewidth": 2
                    },
                    "yaxis": {
                      "automargin": true,
                      "gridcolor": "white",
                      "linecolor": "white",
                      "ticks": "",
                      "title": {
                        "standoff": 15
                      },
                      "zerolinecolor": "white",
                      "zerolinewidth": 2
                    }
                  }
                },
                "title": {
                  "font": {
                    "size": 24
                  },
                  "text": "Боксплоты распределения признаков"
                },
                "width": 1500,
                "xaxis": {
                  "anchor": "y",
                  "domain": [
                    0,
                    0.2888888888888889
                  ]
                },
                "xaxis2": {
                  "anchor": "y2",
                  "domain": [
                    0.35555555555555557,
                    0.6444444444444445
                  ]
                },
                "xaxis3": {
                  "anchor": "y3",
                  "domain": [
                    0.7111111111111111,
                    1
                  ]
                },
                "xaxis4": {
                  "anchor": "y4",
                  "domain": [
                    0,
                    0.2888888888888889
                  ]
                },
                "xaxis5": {
                  "anchor": "y5",
                  "domain": [
                    0.35555555555555557,
                    0.6444444444444445
                  ]
                },
                "xaxis6": {
                  "anchor": "y6",
                  "domain": [
                    0.7111111111111111,
                    1
                  ]
                },
                "yaxis": {
                  "anchor": "x",
                  "domain": [
                    0.625,
                    1
                  ]
                },
                "yaxis2": {
                  "anchor": "x2",
                  "domain": [
                    0.625,
                    1
                  ]
                },
                "yaxis3": {
                  "anchor": "x3",
                  "domain": [
                    0.625,
                    1
                  ]
                },
                "yaxis4": {
                  "anchor": "x4",
                  "domain": [
                    0,
                    0.375
                  ]
                },
                "yaxis5": {
                  "anchor": "x5",
                  "domain": [
                    0,
                    0.375
                  ]
                },
                "yaxis6": {
                  "anchor": "x6",
                  "domain": [
                    0,
                    0.375
                  ]
                }
              }
            }
          },
          "metadata": {},
          "output_type": "display_data"
        }
      ],
      "source": [
        "fig = make_subplots(rows=2, cols=3, \n",
        "                   subplot_titles=(\"Распределение признака Por\", \n",
        "                                  \"Распределение признака Perm\", \n",
        "                                  \"Распределение признака AI\",\n",
        "                                  \"Распределение признака Brittle\",\n",
        "                                  \"Распределение признака TOC\",\n",
        "                                  \"Распределение признака VR\"))\n",
        "\n",
        "# Добавляем боксплоты\n",
        "fig.add_trace(go.Box(y=data_log['Por'], name=\"Por\"), row=1, col=1)\n",
        "fig.add_trace(go.Box(y=data_log['Perm'], name=\"Perm\"), row=1, col=2)\n",
        "fig.add_trace(go.Box(y=data_log['AI'], name=\"AI\"), row=1, col=3)\n",
        "fig.add_trace(go.Box(y=data_log['Brittle'], name=\"Brittle\"), row=2, col=1)\n",
        "fig.add_trace(go.Box(y=data_log['TOC'], name=\"TOC\"), row=2, col=2)\n",
        "fig.add_trace(go.Box(y=data_log['VR'], name=\"VR\"), row=2, col=3)\n",
        "\n",
        "# Настраиваем общий вид\n",
        "fig.update_layout(\n",
        "    title_text=\"Боксплоты распределения признаков\",\n",
        "    height=1000,\n",
        "    width=1500,\n",
        "    showlegend=False,\n",
        "    title_font_size=24,\n",
        "    font_size=16\n",
        ")\n",
        "\n",
        "# Настраиваем отступы между графиками\n",
        "fig.update_layout(\n",
        "    margin=dict(l=50, r=50, t=100, b=50),\n",
        "    paper_bgcolor=\"LightSteelBlue\",\n",
        ")\n",
        "\n",
        "fig.show()"
      ]
    },
    {
      "cell_type": "markdown",
      "id": "0af9e795",
      "metadata": {},
      "source": [
        "> Визуальная проверка показывает, что имеются выбросы в признаках **Perm, Ai, VR**\n",
        "\n",
        "> Выполним проверку выбросов в данных признаках с помощью статистических тестов"
      ]
    },
    {
      "cell_type": "code",
      "execution_count": 232,
      "id": "5cd80d65",
      "metadata": {},
      "outputs": [],
      "source": [
        "# Метод сигм - функция\n",
        "def outliers_z_score(data, feature):\n",
        "    x = data_log[feature]\n",
        "    mu = x.mean()\n",
        "    sigma = x.std()\n",
        "    lower_bound = mu - 3 * sigma\n",
        "    upper_bound = mu + 3 * sigma\n",
        "    outliers = data[(x < lower_bound) | (x > upper_bound)]\n",
        "    return outliers"
      ]
    },
    {
      "cell_type": "code",
      "execution_count": 233,
      "id": "fe943bb8",
      "metadata": {},
      "outputs": [
        {
          "name": "stdout",
          "output_type": "stream",
          "text": [
            "Число выбросов по методу z-отклонения [Perm]: 0\n",
            "Число выбросов по методу z-отклонения [AI]: 0\n",
            "Число выбросов по методу z-отклонения [VR]: 2\n"
          ]
        }
      ],
      "source": [
        "# Применим эту функцию к таблице data_log и признакам Perm, AI, VR\n",
        "\n",
        "outliers_Perm = outliers_z_score(data_log, 'Perm')\n",
        "print(f'Число выбросов по методу z-отклонения [Perm]: {outliers_Perm.shape[0]}')\n",
        "\n",
        "outliers_AI = outliers_z_score(data_log, 'AI')\n",
        "print(f'Число выбросов по методу z-отклонения [AI]: {outliers_AI.shape[0]}')\n",
        "\n",
        "outliers_VR = outliers_z_score(data_log, 'VR')\n",
        "print(f'Число выбросов по методу z-отклонения [VR]: {outliers_VR.shape[0]}')"
      ]
    },
    {
      "cell_type": "markdown",
      "id": "5784edb4",
      "metadata": {},
      "source": [
        "> Проверка показала, что в признаказ Perm и AI выбросы отсутствуют. За то в признаке VR имеем 2 выброса"
      ]
    },
    {
      "cell_type": "markdown",
      "id": "8f07a447",
      "metadata": {},
      "source": [
        "Так как мы имеем небольшое количество выбросов - удалим данные строки"
      ]
    },
    {
      "cell_type": "code",
      "execution_count": 234,
      "id": "bafb2da6",
      "metadata": {},
      "outputs": [],
      "source": [
        "#Удаляем выбросы\n",
        "\n",
        "data_log = data_log.drop(outliers_VR.index)"
      ]
    },
    {
      "cell_type": "code",
      "execution_count": 235,
      "id": "be980c9c",
      "metadata": {},
      "outputs": [
        {
          "data": {
            "text/plain": [
              "198"
            ]
          },
          "execution_count": 235,
          "metadata": {},
          "output_type": "execute_result"
        }
      ],
      "source": [
        "#Результирующее число записей\n",
        "\n",
        "data_log.shape[0]"
      ]
    },
    {
      "cell_type": "markdown",
      "id": "54c680a4",
      "metadata": {},
      "source": [
        "### Вывод\n",
        "\n",
        "1. Выполнена проверка нормальности распределения признаков\n",
        "2. Признак **Perm** логарифмирован в датасете data_log\n",
        "3. Исключены выбросы из датасета data_log\n",
        "4. В последующей работе будем использовать data_log\n"
      ]
    },
    {
      "cell_type": "markdown",
      "id": "d11cb44f",
      "metadata": {
        "id": "d11cb44f"
      },
      "source": [
        "### Задание 5.1. (2 балла)\n",
        "\n",
        "Постройте корреляционную матрицу факторов, включив в неё целевой признак. \n",
        "\n",
        "Для наглядности визуализируйте полученную матрицу с помощью тепловой карты. \n",
        "\n",
        "**Примечание.** *Для визуализации вы можете использовать любую из знакомых вам библиотек.*\n",
        "\n",
        "На основе построенной корреляционной матрицы ответьте на следующий вопрос:\n",
        "\n",
        "* Какие факторы сильнее всего коррелируют с целевой переменной?\n",
        "\n",
        "Вычислите ранг и определитель полученной матрицы корреляций и приведите развёрнутые ответы на следующие вопросы:\n",
        "* Является ли корреляционная матрица плохо обусловенной (близок ли её опредитель к нулю)?\n",
        "* Что вы можете сказать о наличии коллинераности/мультиколлинеарности в данных? \n",
        "* Применима ли в данном случае модель классической линейной регрессии по методу наименьших квадратов и почему? "
      ]
    },
    {
      "cell_type": "markdown",
      "id": "57OjUl5e2oiL",
      "metadata": {
        "id": "57OjUl5e2oiL"
      },
      "source": [
        "**Критерии оценивания:**\n",
        "- Задание выполнено верно, учтены все условия (**2 балла**): \n",
        "    * приведён код для расчёта корреляционной матрицы;\n",
        "    * приведён код для визуализации корреляционной матрицы в виде тепловой карты;\n",
        "    * рассчитаны ранг и определитель корреляционной матрицы;\n",
        "    * предоставлены обоснованные ответы на все поставленные вопросы. \n",
        "\n",
        "- Задание выполнено верно, но не учтено одно условие (**1 балл**).\n",
        "- Задание выполнено неверно, не учтено несколько условий (**0 баллов**)."
      ]
    },
    {
      "cell_type": "code",
      "execution_count": 236,
      "id": "af00a5a0",
      "metadata": {
        "id": "af00a5a0"
      },
      "outputs": [
        {
          "data": {
            "text/plain": [
              "<Axes: >"
            ]
          },
          "execution_count": 236,
          "metadata": {},
          "output_type": "execute_result"
        },
        {
          "data": {
            "image/png": "[encoded data removed]",
            "text/plain": [
              "<Figure size 800x800 with 2 Axes>"
            ]
          },
          "metadata": {},
          "output_type": "display_data"
        }
      ],
      "source": [
        "# Ваш код здесь\n",
        "\n",
        "#Визулизируем матрицу корерляций\n",
        "fig, (ax1) = plt.subplots(ncols=1, figsize=(8, 8))\n",
        "sns.heatmap(data_log.corr(numeric_only=True), annot=True, annot_kws={'size': 12})"
      ]
    },
    {
      "cell_type": "code",
      "execution_count": 237,
      "id": "aabadc5d",
      "metadata": {},
      "outputs": [],
      "source": [
        "# Матрица корерляций в numpy массиве для аналитической работы\n",
        "\n",
        "A = np.array(data_log.corr())"
      ]
    },
    {
      "cell_type": "code",
      "execution_count": 238,
      "id": "8d38e3b0",
      "metadata": {},
      "outputs": [
        {
          "name": "stdout",
          "output_type": "stream",
          "text": [
            "Ранг матрицы: 8\n",
            "Определитель матрицы: 0.0007431979972296826\n"
          ]
        }
      ],
      "source": [
        "# Определяем ранг и определитель корреляционной матрицы\n",
        "\n",
        "print('Ранг матрицы:',np.linalg.matrix_rank(A))\n",
        "print('Определитель матрицы:',np.linalg.det(A))"
      ]
    },
    {
      "cell_type": "markdown",
      "id": "9a56013d",
      "metadata": {
        "id": "9a56013d"
      },
      "source": [
        "> *Ваши выводы здесь*\n",
        "### Выводы\n",
        "\n",
        "> 1. Наблюдается высокая коллинеарность признаков **Por** и **Perm**, это говорит о линейной зависимости признаков\n",
        "> 2. Определитель матрицы стремится к 0, этот фактор также говорит о линейной зависимости признаков\n",
        "\n",
        "> Из - за этого модель регрессии может быть неустойчивой, коэффициенты w могут быть **прыгающими**"
      ]
    },
    {
      "cell_type": "markdown",
      "id": "43fd91c4",
      "metadata": {
        "id": "43fd91c4"
      },
      "source": [
        "### Задание 5.2. (2 балла)\n",
        "\n",
        "Создайте матрицу наблюдений `X` и вектор правильных ответов `y`. В качестве факторов для матрицы наблюдений возьмите все имеющиеся в данных признаки. \n",
        "\n",
        "Постройте модель линейной регрессии по методу наименьших квадратов. Для этого воспользуйтесь матричной формулой МНК и инструментарием библиотеки numpy. \n",
        "\n",
        "Выведите на экран полученные оценки коэффициентов модели, округлённые до целого.\n",
        "\n",
        "Приведите подробные выводы по полученным результатам, ответив на следующие вопросы:\n",
        "* Есть ли в ваших данных признаки, которые, согласно модели, можно назвать неинформативными, то есть они не оказывают влияния на целевую переменную или оказывают шумовое влияние?\n",
        "* Приведите интерпретацию нескольких (двух или трёх) коэффициентов полученной модели линейной регрессии.\n"
      ]
    },
    {
      "cell_type": "markdown",
      "id": "QtNtTUzI4Cpq",
      "metadata": {
        "id": "QtNtTUzI4Cpq"
      },
      "source": [
        "**Критерии оценивания:**\n",
        "- Задание выполнено верно, учтены все условия (**2 балла**): \n",
        "    * приведён код для нахождения параметров модели линейной регрессии с помощью матричной формулы МНК;\n",
        "    * на основе полученных параметров даны верные ответы на поставленные вопросы;\n",
        "    * приведена корректная интерпретация нескольких коэффициентов полученной модели линейной регрессии.\n",
        "\n",
        "- Задание выполнено верно, но не учтено одно из условий (**1 балл**).\n",
        "- Задание выполнено неверно, не учтено несколько условий (**0 баллов**)."
      ]
    },
    {
      "cell_type": "code",
      "execution_count": 239,
      "id": "5724288c",
      "metadata": {
        "id": "5724288c"
      },
      "outputs": [],
      "source": [
        "# Ваш код здесь\n",
        "# Составляем матруцу факторов X и матрицу целевых признаков y\n",
        "X = np.column_stack([np.ones(198), np.array(data_log.drop(['Prod'], axis=1))]) # Добавляем свободный член (np.ones)\n",
        "y = np.array(data_log)[:, 7]"
      ]
    },
    {
      "cell_type": "code",
      "execution_count": 244,
      "id": "0a4ee66b",
      "metadata": {},
      "outputs": [
        {
          "name": "stdout",
          "output_type": "stream",
          "text": [
            "[ 0.0268  0.8662  0.7576 -0.3937  0.2388  0.6549  0.3441  1.    ]\n",
            "[-1756.     0.   238.   542.  -312.    26.   -50.   688.]\n"
          ]
        }
      ],
      "source": [
        "# создаём модель линейной регрессии\n",
        "w_hat = np.linalg.inv(X.T@X)@X.T@y\n",
        "print(np.round(A[7],4))\n",
        "print(np.round(w_hat))"
      ]
    },
    {
      "cell_type": "markdown",
      "id": "bab9ee21",
      "metadata": {
        "id": "bab9ee21"
      },
      "source": [
        "> *Ваши выводы здесь*\n",
        "\n",
        "### Вывод\n",
        "\n",
        "> Коээфициент признака Well --> 0, что подтверждает наш вывод о том (см. 5.1), что признак не информативен.\n"
      ]
    },
    {
      "cell_type": "markdown",
      "id": "4a05a4ac",
      "metadata": {
        "id": "4a05a4ac"
      },
      "source": [
        "### Задание 5.3. (1 балл)\n",
        "\n",
        "Теперь потренируемся строить предсказание для наблюдений целевой переменной. \n",
        "\n",
        "**а)** Постройте прогноз выработки газа для скважины со следующими параметрами:\n",
        "\n",
        "```python\n",
        "{\n",
        "    'Well': 106.0,\n",
        "    'Por': 15.32,\n",
        "    'Perm': 3.71,\n",
        "    'AI': 3.29,\n",
        "    'Brittle': 55.99,\n",
        "    'TOC': 1.35,\n",
        "    'VR': 2.42\n",
        " }\n",
        "```\n",
        "\n",
        "Рассчитайте абсолютную ошибку построенного вами прогноза для предложенной скважины (в миллионах кубических футов в день), если известно, что на этой скважине производится `4748.315024` миллионов кубических футов газа в день. \n",
        "\n",
        "**б)** Постройте прогноз выработки газа для всех скважин из обучающего набора данных. Выберите метрику, по которой вы будете оценивать качество регрессионных моделей и сравнивать их между собой (можно использовать несколько метрик, но не более двух).\n",
        "\n",
        "Рассчитайте значение выбранной метрики для вашей модели. Приведите интерпретацию полученного результата. "
      ]
    },
    {
      "cell_type": "markdown",
      "id": "qUDcep5Q5GWU",
      "metadata": {
        "id": "qUDcep5Q5GWU"
      },
      "source": [
        "**Критерии оценивания:**\n",
        "- Задание выполнено верно, учтены все условия (**1 балл**): \n",
        "    * приведён код для построения прогноза выработки газа на указанной скважине и рассчитана абсолютная ошибка прогноза для этой скважины;\n",
        "    * выбрана корректная для поставленной задачи метрика (или метрики) оценки качества модели и приведён код для расчёта этой метрики на всём обучающем наборе данных;\n",
        "    * приведена корректная интерпретация полученного результата.\n",
        "\n",
        "- Задание выполнено верно, но не учтено одно из условий, или задание выполнено неверно (**0 баллов**)."
      ]
    },
    {
      "cell_type": "markdown",
      "id": "e5f2aabb",
      "metadata": {},
      "source": [
        "### а. Прогноз одного наблюдения"
      ]
    },
    {
      "cell_type": "code",
      "execution_count": 245,
      "id": "919bb518",
      "metadata": {},
      "outputs": [
        {
          "data": {
            "text/plain": [
              "array([[  1.        , 107.        ,  13.48      ,   1.28370777,\n",
              "          2.93      ,  55.3       ,   0.5       ,   1.7       ]])"
            ]
          },
          "execution_count": 245,
          "metadata": {},
          "output_type": "execute_result"
        }
      ],
      "source": [
        "p = np.array([X[105]])\n",
        "p"
      ]
    },
    {
      "cell_type": "code",
      "execution_count": 246,
      "id": "e4291db0",
      "metadata": {
        "id": "e4291db0"
      },
      "outputs": [
        {
          "name": "stdout",
          "output_type": "stream",
          "text": [
            "prediction: [3806.7948627]\n"
          ]
        }
      ],
      "source": [
        "# Ваш код здесь\n",
        "prediction_1 = (p@w_hat)\n",
        "print('prediction:', prediction_1)"
      ]
    },
    {
      "cell_type": "code",
      "execution_count": 247,
      "id": "c5dbbcc7",
      "metadata": {},
      "outputs": [
        {
          "name": "stdout",
          "output_type": "stream",
          "text": [
            "Absolute_error: [83.63]\n"
          ]
        }
      ],
      "source": [
        "print('Absolute_error:', np.round(abs(y[105] - prediction_1),2))"
      ]
    },
    {
      "cell_type": "markdown",
      "id": "a03197a7",
      "metadata": {},
      "source": [
        "### б. Прогноз для всех наблюдений"
      ]
    },
    {
      "cell_type": "code",
      "execution_count": 248,
      "id": "c55e10ff",
      "metadata": {},
      "outputs": [
        {
          "name": "stdout",
          "output_type": "stream",
          "text": [
            "MAE: 164.42\n",
            "MAPE: 4.00 %\n"
          ]
        }
      ],
      "source": [
        "prediction = (X@w_hat)\n",
        "print('MAE:', round(metrics.mean_absolute_error(y, prediction),2))\n",
        "print('MAPE: {:.2f} %'.format(round(metrics.mean_absolute_percentage_error(y, prediction)*100)))"
      ]
    },
    {
      "cell_type": "markdown",
      "id": "c9bee4bc",
      "metadata": {
        "id": "c9bee4bc"
      },
      "source": [
        "> *Ваши выводы здесь*\n",
        "\n",
        "# Выводы\n",
        "\n",
        "> 1. Обучена модель линейной регрессии аналитическим методом\n",
        "\n",
        "> 2. Метрики:\n",
        "\n",
        "        - AE  - 83.63\n",
        "\n",
        "        - MAE - 164.42\n",
        "\n",
        "        - MAPE  - 164.42"
      ]
    },
    {
      "cell_type": "markdown",
      "id": "0c25c3aa",
      "metadata": {
        "id": "0c25c3aa"
      },
      "source": [
        "### Задание 5.4. (1 балл)\n",
        "\n",
        "Настало время анализа построенной модели. Посмотрите на коэффициенты и сравните их знаки со значениями выборочных корреляций между целевым признаком и факторами, которые вы нашли ранее.\n",
        "\n",
        "Дайте развёрнутые ответы на следующие вопросы:\n",
        "\n",
        "* Есть ли в вашей модели фактор, при котором коэффициент в модели линейной регрессии противоречит соответствующему коэффициенту корреляции? Например, корреляция говорит, что зависимость между фактором и целевой переменной прямая, а модель говорит обратное. Если таких факторов несколько, укажите их все.\n",
        "* Как вы считаете, с чем связано полученное противоречие результатов?"
      ]
    },
    {
      "cell_type": "markdown",
      "id": "ngJ3UdYb6Ll6",
      "metadata": {
        "id": "ngJ3UdYb6Ll6"
      },
      "source": [
        "**Критерии оценивания:**\n",
        "\n",
        "- Задание выполнено верно, даны корректные развёрнутые ответы на все поставленные в задании вопросы (**1 балл**). \n",
        "\n",
        "- Задание выполнено неверно, даны некорректные ответы на один или несколько поставленных в задании вопросов (**0 баллов**)."
      ]
    },
    {
      "cell_type": "code",
      "execution_count": 252,
      "id": "v-zIxRPY9wK7",
      "metadata": {
        "id": "v-zIxRPY9wK7"
      },
      "outputs": [
        {
          "name": "stdout",
          "output_type": "stream",
          "text": [
            "Well       0.026817\n",
            "Por        0.861910\n",
            "Perm       0.727426\n",
            "AI        -0.390835\n",
            "Brittle    0.237155\n",
            "TOC        0.654445\n",
            "VR         0.323182\n",
            "Prod       1.000000\n",
            "Name: Prod, dtype: float64\n",
            "[   0.  238.  542. -312.   26.  -50.  688.]\n"
          ]
        }
      ],
      "source": [
        "# Ваш код здесь\n",
        "print(data.corr().iloc[7])\n",
        "print(np.round(w_hat[1:8]))"
      ]
    },
    {
      "cell_type": "markdown",
      "id": "qeowwIp99yBf",
      "metadata": {
        "id": "qeowwIp99yBf"
      },
      "source": [
        "> *Ваши выводы здесь*\n",
        "\n",
        "### Выводы\n",
        "\n",
        "> Коээфициент веса предпоследнего признака *TOC* отрицательный, хотя корреляционный коэффициент положительный, это говорит о том, что данный коэффициент занижает вес признака TOС для нивелирования влияния признаков **Por, Perm, VR**, так как данные признаки имеют высокие положительный коэффициенты *w*"
      ]
    },
    {
      "cell_type": "markdown",
      "id": "9cea9195",
      "metadata": {
        "id": "9cea9195"
      },
      "source": [
        "### Задание 5.5. (2 балла)\n",
        "\n",
        "* Исключите из данных сильно коррелированные между собой факторы. Под сильной корреляцией в данной задаче будем понимать значения выше `0.7`.\n",
        "\n",
        "Выбирая, какой из коррелированных факторов оставить, руководствуйтесь коэффициентом корреляции с целевой переменной: оставляйте тот фактор, который больше всего коррелирует с целевой переменной (объёмом добычи газа).\n",
        "\n",
        "* Также исключите из данных факторы, для которых корреляция с целевой переменной меньше `0.05`.\n",
        "\n",
        "Постройте модель линейной регрессии на обновлённых после удаления факторов данных по методу наименьших квадратов. Для этого используйте матричную формулу и библиотеку numpy. Выведите значение полученных коэффициентов, округлённых до целого.\n",
        "\n",
        "Сделайте прогноз для всего обучающего набора данных и рассчитайте выбранную вами ранее метрику (или метрики). \n",
        "\n",
        "Дайте подробные ответы на следующие вопросы:\n",
        "\n",
        "* Приведите интерпретацию нескольких полученных коэффициентов (двух или трёх). Сравните их значения с полученными ранее.\n",
        "* Приведите интерпретацию полученных значений метрик. Сравните их значения с полученными ранее. \n",
        "* Удалось ли вам побороть противоречие коэффициентов линейной регрессии и коэффициентов корреляции?"
      ]
    },
    {
      "cell_type": "markdown",
      "id": "vlUYVjJP6oXN",
      "metadata": {
        "id": "vlUYVjJP6oXN"
      },
      "source": [
        "**Критерии оценивания:**\n",
        "- Задание выполнено верно, учтены все условия (**2 балла**): \n",
        "    * отобраны верные факторы;\n",
        "    * на основе отобранных факторов построена модель линейной регрессии с помощью матричной формулы МНК и найдены параметры модели, соответствующие каждому из факторов;\n",
        "    * построен прогноз для всего обучающего набора данных и рассчитано значение метрики (метрика должна быть выбрана корректно);\n",
        "    * даны ответы на все поставленные в задании вопросы.\n",
        "\n",
        "- Задание выполнено верно, но не учтено одно из условий (**1 балл**).\n",
        "- Задание выполнено верно, не учтено несколько из условий (**0 баллов**)."
      ]
    },
    {
      "cell_type": "code",
      "execution_count": 253,
      "id": "5d5ZJ0lX_UHe",
      "metadata": {
        "id": "5d5ZJ0lX_UHe"
      },
      "outputs": [],
      "source": [
        "# Ваш код здесь\n",
        "#Удаляем неинформативный признак Well и один из коллиниарных признаков (так как у Por корерляция с целевой переменной выше --> удаляем Perm)\n",
        "df = data_log.drop(['Well', 'Perm'], axis=1)"
      ]
    },
    {
      "cell_type": "code",
      "execution_count": 254,
      "id": "a4093be5",
      "metadata": {},
      "outputs": [
        {
          "data": {
            "text/plain": [
              "<Axes: >"
            ]
          },
          "execution_count": 254,
          "metadata": {},
          "output_type": "execute_result"
        },
        {
          "data": {
            "image/png": "[encoded data removed]",
            "text/plain": [
              "<Figure size 500x500 with 2 Axes>"
            ]
          },
          "metadata": {},
          "output_type": "display_data"
        }
      ],
      "source": [
        "#матрица корреляций после удаления признаков\n",
        "fig, (ax1) = plt.subplots(ncols=1, figsize=(5, 5))\n",
        "sns.heatmap(df.corr(numeric_only=True), annot=True, annot_kws={'size': 12})"
      ]
    },
    {
      "cell_type": "code",
      "execution_count": 255,
      "id": "aa179ba6",
      "metadata": {},
      "outputs": [
        {
          "name": "stdout",
          "output_type": "stream",
          "text": [
            "[-1901.   291.  -134.    29.    87.   399.]\n"
          ]
        }
      ],
      "source": [
        "X_new = np.column_stack([np.ones(198), np.array(df.drop(['Prod'], axis=1))])\n",
        "\n",
        "w_hat = np.linalg.inv(X_new.T@X_new)@X_new.T@y\n",
        "print(np.round(w_hat))"
      ]
    },
    {
      "cell_type": "code",
      "execution_count": 256,
      "id": "613f02e2",
      "metadata": {},
      "outputs": [
        {
          "name": "stdout",
          "output_type": "stream",
          "text": [
            "MAE: 170.31\n",
            "MAPE: 4.00 %\n"
          ]
        }
      ],
      "source": [
        "prediction = X_new@w_hat\n",
        "print('MAE:', round(metrics.mean_absolute_error(y, prediction),2))\n",
        "print('MAPE: {:.2f} %'.format(round(metrics.mean_absolute_percentage_error(y, prediction)*100)))"
      ]
    },
    {
      "cell_type": "markdown",
      "id": "KxbYvMDo_WLe",
      "metadata": {
        "id": "KxbYvMDo_WLe"
      },
      "source": [
        "> *Ваши выводы здесь*"
      ]
    },
    {
      "cell_type": "markdown",
      "id": "2e8ec3d8",
      "metadata": {},
      "source": [
        "### Выводы\n",
        "\n",
        "> - Направление коэффициентов **w** соответствуют корреляционной матрице\n",
        "> - Удаление признаков не повлияло на метрики"
      ]
    },
    {
      "cell_type": "markdown",
      "id": "7d50db12",
      "metadata": {
        "id": "7d50db12"
      },
      "source": [
        "### Задание 5.6. (1 балл)\n",
        "\n",
        "Наконец, давайте построим модель линейной регрессии из библиотеки `scikit-learn (sklearn)` и сравним результаты её работы с теми, что нам удалось получить вручную. \n",
        "\n",
        "Постройте модель линейной регрессии на обновлённых после удаления факторов данных по методу наименьших квадратов. Для этого воспользуйтесь классом `LinearRegression` из библиотеки `sklearn`. Выведите значения полученных коэффициентов, округлённые до целого.\n",
        "\n",
        "Сделайте прогноз для всего обучающего набора данных и рассчитайте значение выбранной вами метрики (или метрик).\n",
        "\n",
        "Сравните результаты библиотечной реализации с тем, что вы получили ранее. "
      ]
    },
    {
      "cell_type": "markdown",
      "id": "emu5D3w278JP",
      "metadata": {
        "id": "emu5D3w278JP"
      },
      "source": [
        "**Критерии оценивания:**\n",
        "\n",
        "- Задание выполнено верно, учтены все условия (**1 балл**): \n",
        "    * на основе отобранных факторов построена модель линейной регрессии из библиотеки sklearn и найдены параметры модели, соответствующие каждому из факторов;\n",
        "    * построен прогноз для всего обучающего набора данных и рассчитано значение метрики (метрика должна быть выбрана корректно);\n",
        "    * приведён вывод о соответствии результатов, полученных вручную и с помощью библиотеки.\n",
        "- Задание выполнено неверно, не учтено одно или несколько условий (**0 баллов**)."
      ]
    },
    {
      "cell_type": "code",
      "execution_count": 257,
      "id": "Gpdpfq59AKGu",
      "metadata": {
        "id": "Gpdpfq59AKGu"
      },
      "outputs": [
        {
          "name": "stdout",
          "output_type": "stream",
          "text": [
            "[-1901.   291.  -134.    29.    87.   399.]\n"
          ]
        }
      ],
      "source": [
        "# Ваш код здесь\n",
        "model = LinearRegression(fit_intercept=False)\n",
        "model.fit(X_new, y)\n",
        "w_hat = np.round(model.coef_)\n",
        "print(w_hat)"
      ]
    },
    {
      "cell_type": "code",
      "execution_count": 258,
      "id": "a008f0d2",
      "metadata": {},
      "outputs": [
        {
          "name": "stdout",
          "output_type": "stream",
          "text": [
            "MAE: 170.31\n",
            "MAPE: 4.00 %\n"
          ]
        }
      ],
      "source": [
        "prediction = model.predict(X_new)\n",
        "print('MAE:', round(metrics.mean_absolute_error(y, prediction),2))\n",
        "print('MAPE: {:.2f} %'.format(round(metrics.mean_absolute_percentage_error(y, prediction)*100)))"
      ]
    },
    {
      "cell_type": "markdown",
      "id": "WT9cdHAbAMG7",
      "metadata": {
        "id": "WT9cdHAbAMG7"
      },
      "source": [
        "> *Ваши выводы здесь*\n",
        "\n",
        "### Вывод\n",
        "\n",
        "> Коэффициенты, подобранные, моделью из библиотеки scikit-learn соответствуют аналитическому решению. метрики не изменились"
      ]
    },
    {
      "cell_type": "markdown",
      "id": "5346338e",
      "metadata": {
        "id": "5346338e"
      },
      "source": [
        "## Практика: полиномиальная регрессия и регуляризация"
      ]
    },
    {
      "cell_type": "markdown",
      "id": "aad9e3a6",
      "metadata": {
        "id": "aad9e3a6"
      },
      "source": [
        "Мы продолжаем работать над задачей от владельца компании «Газ-Таз-Ваз-Нефть» Василия.\n",
        "\n",
        "Ранее мы построили модель линейной регрессии, которая прогнозирует выработку газа на скважине. Для этого мы с помощью матрицы корреляций и рассуждений отобрали некоррелированные, значимые для предсказания признаки. **Далее мы будем использовать именно их (см. задание 5.5).**\n",
        "\n",
        "Мы хотим улучшить результат — уменьшить ошибку прогноза. Для этого мы воспользуемся моделью полиномиальной регрессии третьей степени. Однако теперь мы знаем, что полиномиальным моделям очень легко переобучиться под исходную выборку. Так как данных у нас не так много (всего 200 скважин), то для контроля качества модели мы будем использовать кросс-валидацию. \n",
        "\n",
        "Приступим! Выполните задания 8.1–8.5:\n"
      ]
    },
    {
      "cell_type": "code",
      "execution_count": 259,
      "id": "18506d1b",
      "metadata": {
        "id": "18506d1b"
      },
      "outputs": [],
      "source": [
        "from sklearn.preprocessing import PolynomialFeatures, StandardScaler\n",
        "from sklearn.linear_model import LinearRegression, Lasso, Ridge, ElasticNet\n",
        "from sklearn.model_selection import GridSearchCV\n",
        "from sklearn.model_selection import cross_validate"
      ]
    },
    {
      "cell_type": "markdown",
      "id": "bfbfea8d",
      "metadata": {
        "id": "bfbfea8d"
      },
      "source": [
        "### Задание 8.1. (1 балл)\n",
        "\n",
        "Стандаризируйте признаки с помощью `StandartScaler` из библиотеки `sklearn`. \n",
        "\n",
        "Затем сгенерируйте полиномиальные признаки третьего порядка на факторах, которые вы выбрали для обучения моделей. Для этого воспользуйтесь генератором полиномов `PolynomialFeatures` из библиотеки `sklearn`. Параметр `include_bias` установите в значение `False`.\n",
        "\n",
        "Выведите на экран, сколько факторов у вас получилось после генерации полиномиальных признаков.\n",
        "\n",
        "**Важно:** стандартизацию необходимо произвести до генерации полиномиальных факторов!\n",
        "\n",
        "Обучите модель линейной регрессии из библиотеки `sklearn` (`LinearRegression`) на полученных полиномиальных факторах.\n",
        "\n",
        "Используя кросс-валидацию оцените среднее значение выбранной вами метрики (или метрик) на тренировочных и валидационных фолдах.\n",
        "\n",
        "Проинтерпретируйте полученные результаты."
      ]
    },
    {
      "cell_type": "markdown",
      "id": "Y8oAhQkr8gV-",
      "metadata": {
        "id": "Y8oAhQkr8gV-"
      },
      "source": [
        "**Критерии оценивания:**\n",
        "\n",
        "- Задание выполнено верно, учтены все условия (**1 балл**): \n",
        "    * на основе отобранных факторов сгенерированы полиномиальные признаки третьего порядка;\n",
        "    * построена модель полиномиальной регрессии (линейной регрессии на полиномиальных признаках);\n",
        "    * с помощью кросс-валидации оценено среднее значение выбранной студентом метрики (или метрик) на тренировочных и валидационных фолдах (метрика должна быть выбрана корректно).\n",
        "- Задание выполнено неверно, не учтено одно или несколько из условий (**0 баллов**)."
      ]
    },
    {
      "cell_type": "code",
      "execution_count": 260,
      "id": "-ln3bx8NFNRw",
      "metadata": {
        "id": "-ln3bx8NFNRw"
      },
      "outputs": [
        {
          "data": {
            "text/plain": [
              "34"
            ]
          },
          "execution_count": 260,
          "metadata": {},
          "output_type": "execute_result"
        }
      ],
      "source": [
        "# Ваш код здесь\n",
        "# Так как все признаки распределены нормально, можем воспользоваться стандартизацией\n",
        "scaler = StandardScaler()\n",
        "X_scal = scaler.fit_transform(X_new[:, 1:5])\n",
        "\n",
        "# Формирование полиномиальных признаков\n",
        "poly = PolynomialFeatures(degree=3, include_bias=False)\n",
        "X_poly = poly.fit_transform(X_scal)\n",
        "\n",
        "# Количество признаков\n",
        "X_poly.shape[1]"
      ]
    },
    {
      "cell_type": "code",
      "execution_count": 261,
      "id": "90a02200",
      "metadata": {},
      "outputs": [
        {
          "name": "stdout",
          "output_type": "stream",
          "text": [
            "MAPE на тренировочных фолдах: 2.00 %\n",
            "MAPE на валидационных фолдах: 2.00 %\n",
            "MAE на тренировочных фолдах: 70.00\n",
            "MAE на валидационных фолдах: 99.00\n"
          ]
        }
      ],
      "source": [
        "lr = LinearRegression()\n",
        "\n",
        "# оцениваем качество модели на кросс-валидации, метрика — MAPE, метрика — MAE\n",
        "cv_results = cross_validate(lr, X_poly, y, scoring=['neg_mean_absolute_percentage_error', 'neg_mean_absolute_error'], cv=5, return_train_score=True)\n",
        "\n",
        "# Метрка MAPE\n",
        "print('MAPE на тренировочных фолдах: {:.2f} %'.format(round(abs(cv_results['train_neg_mean_absolute_percentage_error'].mean()*100))))\n",
        "print('MAPE на валидационных фолдах: {:.2f} %'.format(round(abs(cv_results['test_neg_mean_absolute_percentage_error'].mean()*100))))\n",
        "\n",
        "# Метрка MAE\n",
        "print('MAE на тренировочных фолдах: {:.2f}'.format(round(abs(cv_results['train_neg_mean_absolute_error'].mean()))))\n",
        "print('MAE на валидационных фолдах: {:.2f}'.format(round(abs(cv_results['test_neg_mean_absolute_error'].mean()))))"
      ]
    },
    {
      "cell_type": "markdown",
      "id": "9DkuuLLtFPPy",
      "metadata": {
        "id": "9DkuuLLtFPPy"
      },
      "source": [
        "> *Ваши выводы здесь*\n",
        "\n",
        "## Выводы:\n",
        "\n",
        "> После формирования полиномиальных признаков, метрики MAPE и MAE улучшились\n",
        "> Так как датасет имеет малую величину, расхождения между тренировочной и валидационнйо моделями незначительное"
      ]
    },
    {
      "cell_type": "markdown",
      "id": "63d06013",
      "metadata": {
        "id": "63d06013"
      },
      "source": [
        "### Задание 8.2. (2 балла)\n",
        "\n",
        "Теперь попробуем воспользоваться линейной регрессией с регуляризацией. Для начала возьмём $L_1$-регуляризацию.\n",
        "\n",
        "Обучите модель `Lasso` из библиотеки `sklearn` на полученных полиномиальных факторах, предварительно стандартизировав факторы. \n",
        "\n",
        "Коэффициент регуляризации (`alpha`) подберите самостоятельно с помощью любого известного вам метода подбора гиперпаметров.\n",
        "\n",
        "Используя кросс-валидацию, оцените среднее значение выбранной вами метрики (или метрик) на тренировочных и валидационных фолдах.\n",
        "\n",
        "Проинтерпретируйте полученные результаты."
      ]
    },
    {
      "cell_type": "markdown",
      "id": "z24YUfuA9rUq",
      "metadata": {
        "id": "z24YUfuA9rUq"
      },
      "source": [
        "**Критерии оценивания:**\n",
        "\n",
        "- Задание выполнено верно, учтены все условия (**2 балла**): \n",
        "    * правильно построена модель полиномиальной регрессии (линейной регрессии на полиномиальных признаках) с регуляризацией (Lasso), учтены условия необходимости масштабирования факторов для построения модели;\n",
        "    * приведён код для подбора параметра регуляризации (вручную или с помощью библиотечных инструментов);\n",
        "    * с помощью кросс-валидации оценено среднее значение выбранной студентом метрики (или метрик) на тренировочных и валидационных фолдах (метрика должна быть выбрана корректно).\n",
        "\n",
        "- Задание выполнено верно, но не учтено одно из условий (**1 балл**).\n",
        "- Задание выполнено неверно, не учтено несколько условий (**0 баллов**)."
      ]
    },
    {
      "cell_type": "code",
      "execution_count": 262,
      "id": "016c8d4f",
      "metadata": {},
      "outputs": [],
      "source": [
        "from sklearn.model_selection import RandomizedSearchCV"
      ]
    },
    {
      "cell_type": "code",
      "execution_count": 263,
      "id": "IJ5b5G8qFz-r",
      "metadata": {
        "id": "IJ5b5G8qFz-r"
      },
      "outputs": [
        {
          "name": "stdout",
          "output_type": "stream",
          "text": [
            "CPU times: total: 31.2 ms\n",
            "Wall time: 6.05 s\n",
            "best_alpha: 1.0\n",
            "MAPE на тренировочных фолдах: 1.68 %\n",
            "MAPE на валидационных фолдах: 2.31 %\n",
            "MAE на тренировочных фолдах: 71.30\n",
            "MAE на валидационных фолдах: 94.55\n"
          ]
        }
      ],
      "source": [
        "# Ваш код здесь\n",
        "\n",
        "param_distributions = {\n",
        "    'alpha': list(np.linspace(0.01, 1, 25, dtype=float))  # alpha = сила регуляризации\n",
        "}\n",
        "            \n",
        "random_search = RandomizedSearchCV(\n",
        "    estimator=Lasso(),  # Используем Lasso вместо LinearRegression\n",
        "    param_distributions=param_distributions,\n",
        "    cv=5, \n",
        "    n_iter = 15, \n",
        "    n_jobs = -1\n",
        ")  \n",
        "%time random_search.fit(X_poly, y) \n",
        "\n",
        "# Лучшая модель после поиска\n",
        "best_model = random_search.best_estimator_\n",
        "\n",
        "# Оценка лучшей модели на кросс-валидации\n",
        "cv_results = cross_validate(\n",
        "    best_model,\n",
        "    X_poly,\n",
        "    y,\n",
        "    scoring=['neg_mean_absolute_percentage_error', 'neg_mean_absolute_error'],\n",
        "    cv=5,\n",
        "    return_train_score=True\n",
        ")\n",
        "\n",
        "# Лучший параметр\n",
        "print('best_alpha:', round(best_model.alpha,3))\n",
        "\n",
        "# Вывод метрик\n",
        "print('MAPE на тренировочных фолдах: {:.2f} %'.format(abs(cv_results['train_neg_mean_absolute_percentage_error'].mean() * 100)))\n",
        "print('MAPE на валидационных фолдах: {:.2f} %'.format(abs(cv_results['test_neg_mean_absolute_percentage_error'].mean() * 100)))\n",
        "\n",
        "print('MAE на тренировочных фолдах: {:.2f}'.format(abs(cv_results['train_neg_mean_absolute_error'].mean())))\n",
        "print('MAE на валидационных фолдах: {:.2f}'.format(abs(cv_results['test_neg_mean_absolute_error'].mean())))"
      ]
    },
    {
      "cell_type": "markdown",
      "id": "Se0OGR8UF2Td",
      "metadata": {
        "id": "Se0OGR8UF2Td"
      },
      "source": [
        "> *Ваши выводы здесь*\n",
        "\n",
        "### Вывод\n",
        "\n",
        "> Модель с подбором гиперпараметров немного лучше справилась с задачей, при этом расхождение МАЕ между тренировочнйо и Валидационной моделью уменьшилось, а **МАРЕ - увеличилась**\n",
        "\n",
        "> ***Это может быть связано с тем, что в модели 1 - Ошибки равномерно распределены (±), а модель 2 (с подбором гиперпараметров) - могла лучше подстроиться под тренировочные данные, но хуже обобщаться.***"
      ]
    },
    {
      "cell_type": "markdown",
      "id": "2975ae60",
      "metadata": {
        "id": "2975ae60"
      },
      "source": [
        "### Задание 8.3. (2 балла)\n",
        "\n",
        "Проделаем то же самое с $L_2$-регуляризацией.\n",
        "\n",
        "Обучите модель `Ridge` из библиотеки `sklearn` на полученных полиномиальных факторах, предварительно стандартизировав факторы. \n",
        "\n",
        "Коэффициент регуляризации (`alpha`) подберите самостоятельно с помощью любого известного вам метода подбора гиперпаметров.\n",
        "\n",
        "Используя кросс-валидацию оцените среднее значение выбранной вами метрики (или метрик) на тренировочных и валидационных фолдах.\n",
        "\n",
        "Проинтерпретируйте полученные результаты."
      ]
    },
    {
      "cell_type": "code",
      "execution_count": 212,
      "id": "UfPGyNsjGGS8",
      "metadata": {
        "id": "UfPGyNsjGGS8"
      },
      "outputs": [
        {
          "name": "stdout",
          "output_type": "stream",
          "text": [
            "CPU times: total: 31.2 ms\n",
            "Wall time: 37 ms\n",
            "best_alpha: 0.918\n",
            "MAPE на тренировочных фолдах: 1.71 %\n",
            "MAPE на валидационных фолдах: 2.40 %\n",
            "MAE на тренировочных фолдах: 72.24\n",
            "MAE на валидационных фолдах: 98.32\n"
          ]
        }
      ],
      "source": [
        "# Ваш код здесь\n",
        "\n",
        "param_distributions = {\n",
        "    'alpha': list(np.linspace(0.01, 1, 25, dtype=float))  # alpha = сила регуляризации\n",
        "}\n",
        "            \n",
        "random_search = RandomizedSearchCV(\n",
        "    estimator=Ridge(),  # Используем Lasso вместо LinearRegression\n",
        "    param_distributions=param_distributions,\n",
        "    cv=5, \n",
        "    n_iter = 15, \n",
        "    n_jobs = -1\n",
        ")  \n",
        "%time random_search.fit(X_poly, y) \n",
        "\n",
        "# Лучшая модель после поиска\n",
        "best_model = random_search.best_estimator_\n",
        "\n",
        "# Оценка лучшей модели на кросс-валидации\n",
        "cv_results = cross_validate(\n",
        "    best_model,\n",
        "    X_poly,\n",
        "    y,\n",
        "    scoring=['neg_mean_absolute_percentage_error', 'neg_mean_absolute_error'],\n",
        "    cv=5,\n",
        "    return_train_score=True\n",
        ")\n",
        "\n",
        "# Лучший параметр\n",
        "print('best_alpha:', round(best_model.alpha,3))\n",
        "\n",
        "# Вывод метрик\n",
        "print('MAPE на тренировочных фолдах: {:.2f} %'.format(abs(cv_results['train_neg_mean_absolute_percentage_error'].mean() * 100)))\n",
        "print('MAPE на валидационных фолдах: {:.2f} %'.format(abs(cv_results['test_neg_mean_absolute_percentage_error'].mean() * 100)))\n",
        "\n",
        "print('MAE на тренировочных фолдах: {:.2f}'.format(abs(cv_results['train_neg_mean_absolute_error'].mean())))\n",
        "print('MAE на валидационных фолдах: {:.2f}'.format(abs(cv_results['test_neg_mean_absolute_error'].mean())))"
      ]
    },
    {
      "cell_type": "markdown",
      "id": "dQBd7ny_GIi1",
      "metadata": {
        "id": "dQBd7ny_GIi1"
      },
      "source": [
        "> *Ваши выводы здесь*\n",
        "\n",
        "### Выводы:\n",
        "\n",
        "> Качество модели с L2-регуляризацией принципиально не изменилось\n",
        "\n",
        "> best alpha = 0.918"
      ]
    },
    {
      "cell_type": "markdown",
      "id": "86pXnWE7-5ch",
      "metadata": {
        "id": "86pXnWE7-5ch"
      },
      "source": [
        "**Критерии оценивания:**\n",
        "\n",
        "- Задание выполнено верно, учтены все условия (**2 балла**): \n",
        "    * правильно построена модель полиномиальной регрессии (линейной регрессии на полиномиальных признаках) с регуляризацией (Ridge), учтены условия необходимости масштабирования факторов для построения модели;\n",
        "    * приведён код для подбора параметра регуляризации (вручную или с помощью библиотечных инструментов);\n",
        "    * с помощью кросс-валидации оценено среднее значение выбранной студентом метрики (или метрик) на тренировочных и валидационных фолдах (метрика должна быть выбрана корректно).\n",
        "\n",
        "- Задание выполнено верно, но не учтено одно из условий (**1 балл**).\n",
        "- Задание выполнено неверно, не учтено несколько условий (**0 баллов**)."
      ]
    },
    {
      "cell_type": "markdown",
      "id": "7ad85b78",
      "metadata": {
        "id": "7ad85b78"
      },
      "source": [
        "### Задание 8.4. (2 балла)\n",
        "\n",
        "Наконец, настало время комбинировать $L_1$ и $L_2$ -регуляризации.\n",
        "\n",
        "Обучите модель `ElasticNet` из библиотеки `sklearn` на полученных полиномиальных факторах, предварительно стандартизировав факторы. \n",
        "\n",
        "Коэффициенты регуляризации (`alpha` и `l1-ratio`) подберите самостоятельно с помощью любого известного вам метода подбора гиперпаметров.\n",
        "\n",
        "Используя кросс-валидацию, оцените среднее значение метрики MAPE на тренировочных и валидационных фолдах.\n",
        "\n",
        "Проинтерпретируйте полученные результаты."
      ]
    },
    {
      "cell_type": "markdown",
      "id": "sy8ESceQ-__u",
      "metadata": {
        "id": "sy8ESceQ-__u"
      },
      "source": [
        "**Критерии оценивания:**\n",
        "\n",
        "- Задание выполнено верно, учтены все условия (**2 балла**): \n",
        "    * правильно построена модель полиномиальной регрессии (линейной регрессии на полиномиальных признаках) с регуляризацией (ElasticNet), учтены условия необходимости масштабирования факторов для построения модели;\n",
        "    * приведён код для подбора параметра регуляризации (вручную или с помощью библиотечных инструментов);\n",
        "    * с помощью кросс-валидации оценено среднее значение выбранной студентом метрики (или метрик) на тренировочных и валидационных фолдах (метрика должна быть выбрана корректно).\n",
        "\n",
        "- Задание выполнено верно, но не учтено одно из условий (**1 балл**).\n",
        "- Задание выполнено неверно, не учтено несколько условий (**0 баллов**)."
      ]
    },
    {
      "cell_type": "code",
      "execution_count": 218,
      "id": "-Yi3P20hQnLS",
      "metadata": {
        "id": "-Yi3P20hQnLS"
      },
      "outputs": [
        {
          "name": "stdout",
          "output_type": "stream",
          "text": [
            "CPU times: total: 15.6 ms\n",
            "Wall time: 71.7 ms\n",
            "best_alpha: 0.505\n",
            "best_l1_ratio: 1.0\n",
            "MAPE на тренировочных фолдах: 1.67 %\n",
            "MAPE на валидационных фолдах: 2.37 %\n",
            "MAE на тренировочных фолдах: 70.75\n",
            "MAE на валидационных фолдах: 96.29\n"
          ]
        }
      ],
      "source": [
        "# Ваш код здесь\n",
        "\n",
        "param_distributions = {\n",
        "    'alpha': list(np.linspace(0.01, 1, 25, dtype=float)),  # alpha = сила регуляризации\n",
        "    'l1_ratio': list(np.linspace(0.1, 1, 25, dtype=float)) #  доля L1-регуляризации\n",
        "}\n",
        "            \n",
        "random_search = RandomizedSearchCV(\n",
        "    estimator= ElasticNet(),  # Используем ElasticNet\n",
        "    param_distributions=param_distributions,\n",
        "    cv=5, \n",
        "    n_iter = 15, \n",
        "    n_jobs = -1\n",
        ")  \n",
        "%time random_search.fit(X_poly, y) \n",
        "\n",
        "# Лучшая модель после поиска\n",
        "best_model = random_search.best_estimator_\n",
        "\n",
        "# Оценка лучшей модели на кросс-валидации\n",
        "cv_results = cross_validate(\n",
        "    best_model,\n",
        "    X_poly,\n",
        "    y,\n",
        "    scoring=['neg_mean_absolute_percentage_error', 'neg_mean_absolute_error'],\n",
        "    cv=5,\n",
        "    return_train_score=True\n",
        ")\n",
        "\n",
        "# Лучший параметр\n",
        "print('best_alpha:', round(best_model.alpha,3))\n",
        "print('best_l1_ratio:', round(best_model.l1_ratio,3))\n",
        "\n",
        "# Вывод метрик\n",
        "print('MAPE на тренировочных фолдах: {:.2f} %'.format(abs(cv_results['train_neg_mean_absolute_percentage_error'].mean() * 100)))\n",
        "print('MAPE на валидационных фолдах: {:.2f} %'.format(abs(cv_results['test_neg_mean_absolute_percentage_error'].mean() * 100)))\n",
        "\n",
        "print('MAE на тренировочных фолдах: {:.2f}'.format(abs(cv_results['train_neg_mean_absolute_error'].mean())))\n",
        "print('MAE на валидационных фолдах: {:.2f}'.format(abs(cv_results['test_neg_mean_absolute_error'].mean())))"
      ]
    },
    {
      "cell_type": "markdown",
      "id": "er2lAiE9QpAb",
      "metadata": {
        "id": "er2lAiE9QpAb"
      },
      "source": [
        "> *Ваши выводы здесь*\n",
        "\n",
        "### Выводы:\n",
        "\n",
        "> Качество гибридной модели ElasticNet принципиально не изменилось\n",
        "\n",
        "> best alpha = 0.505\n",
        "\n",
        "> Также можно заметить, что при подборе гиперпараметров **best_l1_ratio = 1**, т.е. мы получили аналогичную модель с L2 - регуляризацией"
      ]
    },
    {
      "cell_type": "markdown",
      "id": "91c6e1d1",
      "metadata": {
        "id": "91c6e1d1"
      },
      "source": [
        "### Задание 8.5. (1 балл)\n",
        "\n",
        "Завершением вашей работы будет сводная таблица результатов, которую вы представите на презентации заказчику Василию.\n",
        "\n",
        "Составьте таблицу (DataFrame) со следующими столбцами (имена столбцов выберите самостоятельно):\n",
        "* Наименование модели.\n",
        "* Гиперпараметры (коэффициенты регуляризации, если таковые имеются), если нет — оставьте ячейку пустой.\n",
        "* Использовались ли полиномиальные признаки при построении модели (Да/Нет или True/False).\n",
        "* Значение выбранной метрики на тренировочных фолдах при кросс-валидации модели.\n",
        "* Значение выбранной метрики на валидационных фолдах при кросс-валидации модели.\n",
        "\n",
        "Сделайте финальный вывод по проделанной работе. Какая линейная модель из тех, что мы рассмотрели, показала наилучший результат с точки зрения качества на валидационных фолдах, а также с точки зрения переобученности?"
      ]
    },
    {
      "cell_type": "markdown",
      "id": "OsFRaKkF_nLq",
      "metadata": {
        "id": "OsFRaKkF_nLq"
      },
      "source": [
        "**Критерии оценивания:**\n",
        "\n",
        "- Задание выполнено верно, учтены все условия (**1 балл**): \n",
        "    * верно составлена сводная таблица итоговых результатов построенных ранее моделей с указанными в задании столбцами;\n",
        "    * приведены итоговые выводы по проделанной работе, указано, какая из рассмотренных моделей показала наилучший результат.\n",
        "\n",
        "- Задание выполнено неверно, не учтено одно или несколько условий (**0 баллов**)."
      ]
    },
    {
      "cell_type": "markdown",
      "id": "c8135625",
      "metadata": {},
      "source": [
        "### Сводная таблица резульатов:\n",
        "\n",
        "Схема:\n",
        "1. Наименование: тип модели обучения \n",
        "\n",
        "- А - аналитический метод;\n",
        "- lr - линейная регрессия;\n",
        "- lr_poly - линейная регрессия c полиномилаьными стандартизироваными признаками;\n",
        "\n",
        "**Во всех моделях, представленных в таблице, удалены неинформативные и мультиколлинеарные признаки*\n",
        "\n",
        "2. Тип регуляризации:\n",
        "\n",
        "- l1;\n",
        "- l2;\n",
        "- ElasticNet;\n",
        "\n",
        "3. Кросс_валидация:\n",
        "\n",
        "- 0 - нет;\n",
        "- 1- есть;\n",
        "\n",
        "4. Подбор гиперпараметров:\n",
        "\n",
        "- 0 - нет;\n",
        "- 1- есть;\n",
        "\n",
        "5. MAPE_train [%] - средняя абсолютная процентная ошибка тренировочной выборки\n",
        "\n",
        "6. MAPE_val [%] - средняя абсолютная процентная ошибка валидационной выборки\n",
        "\n",
        "7. MAE_train - средняя абсолютная ошибка тренировочной выборки\n",
        "\n",
        "8. MAE_val - средняя абсолютная ошибка валидационной выборки"
      ]
    },
    {
      "cell_type": "code",
      "execution_count": 224,
      "id": "wRiys8lKQuqW",
      "metadata": {
        "id": "wRiys8lKQuqW"
      },
      "outputs": [
        {
          "data": {
            "text/html": [
              "<div>\n",
              "<style scoped>\n",
              "    .dataframe tbody tr th:only-of-type {\n",
              "        vertical-align: middle;\n",
              "    }\n",
              "\n",
              "    .dataframe tbody tr th {\n",
              "        vertical-align: top;\n",
              "    }\n",
              "\n",
              "    .dataframe thead th {\n",
              "        text-align: right;\n",
              "    }\n",
              "</style>\n",
              "<table border=\"1\" class=\"dataframe\">\n",
              "  <thead>\n",
              "    <tr style=\"text-align: right;\">\n",
              "      <th></th>\n",
              "      <th>Наименование</th>\n",
              "      <th>Тип регуляризации</th>\n",
              "      <th>Кросс_валидация</th>\n",
              "      <th>Подбор гиперпараметров</th>\n",
              "      <th>MAPE_train [%]</th>\n",
              "      <th>MAPE_val [%]</th>\n",
              "      <th>MAE_train</th>\n",
              "      <th>MAE_val</th>\n",
              "    </tr>\n",
              "  </thead>\n",
              "  <tbody>\n",
              "    <tr>\n",
              "      <th>0</th>\n",
              "      <td>А</td>\n",
              "      <td>NaN</td>\n",
              "      <td>0</td>\n",
              "      <td>0</td>\n",
              "      <td>4.00</td>\n",
              "      <td>NaN</td>\n",
              "      <td>170.31</td>\n",
              "      <td>NaN</td>\n",
              "    </tr>\n",
              "    <tr>\n",
              "      <th>1</th>\n",
              "      <td>Lr</td>\n",
              "      <td>NaN</td>\n",
              "      <td>0</td>\n",
              "      <td>0</td>\n",
              "      <td>4.00</td>\n",
              "      <td>NaN</td>\n",
              "      <td>170.31</td>\n",
              "      <td>NaN</td>\n",
              "    </tr>\n",
              "    <tr>\n",
              "      <th>2</th>\n",
              "      <td>Lr_poly</td>\n",
              "      <td>NaN</td>\n",
              "      <td>1</td>\n",
              "      <td>0</td>\n",
              "      <td>2.00</td>\n",
              "      <td>2.00</td>\n",
              "      <td>70.00</td>\n",
              "      <td>99.00</td>\n",
              "    </tr>\n",
              "    <tr>\n",
              "      <th>3</th>\n",
              "      <td>Lr_poly</td>\n",
              "      <td>l1</td>\n",
              "      <td>1</td>\n",
              "      <td>1</td>\n",
              "      <td>1.68</td>\n",
              "      <td>2.31</td>\n",
              "      <td>71.30</td>\n",
              "      <td>95.55</td>\n",
              "    </tr>\n",
              "    <tr>\n",
              "      <th>4</th>\n",
              "      <td>Lr_poly</td>\n",
              "      <td>l2</td>\n",
              "      <td>1</td>\n",
              "      <td>1</td>\n",
              "      <td>1.71</td>\n",
              "      <td>2.40</td>\n",
              "      <td>72.24</td>\n",
              "      <td>98.32</td>\n",
              "    </tr>\n",
              "    <tr>\n",
              "      <th>5</th>\n",
              "      <td>Lr_poly</td>\n",
              "      <td>Elastic</td>\n",
              "      <td>1</td>\n",
              "      <td>1</td>\n",
              "      <td>1.67</td>\n",
              "      <td>2.37</td>\n",
              "      <td>70.75</td>\n",
              "      <td>96.29</td>\n",
              "    </tr>\n",
              "  </tbody>\n",
              "</table>\n",
              "</div>"
            ],
            "text/plain": [
              "  Наименование Тип регуляризации  Кросс_валидация  Подбор гиперпараметров  \\\n",
              "0            А               NaN                0                       0   \n",
              "1           Lr               NaN                0                       0   \n",
              "2      Lr_poly               NaN                1                       0   \n",
              "3      Lr_poly                l1                1                       1   \n",
              "4      Lr_poly                l2                1                       1   \n",
              "5      Lr_poly           Elastic                1                       1   \n",
              "\n",
              "   MAPE_train [%]  MAPE_val [%]  MAE_train  MAE_val  \n",
              "0            4.00           NaN     170.31      NaN  \n",
              "1            4.00           NaN     170.31      NaN  \n",
              "2            2.00          2.00      70.00    99.00  \n",
              "3            1.68          2.31      71.30    95.55  \n",
              "4            1.71          2.40      72.24    98.32  \n",
              "5            1.67          2.37      70.75    96.29  "
            ]
          },
          "execution_count": 224,
          "metadata": {},
          "output_type": "execute_result"
        }
      ],
      "source": [
        "# Ваш код здесь\n",
        "\n",
        "report = pd.DataFrame({\n",
        "    'Наименование': ['А', 'Lr', 'Lr_poly', 'Lr_poly', 'Lr_poly', 'Lr_poly'],\n",
        "    'Тип регуляризации': [np.nan, np.nan, np.nan, 'l1', 'l2', 'Elastic'],\n",
        "    'Кросс_валидация': [0, 0, 1, 1, 1, 1],\n",
        "    'Подбор гиперпараметров': [0, 0, 0, 1, 1, 1],\n",
        "    'MAPE_train [%]': [4, 4, 2, 1.68, 1.71, 1.67],\n",
        "    'MAPE_val [%]': [np.nan, np.nan, 2, 2.31, 2.40, 2.37],\n",
        "    'MAE_train': [170.31, 170.31, 70.00, 71.30, 72.24, 70.75],\n",
        "    'MAE_val': [np.nan, np.nan, 99.00, 95.55, 98.32, 96.29],\n",
        "})\n",
        "\n",
        "report"
      ]
    },
    {
      "cell_type": "markdown",
      "id": "UP7_LSoEQsrA",
      "metadata": {
        "id": "UP7_LSoEQsrA"
      },
      "source": [
        "> *Ваши выводы здесь*"
      ]
    },
    {
      "cell_type": "markdown",
      "id": "fbc582ef",
      "metadata": {},
      "source": [
        "# Итог:\n",
        "\n",
        "1. Выполнен разведывательный анализ набора данных, данные проверен на нормальность распределения признаков, исключены выбросы.\n",
        "2. Построена корреляционная матрица признаков.\n",
        "3. Исключены неинформативные и мультиколлинеарные признаки.\n",
        "4. Все модели обучены через линейную регрессию, разыми методами (см. таблицу).\n",
        "5. Проинтерпертированы резульата (см. промежуточные выводы).\n"
      ]
    },
    {
      "cell_type": "markdown",
      "id": "33d8bbd4",
      "metadata": {},
      "source": [
        "## Итоговый вывод:\n",
        "\n",
        "1. Для наиболее точного предсказания объёма добычи газа, необходимо использовать модели со стандартизироваными  полиномиальными признаками ***Lr_poly с l1 - регуляризацией***\n",
        "\n",
        "2. Почему:\n",
        "\n",
        "- Лучшая MAE_val (95.55).\n",
        "\n",
        "- Низкая MAPE_val (2.31%) — разница c [2] минимальна.\n",
        "\n",
        "- Регуляризация L1 помогает в отсечении лишнего — меньше переобучения."
      ]
    }
  ],
  "metadata": {
    "colab": {
      "provenance": []
    },
    "kernelspec": {
      "display_name": "Python 3",
      "language": "python",
      "name": "python3"
    },
    "language_info": {
      "codemirror_mode": {
        "name": "ipython",
        "version": 3
      },
      "file_extension": ".py",
      "mimetype": "text/x-python",
      "name": "python",
      "nbconvert_exporter": "python",
      "pygments_lexer": "ipython3",
      "version": "3.12.8"
    }
  },
  "nbformat": 4,
  "nbformat_minor": 5
}
