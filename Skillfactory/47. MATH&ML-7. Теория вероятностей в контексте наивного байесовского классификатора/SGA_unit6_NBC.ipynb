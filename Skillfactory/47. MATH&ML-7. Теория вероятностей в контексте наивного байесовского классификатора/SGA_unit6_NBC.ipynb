{
  "cells": [
    {
      "cell_type": "markdown",
      "id": "00009cca",
      "metadata": {
        "id": "00009cca"
      },
      "source": [
        "# Классификация текстов с использованием Наивного Байесовского Классификатора"
      ]
    },
    {
      "cell_type": "markdown",
      "id": "a52414b8",
      "metadata": {
        "id": "a52414b8"
      },
      "source": [
        "## Задание 1 (1 балл)"
      ]
    },
    {
      "cell_type": "markdown",
      "id": "f5f27b43",
      "metadata": {
        "id": "f5f27b43"
      },
      "source": [
        "Откройте данные. Узнайте, сколько в них спам- и не спам-писем. Визуализируйте полученные соотношение подходящим образом."
      ]
    },
    {
      "cell_type": "code",
      "execution_count": 18,
      "id": "cf0607ce",
      "metadata": {},
      "outputs": [],
      "source": [
        "import numpy as np\n",
        "import pandas as pd\n",
        "import matplotlib.pyplot as plt\n",
        "from sklearn.model_selection import train_test_split\n",
        "from sklearn.feature_extraction.text import CountVectorizer\n",
        "from sklearn.metrics import accuracy_score, precision_score, f1_score\n",
        "from sklearn.naive_bayes import MultinomialNB\n",
        "from sklearn.metrics import roc_curve, auc\n",
        "from sklearn.model_selection import cross_val_score"
      ]
    },
    {
      "cell_type": "code",
      "execution_count": 19,
      "id": "ac369274",
      "metadata": {
        "id": "ac369274"
      },
      "outputs": [
        {
          "name": "stderr",
          "output_type": "stream",
          "text": [
            "<>:2: SyntaxWarning: invalid escape sequence '\\s'\n",
            "<>:2: SyntaxWarning: invalid escape sequence '\\s'\n",
            "C:\\Users\\User\\AppData\\Local\\Temp\\ipykernel_3084\\4133299199.py:2: SyntaxWarning: invalid escape sequence '\\s'\n",
            "  df = pd.read_csv('data\\spam_or_not_spam.csv', sep = ',')\n"
          ]
        },
        {
          "data": {
            "text/html": [
              "<div>\n",
              "<style scoped>\n",
              "    .dataframe tbody tr th:only-of-type {\n",
              "        vertical-align: middle;\n",
              "    }\n",
              "\n",
              "    .dataframe tbody tr th {\n",
              "        vertical-align: top;\n",
              "    }\n",
              "\n",
              "    .dataframe thead th {\n",
              "        text-align: right;\n",
              "    }\n",
              "</style>\n",
              "<table border=\"1\" class=\"dataframe\">\n",
              "  <thead>\n",
              "    <tr style=\"text-align: right;\">\n",
              "      <th></th>\n",
              "      <th>email</th>\n",
              "      <th>label</th>\n",
              "    </tr>\n",
              "  </thead>\n",
              "  <tbody>\n",
              "    <tr>\n",
              "      <th>0</th>\n",
              "      <td>date wed NUMBER aug NUMBER NUMBER NUMBER NUMB...</td>\n",
              "      <td>0</td>\n",
              "    </tr>\n",
              "    <tr>\n",
              "      <th>1</th>\n",
              "      <td>martin a posted tassos papadopoulos the greek ...</td>\n",
              "      <td>0</td>\n",
              "    </tr>\n",
              "    <tr>\n",
              "      <th>2</th>\n",
              "      <td>man threatens explosion in moscow thursday aug...</td>\n",
              "      <td>0</td>\n",
              "    </tr>\n",
              "    <tr>\n",
              "      <th>3</th>\n",
              "      <td>klez the virus that won t die already the most...</td>\n",
              "      <td>0</td>\n",
              "    </tr>\n",
              "    <tr>\n",
              "      <th>4</th>\n",
              "      <td>in adding cream to spaghetti carbonara which ...</td>\n",
              "      <td>0</td>\n",
              "    </tr>\n",
              "  </tbody>\n",
              "</table>\n",
              "</div>"
            ],
            "text/plain": [
              "                                               email  label\n",
              "0   date wed NUMBER aug NUMBER NUMBER NUMBER NUMB...      0\n",
              "1  martin a posted tassos papadopoulos the greek ...      0\n",
              "2  man threatens explosion in moscow thursday aug...      0\n",
              "3  klez the virus that won t die already the most...      0\n",
              "4   in adding cream to spaghetti carbonara which ...      0"
            ]
          },
          "execution_count": 19,
          "metadata": {},
          "output_type": "execute_result"
        }
      ],
      "source": [
        "# откройте данные: ваш код здесь\n",
        "df = pd.read_csv('data\\spam_or_not_spam.csv', sep = ',')\n",
        "df.head()"
      ]
    },
    {
      "cell_type": "code",
      "execution_count": 20,
      "id": "f4231781",
      "metadata": {
        "id": "f4231781"
      },
      "outputs": [],
      "source": [
        "# рассчитайте частоты для классов : ваш код здесь\n",
        "\n",
        "сlass = ['не спам','спам']                                          # Список для расшифровки\n",
        "label_distrib = df.groupby('label').count()                         # группировка данных\n",
        "label_distrib.index = label_distrib.index.map(lambda x: сlass[x])   # Заменяем категории классов на слова"
      ]
    },
    {
      "cell_type": "code",
      "execution_count": 21,
      "id": "9b871636",
      "metadata": {
        "id": "9b871636"
      },
      "outputs": [
        {
          "data": {
            "image/png": "[encoded data removed]",
            "text/plain": [
              "<Figure size 600x400 with 1 Axes>"
            ]
          },
          "metadata": {},
          "output_type": "display_data"
        }
      ],
      "source": [
        "# Визуализируем распределение меток\n",
        "сlass = {1:'спам', 0: 'не спам'}\n",
        "\n",
        "plt.figure(figsize=(6, 4))\n",
        "plt.bar(label_distrib.index.astype(str), label_distrib['email'])\n",
        "plt.xlabel('Класс')\n",
        "plt.ylabel('Количество')\n",
        "plt.title('Распределение по классам')\n",
        "plt.show()"
      ]
    },
    {
      "cell_type": "markdown",
      "id": "b161614b",
      "metadata": {
        "id": "b161614b"
      },
      "source": [
        "## Задание 2 (2 балла)"
      ]
    },
    {
      "cell_type": "markdown",
      "id": "dd29763b",
      "metadata": {
        "id": "dd29763b"
      },
      "source": [
        "Вам необходимо предобработать ваши данные и перевести их в векторный вид. Подгрузим необходимый модуль:"
      ]
    },
    {
      "cell_type": "markdown",
      "id": "89546b95",
      "metadata": {
        "id": "89546b95"
      },
      "source": [
        "Замените в данных все пустые строки и строки, состоящие из пробелов, на пропуски (NaN). После этого удалите из данных все строки, в которых наблюдаются пропущенные значения."
      ]
    },
    {
      "cell_type": "code",
      "execution_count": 22,
      "id": "11193b7d",
      "metadata": {},
      "outputs": [],
      "source": [
        "df_clean = df.copy()"
      ]
    },
    {
      "cell_type": "code",
      "execution_count": 23,
      "id": "45180f82",
      "metadata": {
        "id": "45180f82"
      },
      "outputs": [
        {
          "name": "stderr",
          "output_type": "stream",
          "text": [
            "<>:4: SyntaxWarning: invalid escape sequence '\\W'\n",
            "<>:7: SyntaxWarning: invalid escape sequence '\\s'\n",
            "<>:4: SyntaxWarning: invalid escape sequence '\\W'\n",
            "<>:7: SyntaxWarning: invalid escape sequence '\\s'\n",
            "C:\\Users\\User\\AppData\\Local\\Temp\\ipykernel_3084\\2686548867.py:4: SyntaxWarning: invalid escape sequence '\\W'\n",
            "  df_clean['email'] = df_clean['email'].str.replace('\\W+', ' ', regex=True)\n",
            "C:\\Users\\User\\AppData\\Local\\Temp\\ipykernel_3084\\2686548867.py:7: SyntaxWarning: invalid escape sequence '\\s'\n",
            "  df_clean['email'] = df_clean['email'].str.replace('\\s+', ' ', regex=True).str.strip()\n"
          ]
        }
      ],
      "source": [
        "#ваш код здесь\n",
        "\n",
        "# Заменяем все несловесные символы (кроме букв и цифр) на пробел\n",
        "df_clean['email'] = df_clean['email'].str.replace('\\W+', ' ', regex=True)\n",
        "\n",
        "# Заменяем множественные пробелы на один пробел и удаляем начальные и конечные пробелы\n",
        "df_clean['email'] = df_clean['email'].str.replace('\\s+', ' ', regex=True).str.strip()"
      ]
    },
    {
      "cell_type": "code",
      "execution_count": 24,
      "id": "b104b062",
      "metadata": {},
      "outputs": [],
      "source": [
        "# Удаляем пропуски\n",
        "\n",
        "df_clean = df_clean.dropna()"
      ]
    },
    {
      "cell_type": "markdown",
      "id": "2ca2fe88",
      "metadata": {
        "id": "2ca2fe88"
      },
      "source": [
        "Переводим данные в векторный вид:"
      ]
    },
    {
      "cell_type": "code",
      "execution_count": 25,
      "id": "29e9a37b",
      "metadata": {
        "id": "29e9a37b"
      },
      "outputs": [],
      "source": [
        "vectorizer = CountVectorizer()\n",
        "X = vectorizer.fit_transform(df_clean[\"email\"])"
      ]
    },
    {
      "cell_type": "markdown",
      "id": "88c8b726",
      "metadata": {
        "id": "88c8b726"
      },
      "source": [
        "Определите, сколько теперь признаков в нашем наборе данных:"
      ]
    },
    {
      "cell_type": "code",
      "execution_count": 10,
      "id": "f19c2a02",
      "metadata": {
        "id": "f19c2a02"
      },
      "outputs": [
        {
          "data": {
            "text/plain": [
              "(2999, 34116)"
            ]
          },
          "execution_count": 10,
          "metadata": {},
          "output_type": "execute_result"
        }
      ],
      "source": [
        "#ваш код здесь\n",
        "X.shape"
      ]
    },
    {
      "cell_type": "markdown",
      "id": "293d772d",
      "metadata": {},
      "source": [
        "> Итого после векторизации данных, колчиство столбцов равно количеству уникальных слов в сообщениях\n",
        "\n",
        "> Также удалилась одна строка после очитки данных от NaN значений"
      ]
    },
    {
      "cell_type": "markdown",
      "id": "1803f282",
      "metadata": {
        "id": "1803f282"
      },
      "source": [
        "## Задание 3 (2 балла)"
      ]
    },
    {
      "cell_type": "markdown",
      "id": "39f400b7",
      "metadata": {
        "id": "39f400b7"
      },
      "source": [
        "Определите целевую переменную и признаки:"
      ]
    },
    {
      "cell_type": "code",
      "execution_count": 26,
      "id": "31f1acb6",
      "metadata": {
        "id": "31f1acb6"
      },
      "outputs": [],
      "source": [
        "#ваш код здесь\n",
        "y = df_clean[\"label\"]"
      ]
    },
    {
      "cell_type": "markdown",
      "id": "b20f273e",
      "metadata": {
        "id": "b20f273e"
      },
      "source": [
        "Разделите выборку на обучающую и тестовую, используя стратифицированное разбиение (параметр `stratify` установите в значение вектора ответов y) размер тестовой выборки (`test_size`) возьмите как 0.25, параметр `random_state` определите со значением 42:"
      ]
    },
    {
      "cell_type": "code",
      "execution_count": 27,
      "id": "96538fb6",
      "metadata": {
        "id": "96538fb6"
      },
      "outputs": [],
      "source": [
        "#ваш код здесь\n",
        "\n",
        "X_train, X_test, y_train, y_test = train_test_split(X, y, test_size=0.25, stratify=y, random_state=1)"
      ]
    },
    {
      "cell_type": "markdown",
      "id": "139dac3d",
      "metadata": {
        "id": "139dac3d"
      },
      "source": [
        "Рассчитайте среднее значение целевой переменной по тестовой выборке:"
      ]
    },
    {
      "cell_type": "code",
      "execution_count": 28,
      "id": "e9baf72d",
      "metadata": {
        "id": "e9baf72d"
      },
      "outputs": [
        {
          "name": "stdout",
          "output_type": "stream",
          "text": [
            "распределение тестовой выборки 0.17\n",
            "распределение тренировочной выборки 0.17\n"
          ]
        }
      ],
      "source": [
        "#ваш код здесь\n",
        "\n",
        "print(f'распределение тестовой выборки {round(y_test.mean(),2)}')\n",
        "print(f'распределение тренировочной выборки {round(y_train.mean(),2)}')"
      ]
    },
    {
      "cell_type": "markdown",
      "id": "8be6fc47",
      "metadata": {},
      "source": [
        "> Целевой признак распределён равномерно"
      ]
    },
    {
      "cell_type": "markdown",
      "id": "710e0e94",
      "metadata": {
        "id": "710e0e94"
      },
      "source": [
        "## Задание 4 (3 балла)"
      ]
    },
    {
      "cell_type": "markdown",
      "id": "26cf6885",
      "metadata": {
        "id": "26cf6885"
      },
      "source": [
        "Определите и обучите подходящий алгоритм с параметром alpha = 0.01"
      ]
    },
    {
      "cell_type": "code",
      "execution_count": null,
      "id": "4865dd78",
      "metadata": {
        "id": "4865dd78"
      },
      "outputs": [],
      "source": [
        "#ваш код здесь\n",
        "\n",
        "clf = MultinomialNB(alpha=0.01)\n",
        "clf.fit(X_train, y_train)\n",
        "\n",
        "y_test_pred = clf.predict(X_test)"
      ]
    },
    {
      "cell_type": "markdown",
      "id": "d803fbe3",
      "metadata": {
        "id": "d803fbe3"
      },
      "source": [
        "Оцените результат с точки зрения всех известных вам метрик (не менее трёх):"
      ]
    },
    {
      "cell_type": "code",
      "execution_count": 67,
      "id": "b0bbc4d2",
      "metadata": {
        "id": "b0bbc4d2"
      },
      "outputs": [
        {
          "name": "stdout",
          "output_type": "stream",
          "text": [
            "Accuracy: 0.987\n",
            "Рrecision: 0.975\n",
            "f1_score: 0.959\n"
          ]
        }
      ],
      "source": [
        "#ваш код здесь\n",
        "\n",
        "print(f\"Accuracy: {round(accuracy_score(y_test, y_test_pred),3)}\")\n",
        "print(f\"Рrecision: {round(precision_score(y_test, y_test_pred),3)}\")\n",
        "print(f\"f1_score: {round(f1_score(y_test, y_test_pred),3)}\")"
      ]
    },
    {
      "cell_type": "markdown",
      "id": "4ab3229e",
      "metadata": {},
      "source": [
        "> Метрики высокие, значения близки к 1"
      ]
    },
    {
      "cell_type": "markdown",
      "id": "c85976d1",
      "metadata": {
        "id": "c85976d1"
      },
      "source": [
        "Нарисуйте ROC-кривую:"
      ]
    },
    {
      "cell_type": "code",
      "execution_count": null,
      "id": "b4195126",
      "metadata": {
        "id": "b4195126"
      },
      "outputs": [
        {
          "data": {
            "image/png": "[encoded data removed]",
            "text/plain": [
              "<Figure size 640x480 with 1 Axes>"
            ]
          },
          "metadata": {},
          "output_type": "display_data"
        }
      ],
      "source": [
        "#ваш код здесь\n",
        "\n",
        "# Получение вероятностей для положительного класса\n",
        "y_proba = clf.predict_proba(X_test)[:, 1]\n",
        "\n",
        "# Вычисление координат ROC-кривой\n",
        "fpr, tpr, thresholds = roc_curve(y_test, y_proba)\n",
        "roc_auc = auc(fpr, tpr)\n",
        "\n",
        "# Построение графика\n",
        "plt.figure()\n",
        "plt.plot(fpr, tpr, label='ROC-кривая (AUC = %0.2f)' % roc_auc)\n",
        "plt.xlabel('False Positive Rate')\n",
        "plt.ylabel('True Positive Rate')\n",
        "plt.title('ROC-кривая')\n",
        "plt.legend(loc='lower right')\n",
        "plt.grid()\n",
        "plt.show()"
      ]
    },
    {
      "cell_type": "markdown",
      "id": "cf0bb49b",
      "metadata": {
        "id": "cf0bb49b"
      },
      "source": [
        "## Задание 5 (3 балла)"
      ]
    },
    {
      "cell_type": "markdown",
      "id": "30b7a0ae",
      "metadata": {
        "id": "30b7a0ae"
      },
      "source": [
        "Переберите несколько значений alpha с помощью кросс-валидации. Оцените, зависит ли от этого параметра качество классификации."
      ]
    },
    {
      "cell_type": "code",
      "execution_count": 29,
      "id": "3513d907",
      "metadata": {
        "id": "3513d907"
      },
      "outputs": [
        {
          "name": "stdout",
          "output_type": "stream",
          "text": [
            "alpha=0.001\n",
            "accuracy: 0.987\n",
            "precision: 0.986\n",
            "precision: 0.975\n",
            "_____________________\n",
            "alpha=0.010\n",
            "accuracy: 0.991\n",
            "precision: 0.990\n",
            "precision: 0.983\n",
            "_____________________\n",
            "alpha=0.100\n",
            "accuracy: 0.991\n",
            "precision: 0.985\n",
            "precision: 0.984\n",
            "_____________________\n",
            "alpha=1.000\n",
            "accuracy: 0.993\n",
            "precision: 0.990\n",
            "precision: 0.987\n",
            "_____________________\n",
            "alpha=2.000\n",
            "accuracy: 0.985\n",
            "precision: 0.991\n",
            "precision: 0.972\n",
            "_____________________\n",
            "alpha=5.000\n",
            "accuracy: 0.935\n",
            "precision: 0.964\n",
            "precision: 0.858\n",
            "_____________________\n"
          ]
        }
      ],
      "source": [
        "#ваш код здесь\n",
        "\n",
        "alphas = [0.001, 0.01, 0.1, 1, 2, 5]\n",
        "acc_scores = []\n",
        "prec_scores = []\n",
        "f1_scores = []\n",
        "\n",
        "for alpha in alphas:\n",
        "    clf = MultinomialNB(alpha=alpha)\n",
        "    \n",
        "    acc = cross_val_score(clf, X_train, y_train, cv=5, scoring='accuracy').mean()\n",
        "    prec = cross_val_score(clf, X_train, y_train, cv=5, scoring='precision_macro').mean()\n",
        "    f1 = cross_val_score(clf, X_train, y_train, cv=5, scoring='f1_macro').mean()\n",
        "    \n",
        "    acc_scores.append(acc)\n",
        "    prec_scores.append(prec)\n",
        "    f1_scores.append(f1)\n",
        "\n",
        "    print(f'alpha={alpha:.3F}')\n",
        "    print(f'accuracy: {acc:.3F}')\n",
        "    print(f'precision: {prec:.3F}')\n",
        "    print(f'precision: {f1:.3F}')\n",
        "    print('_____________________')"
      ]
    },
    {
      "cell_type": "markdown",
      "id": "7f53fb3e",
      "metadata": {},
      "source": [
        "> Наилучашая метрика достигается при **alpha = 1**, при значениях **aplpha > 1** метрики падают"
      ]
    }
  ],
  "metadata": {
    "colab": {
      "name": "SGA_unit6_NBC.ipynb",
      "provenance": []
    },
    "kernelspec": {
      "display_name": "Python 3",
      "language": "python",
      "name": "python3"
    },
    "language_info": {
      "codemirror_mode": {
        "name": "ipython",
        "version": 3
      },
      "file_extension": ".py",
      "mimetype": "text/x-python",
      "name": "python",
      "nbconvert_exporter": "python",
      "pygments_lexer": "ipython3",
      "version": "3.12.8"
    }
  },
  "nbformat": 4,
  "nbformat_minor": 5
}
