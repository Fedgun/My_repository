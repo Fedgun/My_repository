{
 "cells": [
  {
   "cell_type": "markdown",
   "metadata": {},
   "source": [
    "### База"
   ]
  },
  {
   "cell_type": "code",
   "execution_count": null,
   "metadata": {},
   "outputs": [],
   "source": [
    "# pip install pandas\n",
    "import pandas as pd\n",
    "\n",
    "# pip install pandas\n",
    "import numpy as pd\n",
    "\n",
    "# re — это стандартный модуль Python для работы с регулярными выражениями. Позволяет искать, заменять и проверять соответствие строк заданным шаблонам\n",
    "import re "
   ]
  },
  {
   "cell_type": "markdown",
   "metadata": {},
   "source": [
    "### Визуализация данных"
   ]
  },
  {
   "cell_type": "code",
   "execution_count": null,
   "metadata": {},
   "outputs": [],
   "source": [
    "# Библиотеки визуализации\n",
    "\n",
    "import matplotlib.pyplot as plt\n",
    "import seaborn as sns\n",
    "import plotly as plot\n",
    "import plotly.express as px\n"
   ]
  },
  {
   "cell_type": "markdown",
   "metadata": {},
   "source": [
    "### Выгрузка данных"
   ]
  },
  {
   "cell_type": "code",
   "execution_count": null,
   "metadata": {},
   "outputs": [],
   "source": [
    "# Для работы с данными в формате JSON используется модуль json из стандартной библиотеки языка Python, который необходимо будет загрузить перед началом работы с данными, выполнив следующую команду:\n",
    "\n",
    "import json\n",
    "\n",
    "# Также нам может быть полезен модуль pprint  (от англ. pretty print, рус. красивый вывод на экран), а точнее — встроенная в него одноимённая функция pprint(), \n",
    "# с помощью которой можно красиво выводить на экран содержимое JSON-файла. Для загрузки нужной нам функции перед началом работы выполним следующий код:\n",
    "from pprint import pprint\n",
    "\n",
    "# Для работы с XML-файлами мы будем использовать модуль ElementTree , \n",
    "# входящий в стандартный пакет xml. Этот модуль позволит нам «перемещаться» по дереву XML и смотреть, что находится в каждом его узле, начиная с корня и заканчивая листьями.\n",
    "import xml.etree.ElementTree as ET"
   ]
  },
  {
   "cell_type": "markdown",
   "metadata": {},
   "source": [
    "### SQL"
   ]
  },
  {
   "cell_type": "code",
   "execution_count": null,
   "metadata": {},
   "outputs": [],
   "source": [
    "import psycopg2"
   ]
  },
  {
   "cell_type": "markdown",
   "metadata": {},
   "source": [
    "### EDA/ML"
   ]
  },
  {
   "cell_type": "code",
   "execution_count": null,
   "metadata": {},
   "outputs": [],
   "source": [
    "# Для расчёта этих описательных статистик (statistics.mean, statistics.median, statistics.mode)\n",
    "import statistics\n",
    "\n",
    "from scipy import stats # библиотека для расчетов (stats.probplot(wine_data['price'], plot=plt)) - корреляция Пирсона\n",
    "\n",
    "import scipy.stats as stats # Статистические тесты\n",
    "\n",
    "from statsmodels.stats.anova import AnovaRM # Стат тест AnovaRM\n",
    "\n",
    "from statsmodels.stats.contingency_tables import mcnemar # Стат тест МАК-НЕМАРА\n",
    "\n",
    "# scikit-learn— это библиотека с реализацией готовых алгоритмов для машинного обучения. Более подробно вы познакомитесь с ней в модулях, посвящённых машинному обучению.\n",
    "\n",
    "from sklearn.metrics import matthews_corrcoef #Пример - импорт метрики matthews_corrcoef\n",
    "\n",
    "from sklearn import preprocessing #Пример импорт функций стандартизации или нормализации\n",
    "\n",
    "# Функции sklearn\n",
    "print(dir(sklearn))\n",
    "print(dir(sklearn.linear_model))\n",
    "\n",
    "# Кодирование признаков\n",
    "\n",
    "import category_encoders as ce \n",
    "\n",
    "\n",
    "import statsmodels.api as sm # Квантиль-квантиль график (Q-Q Plot)\n",
    "\n",
    "import warnings # для игнорирования предупреждений\n",
    "#Игнорируем варнинги\n",
    "warnings.filterwarnings('ignore')\n",
    "\n",
    "# Comet\n",
    "\n",
    "from comet_ml import Experiment"
   ]
  },
  {
   "cell_type": "code",
   "execution_count": null,
   "metadata": {},
   "outputs": [],
   "source": [
    "# Основные для ML\n",
    "\n",
    "#импорт библиотек\n",
    "import numpy as np #для матричных вычислений\n",
    "import pandas as pd #для анализа и предобработки данных\n",
    "import matplotlib.pyplot as plt #для визуализации\n",
    "import seaborn as sns #для визуализации\n",
    "\n",
    "from sklearn import linear_model #линейные модели\n",
    "from sklearn import tree #деревья решений\n",
    "from sklearn import ensemble #ансамбли\n",
    "from sklearn import metrics #метрики\n",
    "from sklearn import preprocessing #предобработка\n",
    "from sklearn.model_selection import train_test_split #сплитование выборки\n",
    "\n",
    "# импортируем алгомеративную кластеризацию из sklearn\n",
    "from sklearn.cluster import AgglomerativeClustering\n",
    "\n",
    "#Дендограммы\n",
    "from scipy.cluster.hierarchy import dendrogram, linkage\n",
    "from matplotlib import pyplot as plt\n",
    "\n",
    "from sklearn import model_selection #методы разделения и валидации\n",
    "from sklearn.model_selection import train_test_split \n",
    "\n",
    "# Стекинг\n",
    "from sklearn.linear_model import RidgeCV\n",
    "\n",
    "# для подбора гиперапараметров\n",
    "from sklearn.model_selection import GridSearchCV\n",
    "from sklearn.model_selection import RandomizedSearchCV\n",
    "from sklearn.model_selection import cross_val_score\n",
    "import hyperopt\n",
    "from hyperopt import hp, fmin, tpe, Trials\n",
    "\n",
    "# Пайплайны\n",
    "from sklearn.pipeline import Pipeline\n",
    "\n",
    "#Для Metric Learning\n",
    "from sklearn.cluster import KMeans # Метод кластеризации\n",
    "from sklearn.decomposition import PCA\n",
    "from sklearn.metrics.pairwise import cosine_similarity"
   ]
  }
 ],
 "metadata": {
  "language_info": {
   "name": "python"
  }
 },
 "nbformat": 4,
 "nbformat_minor": 2
}
